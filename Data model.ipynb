{
 "cells": [
  {
   "cell_type": "code",
   "execution_count": 125,
   "metadata": {
    "collapsed": false
   },
   "outputs": [
    {
     "name": "stdout",
     "output_type": "stream",
     "text": [
      "Populating the interactive namespace from numpy and matplotlib\n"
     ]
    }
   ],
   "source": [
    "import numpy as np\n",
    "import warnings\n",
    "warnings.simplefilter('ignore')\n",
    "import pandas as pd\n",
    "%pylab inline\n",
    "#import seaborn as sns\n",
    "import matplotlib.pyplot as plt\n",
    "\n",
    "from sklearn.metrics.regression import mean_squared_error\n",
    "from sklearn.metrics import classification_report,r2_score, roc_curve,roc_auc_score, f1_score\n",
    "\n",
    "from sklearn.preprocessing import StandardScaler\n",
    "from sklearn.cross_validation import cross_val_score, train_test_split\n",
    "from sklearn.feature_selection import SelectKBest\n",
    "\n",
    "from sklearn.ensemble import RandomForestRegressor\n",
    "from sklearn.linear_model import LogisticRegression,LinearRegression, LassoCV, Lasso "
   ]
  },
  {
   "cell_type": "code",
   "execution_count": 70,
   "metadata": {
    "collapsed": false
   },
   "outputs": [
    {
     "data": {
      "text/html": [
       "<div>\n",
       "<table border=\"1\" class=\"dataframe\">\n",
       "  <thead>\n",
       "    <tr style=\"text-align: right;\">\n",
       "      <th></th>\n",
       "      <th>Date</th>\n",
       "      <th>vol_tot</th>\n",
       "      <th>vol_rub</th>\n",
       "      <th>vol_ccy</th>\n",
       "      <th>expo_tot</th>\n",
       "      <th>expo_rub</th>\n",
       "      <th>expo_ccy</th>\n",
       "      <th>npl_tot</th>\n",
       "      <th>npl_rub</th>\n",
       "      <th>npl_ccy</th>\n",
       "      <th>...</th>\n",
       "      <th>wage</th>\n",
       "      <th>d_wage</th>\n",
       "      <th>rt3m</th>\n",
       "      <th>d_rt3m</th>\n",
       "      <th>d_GPD</th>\n",
       "      <th>f_dec</th>\n",
       "      <th>f_jan</th>\n",
       "      <th>unp</th>\n",
       "      <th>cpi</th>\n",
       "      <th>d_cpi</th>\n",
       "    </tr>\n",
       "  </thead>\n",
       "  <tbody>\n",
       "    <tr>\n",
       "      <th>0</th>\n",
       "      <td>2009-04-01</td>\n",
       "      <td>456779.2</td>\n",
       "      <td>424697.2</td>\n",
       "      <td>32082.0</td>\n",
       "      <td>3848399.0</td>\n",
       "      <td>3341053.6</td>\n",
       "      <td>507345.4</td>\n",
       "      <td>180597.6</td>\n",
       "      <td>155980.0</td>\n",
       "      <td>24617.6</td>\n",
       "      <td>...</td>\n",
       "      <td>18009</td>\n",
       "      <td>0.000000</td>\n",
       "      <td>16.53</td>\n",
       "      <td>0.00</td>\n",
       "      <td>-0.035002</td>\n",
       "      <td>0</td>\n",
       "      <td>0</td>\n",
       "      <td>8.3</td>\n",
       "      <td>100.7</td>\n",
       "      <td>0.0</td>\n",
       "    </tr>\n",
       "    <tr>\n",
       "      <th>1</th>\n",
       "      <td>2009-05-01</td>\n",
       "      <td>228701.0</td>\n",
       "      <td>216410.3</td>\n",
       "      <td>12290.7</td>\n",
       "      <td>3791289.5</td>\n",
       "      <td>3300033.5</td>\n",
       "      <td>491256.0</td>\n",
       "      <td>193421.9</td>\n",
       "      <td>166553.5</td>\n",
       "      <td>26868.4</td>\n",
       "      <td>...</td>\n",
       "      <td>18007</td>\n",
       "      <td>-0.000111</td>\n",
       "      <td>16.04</td>\n",
       "      <td>-0.49</td>\n",
       "      <td>-0.035002</td>\n",
       "      <td>0</td>\n",
       "      <td>0</td>\n",
       "      <td>8.3</td>\n",
       "      <td>100.6</td>\n",
       "      <td>-0.1</td>\n",
       "    </tr>\n",
       "    <tr>\n",
       "      <th>2</th>\n",
       "      <td>2009-06-01</td>\n",
       "      <td>221268.3</td>\n",
       "      <td>212818.6</td>\n",
       "      <td>8449.7</td>\n",
       "      <td>3722873.1</td>\n",
       "      <td>3266609.3</td>\n",
       "      <td>456263.8</td>\n",
       "      <td>202671.2</td>\n",
       "      <td>176069.2</td>\n",
       "      <td>26602.0</td>\n",
       "      <td>...</td>\n",
       "      <td>19247</td>\n",
       "      <td>0.068862</td>\n",
       "      <td>12.49</td>\n",
       "      <td>-3.55</td>\n",
       "      <td>-0.035002</td>\n",
       "      <td>0</td>\n",
       "      <td>0</td>\n",
       "      <td>8.3</td>\n",
       "      <td>100.6</td>\n",
       "      <td>0.0</td>\n",
       "    </tr>\n",
       "    <tr>\n",
       "      <th>3</th>\n",
       "      <td>2009-07-01</td>\n",
       "      <td>266435.9</td>\n",
       "      <td>256395.6</td>\n",
       "      <td>10040.3</td>\n",
       "      <td>3683033.9</td>\n",
       "      <td>3232124.6</td>\n",
       "      <td>450909.3</td>\n",
       "      <td>209446.2</td>\n",
       "      <td>182799.5</td>\n",
       "      <td>26646.7</td>\n",
       "      <td>...</td>\n",
       "      <td>18872</td>\n",
       "      <td>-0.019484</td>\n",
       "      <td>11.81</td>\n",
       "      <td>-0.68</td>\n",
       "      <td>-0.065562</td>\n",
       "      <td>0</td>\n",
       "      <td>0</td>\n",
       "      <td>8.3</td>\n",
       "      <td>100.6</td>\n",
       "      <td>0.0</td>\n",
       "    </tr>\n",
       "    <tr>\n",
       "      <th>4</th>\n",
       "      <td>2009-08-01</td>\n",
       "      <td>232492.2</td>\n",
       "      <td>221958.4</td>\n",
       "      <td>10533.8</td>\n",
       "      <td>3667260.9</td>\n",
       "      <td>3218173.3</td>\n",
       "      <td>449087.6</td>\n",
       "      <td>217713.4</td>\n",
       "      <td>190062.3</td>\n",
       "      <td>27651.1</td>\n",
       "      <td>...</td>\n",
       "      <td>18335</td>\n",
       "      <td>-0.028455</td>\n",
       "      <td>11.89</td>\n",
       "      <td>0.08</td>\n",
       "      <td>-0.065562</td>\n",
       "      <td>0</td>\n",
       "      <td>0</td>\n",
       "      <td>8.3</td>\n",
       "      <td>100.0</td>\n",
       "      <td>-0.6</td>\n",
       "    </tr>\n",
       "  </tbody>\n",
       "</table>\n",
       "<p>5 rows × 23 columns</p>\n",
       "</div>"
      ],
      "text/plain": [
       "        Date   vol_tot   vol_rub  vol_ccy   expo_tot   expo_rub  expo_ccy  \\\n",
       "0 2009-04-01  456779.2  424697.2  32082.0  3848399.0  3341053.6  507345.4   \n",
       "1 2009-05-01  228701.0  216410.3  12290.7  3791289.5  3300033.5  491256.0   \n",
       "2 2009-06-01  221268.3  212818.6   8449.7  3722873.1  3266609.3  456263.8   \n",
       "3 2009-07-01  266435.9  256395.6  10040.3  3683033.9  3232124.6  450909.3   \n",
       "4 2009-08-01  232492.2  221958.4  10533.8  3667260.9  3218173.3  449087.6   \n",
       "\n",
       "    npl_tot   npl_rub  npl_ccy  ...     wage    d_wage   rt3m  d_rt3m  \\\n",
       "0  180597.6  155980.0  24617.6  ...    18009  0.000000  16.53    0.00   \n",
       "1  193421.9  166553.5  26868.4  ...    18007 -0.000111  16.04   -0.49   \n",
       "2  202671.2  176069.2  26602.0  ...    19247  0.068862  12.49   -3.55   \n",
       "3  209446.2  182799.5  26646.7  ...    18872 -0.019484  11.81   -0.68   \n",
       "4  217713.4  190062.3  27651.1  ...    18335 -0.028455  11.89    0.08   \n",
       "\n",
       "      d_GPD  f_dec  f_jan  unp    cpi  d_cpi  \n",
       "0 -0.035002      0      0  8.3  100.7    0.0  \n",
       "1 -0.035002      0      0  8.3  100.6   -0.1  \n",
       "2 -0.035002      0      0  8.3  100.6    0.0  \n",
       "3 -0.065562      0      0  8.3  100.6    0.0  \n",
       "4 -0.065562      0      0  8.3  100.0   -0.6  \n",
       "\n",
       "[5 rows x 23 columns]"
      ]
     },
     "execution_count": 70,
     "metadata": {},
     "output_type": "execute_result"
    }
   ],
   "source": [
    "xls_file = pd.ExcelFile('retail_vol_ccy_w_rt.xlsx')\n",
    "df = xls_file.parse('Total')\n",
    "df.head()"
   ]
  },
  {
   "cell_type": "code",
   "execution_count": 107,
   "metadata": {
    "collapsed": false
   },
   "outputs": [
    {
     "data": {
      "text/plain": [
       "0    95\n",
       "1     8\n",
       "Name: f_dec, dtype: int64"
      ]
     },
     "execution_count": 107,
     "metadata": {},
     "output_type": "execute_result"
    }
   ],
   "source": [
    "df['f_dec'].value_counts()"
   ]
  },
  {
   "cell_type": "code",
   "execution_count": 123,
   "metadata": {
    "collapsed": false
   },
   "outputs": [
    {
     "data": {
      "image/png": "[encoded data removed]",
      "text/plain": [
       "<matplotlib.figure.Figure at 0xfed58f0>"
      ]
     },
     "metadata": {},
     "output_type": "display_data"
    }
   ],
   "source": [
    "plt.plot(df['d_rubusd'] ,c = 'red')\n",
    "plt.plot(df['d_rt3m'],c = 'green')\n",
    "#plt.plot(df['d_wage']*20,c = 'black')\n",
    "plt.plot(df['d_GPD']*50,c = 'blue')\n",
    "plt.show()"
   ]
  },
  {
   "cell_type": "code",
   "execution_count": 73,
   "metadata": {
    "collapsed": false
   },
   "outputs": [],
   "source": [
    "predictors = list(set(['d_rubusd','d_wage','d_rt3m','d_GPD','f_dec','f_jan','unp' ,'d_cpi']))#'wage',"
   ]
  },
  {
   "cell_type": "code",
   "execution_count": 74,
   "metadata": {
    "collapsed": false
   },
   "outputs": [
    {
     "data": {
      "text/plain": [
       "array([[<matplotlib.axes._subplots.AxesSubplot object at 0x07121930>,\n",
       "        <matplotlib.axes._subplots.AxesSubplot object at 0x0EDAF070>,\n",
       "        <matplotlib.axes._subplots.AxesSubplot object at 0x0F36BE10>],\n",
       "       [<matplotlib.axes._subplots.AxesSubplot object at 0x0F53D950>,\n",
       "        <matplotlib.axes._subplots.AxesSubplot object at 0x0F55FA90>,\n",
       "        <matplotlib.axes._subplots.AxesSubplot object at 0x0F589890>],\n",
       "       [<matplotlib.axes._subplots.AxesSubplot object at 0x0F593390>,\n",
       "        <matplotlib.axes._subplots.AxesSubplot object at 0x0EDD8CF0>,\n",
       "        <matplotlib.axes._subplots.AxesSubplot object at 0x0DBB92D0>]], dtype=object)"
      ]
     },
     "execution_count": 74,
     "metadata": {},
     "output_type": "execute_result"
    },
    {
     "data": {
      "image/png": "[encoded data removed]",
      "text/plain": [
       "<matplotlib.figure.Figure at 0x7372090>"
      ]
     },
     "metadata": {},
     "output_type": "display_data"
    }
   ],
   "source": [
    "df[predictors].hist()"
   ]
  },
  {
   "cell_type": "code",
   "execution_count": 124,
   "metadata": {
    "collapsed": false
   },
   "outputs": [
    {
     "data": {
      "text/plain": [
       "<matplotlib.collections.PathCollection at 0xf75d5b0>"
      ]
     },
     "execution_count": 124,
     "metadata": {},
     "output_type": "execute_result"
    },
    {
     "data": {
      "image/png": "[encoded data removed]",
      "text/plain": [
       "<matplotlib.figure.Figure at 0xfc66b30>"
      ]
     },
     "metadata": {},
     "output_type": "display_data"
    }
   ],
   "source": [
    "fig, ax = plt.subplots()\n",
    "ax.scatter(df['portf_gr'], df['d_GPD'])"
   ]
  },
  {
   "cell_type": "code",
   "execution_count": 75,
   "metadata": {
    "collapsed": true
   },
   "outputs": [],
   "source": [
    "#Пока берем в качестве обучающей выборки всю выборку\n",
    "#X_train = df[predictors]\n",
    "#y_train = df['portf_gr']\n",
    "\n",
    "#X_test = df[predictors].copy()\n",
    "#y_test = df['portf_gr'].copy()"
   ]
  },
  {
   "cell_type": "markdown",
   "metadata": {},
   "source": [
    "Смотрим на корреляции признаков"
   ]
  },
  {
   "cell_type": "code",
   "execution_count": 76,
   "metadata": {
    "collapsed": false
   },
   "outputs": [
    {
     "data": {
      "text/html": [
       "<div>\n",
       "<table border=\"1\" class=\"dataframe\">\n",
       "  <thead>\n",
       "    <tr style=\"text-align: right;\">\n",
       "      <th></th>\n",
       "      <th>d_wage</th>\n",
       "      <th>d_GPD</th>\n",
       "      <th>d_cpi</th>\n",
       "      <th>d_rt3m</th>\n",
       "      <th>f_jan</th>\n",
       "      <th>d_rubusd</th>\n",
       "      <th>f_dec</th>\n",
       "      <th>unp</th>\n",
       "    </tr>\n",
       "  </thead>\n",
       "  <tbody>\n",
       "    <tr>\n",
       "      <th>d_wage</th>\n",
       "      <td>1.000000</td>\n",
       "      <td>0.000807</td>\n",
       "      <td>-0.119367</td>\n",
       "      <td>-0.174949</td>\n",
       "      <td>-0.675175</td>\n",
       "      <td>0.021355</td>\n",
       "      <td>0.734719</td>\n",
       "      <td>0.064783</td>\n",
       "    </tr>\n",
       "    <tr>\n",
       "      <th>d_GPD</th>\n",
       "      <td>0.000807</td>\n",
       "      <td>1.000000</td>\n",
       "      <td>0.024816</td>\n",
       "      <td>0.216277</td>\n",
       "      <td>0.016195</td>\n",
       "      <td>0.013677</td>\n",
       "      <td>-0.005812</td>\n",
       "      <td>-0.455573</td>\n",
       "    </tr>\n",
       "    <tr>\n",
       "      <th>d_cpi</th>\n",
       "      <td>-0.119367</td>\n",
       "      <td>0.024816</td>\n",
       "      <td>1.000000</td>\n",
       "      <td>0.426735</td>\n",
       "      <td>0.385821</td>\n",
       "      <td>0.090478</td>\n",
       "      <td>0.143649</td>\n",
       "      <td>-0.017277</td>\n",
       "    </tr>\n",
       "    <tr>\n",
       "      <th>d_rt3m</th>\n",
       "      <td>-0.174949</td>\n",
       "      <td>0.216277</td>\n",
       "      <td>0.426735</td>\n",
       "      <td>1.000000</td>\n",
       "      <td>0.314184</td>\n",
       "      <td>0.292862</td>\n",
       "      <td>0.061294</td>\n",
       "      <td>-0.194898</td>\n",
       "    </tr>\n",
       "    <tr>\n",
       "      <th>f_jan</th>\n",
       "      <td>-0.675175</td>\n",
       "      <td>0.016195</td>\n",
       "      <td>0.385821</td>\n",
       "      <td>0.314184</td>\n",
       "      <td>1.000000</td>\n",
       "      <td>0.088118</td>\n",
       "      <td>-0.084211</td>\n",
       "      <td>-0.068288</td>\n",
       "    </tr>\n",
       "    <tr>\n",
       "      <th>d_rubusd</th>\n",
       "      <td>0.021355</td>\n",
       "      <td>0.013677</td>\n",
       "      <td>0.090478</td>\n",
       "      <td>0.292862</td>\n",
       "      <td>0.088118</td>\n",
       "      <td>1.000000</td>\n",
       "      <td>0.162036</td>\n",
       "      <td>-0.104354</td>\n",
       "    </tr>\n",
       "    <tr>\n",
       "      <th>f_dec</th>\n",
       "      <td>0.734719</td>\n",
       "      <td>-0.005812</td>\n",
       "      <td>0.143649</td>\n",
       "      <td>0.061294</td>\n",
       "      <td>-0.084211</td>\n",
       "      <td>0.162036</td>\n",
       "      <td>1.000000</td>\n",
       "      <td>0.038185</td>\n",
       "    </tr>\n",
       "    <tr>\n",
       "      <th>unp</th>\n",
       "      <td>0.064783</td>\n",
       "      <td>-0.455573</td>\n",
       "      <td>-0.017277</td>\n",
       "      <td>-0.194898</td>\n",
       "      <td>-0.068288</td>\n",
       "      <td>-0.104354</td>\n",
       "      <td>0.038185</td>\n",
       "      <td>1.000000</td>\n",
       "    </tr>\n",
       "  </tbody>\n",
       "</table>\n",
       "</div>"
      ],
      "text/plain": [
       "            d_wage     d_GPD     d_cpi    d_rt3m     f_jan  d_rubusd  \\\n",
       "d_wage    1.000000  0.000807 -0.119367 -0.174949 -0.675175  0.021355   \n",
       "d_GPD     0.000807  1.000000  0.024816  0.216277  0.016195  0.013677   \n",
       "d_cpi    -0.119367  0.024816  1.000000  0.426735  0.385821  0.090478   \n",
       "d_rt3m   -0.174949  0.216277  0.426735  1.000000  0.314184  0.292862   \n",
       "f_jan    -0.675175  0.016195  0.385821  0.314184  1.000000  0.088118   \n",
       "d_rubusd  0.021355  0.013677  0.090478  0.292862  0.088118  1.000000   \n",
       "f_dec     0.734719 -0.005812  0.143649  0.061294 -0.084211  0.162036   \n",
       "unp       0.064783 -0.455573 -0.017277 -0.194898 -0.068288 -0.104354   \n",
       "\n",
       "             f_dec       unp  \n",
       "d_wage    0.734719  0.064783  \n",
       "d_GPD    -0.005812 -0.455573  \n",
       "d_cpi     0.143649 -0.017277  \n",
       "d_rt3m    0.061294 -0.194898  \n",
       "f_jan    -0.084211 -0.068288  \n",
       "d_rubusd  0.162036 -0.104354  \n",
       "f_dec     1.000000  0.038185  \n",
       "unp       0.038185  1.000000  "
      ]
     },
     "execution_count": 76,
     "metadata": {},
     "output_type": "execute_result"
    }
   ],
   "source": [
    "corr = df[predictors].corr()\n",
    "corr"
   ]
  },
  {
   "cell_type": "markdown",
   "metadata": {},
   "source": [
    "Разбиваем на обучающую и тестовую выборки"
   ]
  },
  {
   "cell_type": "code",
   "execution_count": 126,
   "metadata": {
    "collapsed": true
   },
   "outputs": [],
   "source": [
    "X_train,X_test,y_train,y_test =train_test_split(df[predictors],df['portf_gr'],random_state=0)"
   ]
  },
  {
   "cell_type": "markdown",
   "metadata": {},
   "source": [
    "Случайный лес"
   ]
  },
  {
   "cell_type": "code",
   "execution_count": 127,
   "metadata": {
    "collapsed": false
   },
   "outputs": [
    {
     "data": {
      "text/html": [
       "<div>\n",
       "<table border=\"1\" class=\"dataframe\">\n",
       "  <thead>\n",
       "    <tr style=\"text-align: right;\">\n",
       "      <th></th>\n",
       "      <th>Importance</th>\n",
       "    </tr>\n",
       "  </thead>\n",
       "  <tbody>\n",
       "    <tr>\n",
       "      <th>d_GPD</th>\n",
       "      <td>0.779910</td>\n",
       "    </tr>\n",
       "    <tr>\n",
       "      <th>d_rt3m</th>\n",
       "      <td>0.085520</td>\n",
       "    </tr>\n",
       "    <tr>\n",
       "      <th>d_rubusd</th>\n",
       "      <td>0.065795</td>\n",
       "    </tr>\n",
       "    <tr>\n",
       "      <th>unp</th>\n",
       "      <td>0.027062</td>\n",
       "    </tr>\n",
       "    <tr>\n",
       "      <th>d_wage</th>\n",
       "      <td>0.026536</td>\n",
       "    </tr>\n",
       "    <tr>\n",
       "      <th>d_cpi</th>\n",
       "      <td>0.014574</td>\n",
       "    </tr>\n",
       "    <tr>\n",
       "      <th>f_jan</th>\n",
       "      <td>0.000360</td>\n",
       "    </tr>\n",
       "    <tr>\n",
       "      <th>f_dec</th>\n",
       "      <td>0.000242</td>\n",
       "    </tr>\n",
       "  </tbody>\n",
       "</table>\n",
       "</div>"
      ],
      "text/plain": [
       "          Importance\n",
       "d_GPD       0.779910\n",
       "d_rt3m      0.085520\n",
       "d_rubusd    0.065795\n",
       "unp         0.027062\n",
       "d_wage      0.026536\n",
       "d_cpi       0.014574\n",
       "f_jan       0.000360\n",
       "f_dec       0.000242"
      ]
     },
     "execution_count": 127,
     "metadata": {},
     "output_type": "execute_result"
    }
   ],
   "source": [
    "forest = RandomForestRegressor(n_estimators=1000, max_depth = 5,\n",
    "                                random_state=42).fit(X_train, y_train)\n",
    "\n",
    "features = pd.DataFrame(forest.feature_importances_,\n",
    "                        index=X_train.columns,columns=['Importance']).sort_values(['Importance'], \n",
    "                                                     ascending=False)\n",
    "test_pred = forest.predict(X_test)\n",
    "features"
   ]
  },
  {
   "cell_type": "code",
   "execution_count": 128,
   "metadata": {
    "collapsed": false
   },
   "outputs": [
    {
     "data": {
      "text/plain": [
       "0.95931331809173692"
      ]
     },
     "execution_count": 128,
     "metadata": {},
     "output_type": "execute_result"
    }
   ],
   "source": [
    "forest.score(X_train, y_train)"
   ]
  },
  {
   "cell_type": "code",
   "execution_count": 129,
   "metadata": {
    "collapsed": false
   },
   "outputs": [
    {
     "name": "stdout",
     "output_type": "stream",
     "text": [
      "7.53248778974e-06\n",
      "5.89666923579e-05\n"
     ]
    }
   ],
   "source": [
    "print(mean_squared_error(forest.predict(X_train), y_train))\n",
    "print(abs(np.mean(cross_val_score(forest, X_train, y_train, scoring='mean_squared_error', n_jobs=-1))))"
   ]
  },
  {
   "cell_type": "markdown",
   "metadata": {},
   "source": [
    "Нормируем выборку"
   ]
  },
  {
   "cell_type": "code",
   "execution_count": 130,
   "metadata": {
    "collapsed": false
   },
   "outputs": [],
   "source": [
    "scaler = StandardScaler()\n",
    "X_train_scaled = scaler.fit_transform(X_train)\n",
    "X_test_scaled = scaler.fit_transform(X_test)"
   ]
  },
  {
   "cell_type": "code",
   "execution_count": 131,
   "metadata": {
    "collapsed": false
   },
   "outputs": [
    {
     "data": {
      "text/html": [
       "<div>\n",
       "<table border=\"1\" class=\"dataframe\">\n",
       "  <thead>\n",
       "    <tr style=\"text-align: right;\">\n",
       "      <th></th>\n",
       "      <th>d_wage</th>\n",
       "      <th>d_GPD</th>\n",
       "      <th>d_cpi</th>\n",
       "      <th>d_rt3m</th>\n",
       "      <th>f_jan</th>\n",
       "      <th>d_rubusd</th>\n",
       "      <th>f_dec</th>\n",
       "      <th>unp</th>\n",
       "    </tr>\n",
       "  </thead>\n",
       "  <tbody>\n",
       "    <tr>\n",
       "      <th>0</th>\n",
       "      <td>-0.104097</td>\n",
       "      <td>-2.594443</td>\n",
       "      <td>-0.013809</td>\n",
       "      <td>-0.566491</td>\n",
       "      <td>-0.316228</td>\n",
       "      <td>-0.844956</td>\n",
       "      <td>-0.290701</td>\n",
       "      <td>2.575556</td>\n",
       "    </tr>\n",
       "    <tr>\n",
       "      <th>1</th>\n",
       "      <td>-2.271832</td>\n",
       "      <td>0.597887</td>\n",
       "      <td>1.049476</td>\n",
       "      <td>-0.003291</td>\n",
       "      <td>3.162278</td>\n",
       "      <td>-0.321622</td>\n",
       "      <td>-0.290701</td>\n",
       "      <td>-0.554221</td>\n",
       "    </tr>\n",
       "    <tr>\n",
       "      <th>2</th>\n",
       "      <td>0.205570</td>\n",
       "      <td>-0.042218</td>\n",
       "      <td>0.411505</td>\n",
       "      <td>-0.193371</td>\n",
       "      <td>-0.316228</td>\n",
       "      <td>-0.909251</td>\n",
       "      <td>-0.290701</td>\n",
       "      <td>-0.512644</td>\n",
       "    </tr>\n",
       "    <tr>\n",
       "      <th>3</th>\n",
       "      <td>0.025831</td>\n",
       "      <td>-1.201083</td>\n",
       "      <td>0.198848</td>\n",
       "      <td>0.024869</td>\n",
       "      <td>-0.316228</td>\n",
       "      <td>-0.524725</td>\n",
       "      <td>-0.290701</td>\n",
       "      <td>-0.478895</td>\n",
       "    </tr>\n",
       "    <tr>\n",
       "      <th>4</th>\n",
       "      <td>0.286952</td>\n",
       "      <td>0.403634</td>\n",
       "      <td>-0.651780</td>\n",
       "      <td>-0.200411</td>\n",
       "      <td>-0.316228</td>\n",
       "      <td>-0.560724</td>\n",
       "      <td>-0.290701</td>\n",
       "      <td>-0.889554</td>\n",
       "    </tr>\n",
       "  </tbody>\n",
       "</table>\n",
       "</div>"
      ],
      "text/plain": [
       "     d_wage     d_GPD     d_cpi    d_rt3m     f_jan  d_rubusd     f_dec  \\\n",
       "0 -0.104097 -2.594443 -0.013809 -0.566491 -0.316228 -0.844956 -0.290701   \n",
       "1 -2.271832  0.597887  1.049476 -0.003291  3.162278 -0.321622 -0.290701   \n",
       "2  0.205570 -0.042218  0.411505 -0.193371 -0.316228 -0.909251 -0.290701   \n",
       "3  0.025831 -1.201083  0.198848  0.024869 -0.316228 -0.524725 -0.290701   \n",
       "4  0.286952  0.403634 -0.651780 -0.200411 -0.316228 -0.560724 -0.290701   \n",
       "\n",
       "        unp  \n",
       "0  2.575556  \n",
       "1 -0.554221  \n",
       "2 -0.512644  \n",
       "3 -0.478895  \n",
       "4 -0.889554  "
      ]
     },
     "execution_count": 131,
     "metadata": {},
     "output_type": "execute_result"
    }
   ],
   "source": [
    "X_train_scaled = pd.DataFrame(X_train_scaled,columns=X_train.columns)\n",
    "X_train_scaled.head()"
   ]
  },
  {
   "cell_type": "code",
   "execution_count": 136,
   "metadata": {
    "collapsed": false
   },
   "outputs": [
    {
     "data": {
      "text/plain": [
       "LinearRegression(copy_X=True, fit_intercept=True, n_jobs=-1, normalize=False)"
      ]
     },
     "execution_count": 136,
     "metadata": {},
     "output_type": "execute_result"
    }
   ],
   "source": [
    "linregsc = LinearRegression(n_jobs=-1)\n",
    "linreg = LinearRegression(n_jobs=-1)\n",
    "linregsc.fit(X_train_scaled, y_train)\n",
    "linreg.fit(X_train, y_train)"
   ]
  },
  {
   "cell_type": "code",
   "execution_count": 138,
   "metadata": {
    "collapsed": false
   },
   "outputs": [
    {
     "name": "stdout",
     "output_type": "stream",
     "text": [
      "0.134624970323\n",
      "0.704075520724\n",
      "0.704075520724\n",
      "0.545121013863\n"
     ]
    }
   ],
   "source": [
    "print(mean_squared_error(linreg.predict(X_train_scaled), y_train))\n",
    "#print(mean_squared_error(linreg.predict(X_train), y_train))\n",
    "print(r2_score(y_train,linregsc.predict(X_train_scaled)))\n",
    "print(r2_score(y_train,linreg.predict(X_train)))\n",
    "print(r2_score(y_test,linregsc.predict(X_test_scaled)))"
   ]
  },
  {
   "cell_type": "code",
   "execution_count": 140,
   "metadata": {
    "collapsed": false
   },
   "outputs": [
    {
     "data": {
      "text/html": [
       "<div>\n",
       "<table border=\"1\" class=\"dataframe\">\n",
       "  <thead>\n",
       "    <tr style=\"text-align: right;\">\n",
       "      <th></th>\n",
       "      <th>Coeff.</th>\n",
       "      <th>Coeff.abs</th>\n",
       "    </tr>\n",
       "  </thead>\n",
       "  <tbody>\n",
       "    <tr>\n",
       "      <th>d_GPD</th>\n",
       "      <td>0.011551</td>\n",
       "      <td>0.011551</td>\n",
       "    </tr>\n",
       "    <tr>\n",
       "      <th>d_wage</th>\n",
       "      <td>-0.004505</td>\n",
       "      <td>0.004505</td>\n",
       "    </tr>\n",
       "    <tr>\n",
       "      <th>f_jan</th>\n",
       "      <td>-0.003823</td>\n",
       "      <td>0.003823</td>\n",
       "    </tr>\n",
       "    <tr>\n",
       "      <th>f_dec</th>\n",
       "      <td>0.002146</td>\n",
       "      <td>0.002146</td>\n",
       "    </tr>\n",
       "    <tr>\n",
       "      <th>d_cpi</th>\n",
       "      <td>0.002132</td>\n",
       "      <td>0.002132</td>\n",
       "    </tr>\n",
       "    <tr>\n",
       "      <th>unp</th>\n",
       "      <td>0.001246</td>\n",
       "      <td>0.001246</td>\n",
       "    </tr>\n",
       "    <tr>\n",
       "      <th>d_rt3m</th>\n",
       "      <td>-0.000804</td>\n",
       "      <td>0.000804</td>\n",
       "    </tr>\n",
       "    <tr>\n",
       "      <th>d_rubusd</th>\n",
       "      <td>0.000487</td>\n",
       "      <td>0.000487</td>\n",
       "    </tr>\n",
       "  </tbody>\n",
       "</table>\n",
       "</div>"
      ],
      "text/plain": [
       "            Coeff.  Coeff.abs\n",
       "d_GPD     0.011551   0.011551\n",
       "d_wage   -0.004505   0.004505\n",
       "f_jan    -0.003823   0.003823\n",
       "f_dec     0.002146   0.002146\n",
       "d_cpi     0.002132   0.002132\n",
       "unp       0.001246   0.001246\n",
       "d_rt3m   -0.000804   0.000804\n",
       "d_rubusd  0.000487   0.000487"
      ]
     },
     "execution_count": 140,
     "metadata": {},
     "output_type": "execute_result"
    }
   ],
   "source": [
    "linreg_coef = pd.DataFrame(np.c_[linregsc.coef_, np.abs(linregsc.coef_)], index=df[predictors].columns, \n",
    "                           columns=['Coeff.', 'Coeff.abs'])\n",
    "linreg_coef.sort_values(by='Coeff.abs', ascending=False)"
   ]
  },
  {
   "cell_type": "code",
   "execution_count": 141,
   "metadata": {
    "collapsed": true
   },
   "outputs": [],
   "source": [
    "test_l_pred = linreg.predict(X_test)"
   ]
  },
  {
   "cell_type": "code",
   "execution_count": 142,
   "metadata": {
    "collapsed": true
   },
   "outputs": [],
   "source": [
    "test_l_pred_sc = linregsc.predict(X_test_scaled)"
   ]
  },
  {
   "cell_type": "code",
   "execution_count": 144,
   "metadata": {
    "collapsed": false
   },
   "outputs": [
    {
     "data": {
      "image/png": "[encoded data removed]",
      "text/plain": [
       "<matplotlib.figure.Figure at 0xfb79970>"
      ]
     },
     "metadata": {},
     "output_type": "display_data"
    }
   ],
   "source": [
    "plt.plot(test_l_pred, label='linreg', c='green')\n",
    "plt.plot(test_l_pred_sc, label='Scaled', c='black')\n",
    "plt.plot(test_pred, label='forest', c='yellow')\n",
    "plt.plot(y_test, label='Actual', c='red')\n",
    "plt.show()    \n",
    "    "
   ]
  },
  {
   "cell_type": "code",
   "execution_count": 67,
   "metadata": {
    "collapsed": false
   },
   "outputs": [
    {
     "data": {
      "text/plain": [
       "array([ 0.        , -0.00085879, -0.        ,  0.        , -0.        ,\n",
       "        0.        , -0.        , -0.00028675])"
      ]
     },
     "execution_count": 67,
     "metadata": {},
     "output_type": "execute_result"
    }
   ],
   "source": [
    "lasso1 = Lasso(alpha=0.01, random_state=7)\n",
    "#lasso1.fit(X_train_scaled, y_train)\n",
    "lasso1.fit(X_train, y_train)\n",
    "lasso1.coef_"
   ]
  },
  {
   "cell_type": "code",
   "execution_count": 68,
   "metadata": {
    "collapsed": false
   },
   "outputs": [
    {
     "data": {
      "text/html": [
       "<div>\n",
       "<table border=\"1\" class=\"dataframe\">\n",
       "  <thead>\n",
       "    <tr style=\"text-align: right;\">\n",
       "      <th></th>\n",
       "      <th>Coeff.</th>\n",
       "      <th>Coeff.abs</th>\n",
       "    </tr>\n",
       "  </thead>\n",
       "  <tbody>\n",
       "    <tr>\n",
       "      <th>rt3m</th>\n",
       "      <td>-0.000859</td>\n",
       "      <td>0.000859</td>\n",
       "    </tr>\n",
       "    <tr>\n",
       "      <th>rubusd</th>\n",
       "      <td>-0.000287</td>\n",
       "      <td>0.000287</td>\n",
       "    </tr>\n",
       "    <tr>\n",
       "      <th>d_dec</th>\n",
       "      <td>0.000000</td>\n",
       "      <td>0.000000</td>\n",
       "    </tr>\n",
       "    <tr>\n",
       "      <th>wage_gr</th>\n",
       "      <td>-0.000000</td>\n",
       "      <td>0.000000</td>\n",
       "    </tr>\n",
       "    <tr>\n",
       "      <th>d_jan</th>\n",
       "      <td>0.000000</td>\n",
       "      <td>0.000000</td>\n",
       "    </tr>\n",
       "    <tr>\n",
       "      <th>cpi</th>\n",
       "      <td>-0.000000</td>\n",
       "      <td>0.000000</td>\n",
       "    </tr>\n",
       "    <tr>\n",
       "      <th>dGPD</th>\n",
       "      <td>0.000000</td>\n",
       "      <td>0.000000</td>\n",
       "    </tr>\n",
       "    <tr>\n",
       "      <th>unp</th>\n",
       "      <td>-0.000000</td>\n",
       "      <td>0.000000</td>\n",
       "    </tr>\n",
       "  </tbody>\n",
       "</table>\n",
       "</div>"
      ],
      "text/plain": [
       "           Coeff.  Coeff.abs\n",
       "rt3m    -0.000859   0.000859\n",
       "rubusd  -0.000287   0.000287\n",
       "d_dec    0.000000   0.000000\n",
       "wage_gr -0.000000   0.000000\n",
       "d_jan    0.000000   0.000000\n",
       "cpi     -0.000000   0.000000\n",
       "dGPD     0.000000   0.000000\n",
       "unp     -0.000000   0.000000"
      ]
     },
     "execution_count": 68,
     "metadata": {},
     "output_type": "execute_result"
    }
   ],
   "source": [
    "lasso1_coef = pd.DataFrame(np.c_[lasso1.coef_, np.abs(lasso1.coef_)], index=df[predictors].columns, \n",
    "                           columns=['Coeff.', 'Coeff.abs'])\n",
    "lasso1_coef.sort_values(by='Coeff.abs', ascending=False)"
   ]
  },
  {
   "cell_type": "code",
   "execution_count": null,
   "metadata": {
    "collapsed": false
   },
   "outputs": [],
   "source": [
    "alphas = np.linspace(0.1, 10, 200)\n",
    "lasso_cv = LassoCV(alphas=alphas, \n",
    "                   cv=5, random_state=7)\n",
    "lasso_cv.fit(X_train_scaled, y_train)"
   ]
  },
  {
   "cell_type": "code",
   "execution_count": null,
   "metadata": {
    "collapsed": false
   },
   "outputs": [],
   "source": [
    "lasso_cv_coef = pd.DataFrame(np.c_[lasso_cv.coef_, np.abs(lasso_cv.coef_)], index=df[predictors].columns,  \n",
    "                           columns=['Coeff.', 'Coeff.abs'])\n",
    "lasso_cv_coef.sort_values(by='Coeff.abs', ascending=False)"
   ]
  },
  {
   "cell_type": "code",
   "execution_count": 72,
   "metadata": {
    "collapsed": false
   },
   "outputs": [
    {
     "name": "stdout",
     "output_type": "stream",
     "text": [
      "0.000203245084452\n"
     ]
    }
   ],
   "source": [
    "#print(mean_squared_error(lasso_cv.predict(X_train_scaled), y_train))\n",
    "print(mean_squared_error(lasso_cv.predict(X_train), y_train))"
   ]
  },
  {
   "cell_type": "code",
   "execution_count": null,
   "metadata": {
    "collapsed": true
   },
   "outputs": [],
   "source": [
    "####пример модели\n",
    "import pandas as pd\n",
    "import numpy as np\n",
    "from sklearn.preprocessing import LabelEncoder\n",
    "from sklearn import metrics\n",
    "from sklearn.ensemble import ExtraTreesClassifier\n",
    "from sklearn import cross_validation\n",
    "\n",
    "\n",
    "def preProcess():\n",
    "    df= pd.read_csv('C:/Users/X/Desktop/Managerial_and_Decision_Economics_2013_Video_Games_Dataset.csv',encoding ='ISO-8859-1')\n",
    "    #drop non EA\n",
    "    df = df[df['EA'] ==1]\n",
    "    #change categorical variables\n",
    "    le = LabelEncoder()\n",
    "    nonnumeric_columns=['Console','Title','Publisher','Genre']\n",
    "    for feature in nonnumeric_columns:\n",
    "        df[feature] = le.fit_transform(df[feature])\n",
    "    #set dataset and target variables\n",
    "    dataset =df.ix[:, df.columns != 'US Sales (millions)']\n",
    "    target = df['US Sales (millions)']\n",
    "\n",
    "    trainx, testx, trainy, testy = cross_validation.train_test_split(\n",
    "        dataset, target, test_size=0.3, random_state=0)\n",
    "    #attempt to fix error?\n",
    "    trainx=np.array(trainx)\n",
    "    trainy = np.asarray(trainy, dtype=\"float\")\n",
    "    return trainx,testx,trainy,testy\n",
    "\n",
    "def classifier():\n",
    "    model =  ExtraTreesClassifier(n_estimators=250,\n",
    "                              random_state=0)\n",
    "    model.fit(trainx,trainy)\n",
    "    return model.score(testx,testy)\n",
    "\n",
    "\n",
    "trainx,testx,trainy,testy=preProcess()"
   ]
  }
 ],
 "metadata": {
  "anaconda-cloud": {},
  "kernelspec": {
   "display_name": "Python [conda root]",
   "language": "python",
   "name": "conda-root-py"
  },
  "language_info": {
   "codemirror_mode": {
    "name": "ipython",
    "version": 3
   },
   "file_extension": ".py",
   "mimetype": "text/x-python",
   "name": "python",
   "nbconvert_exporter": "python",
   "pygments_lexer": "ipython3",
   "version": "3.5.2"
  }
 },
 "nbformat": 4,
 "nbformat_minor": 1
}

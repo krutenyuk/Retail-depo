{
 "cells": [
  {
   "cell_type": "code",
   "execution_count": 38,
   "metadata": {
    "collapsed": false
   },
   "outputs": [
    {
     "name": "stdout",
     "output_type": "stream",
     "text": [
      "Populating the interactive namespace from numpy and matplotlib\n"
     ]
    }
   ],
   "source": [
    "import numpy as np\n",
    "import warnings\n",
    "warnings.simplefilter('ignore')\n",
    "import pandas as pd\n",
    "%pylab inline\n",
    "#import seaborn as sns\n",
    "import matplotlib.pyplot as plt\n",
    "\n",
    "from sklearn.metrics.regression import mean_squared_error\n",
    "from sklearn.preprocessing import StandardScaler\n",
    "from sklearn.cross_validation import cross_val_score, train_test_split\n",
    "\n",
    "from sklearn.ensemble import RandomForestRegressor\n",
    "from sklearn.linear_model import LogisticRegression,LinearRegression, LassoCV, Lasso "
   ]
  },
  {
   "cell_type": "code",
   "execution_count": null,
   "metadata": {
    "collapsed": false
   },
   "outputs": [],
   "source": [
    "from sklearn.metrics.regression import mean_squared_error\n",
    "from sklearn.preprocessing import StandardScaler\n",
    "from sklearn.grid_search import GridSearchCV\n",
    "from sklearn.cross_validation import cross_val_score, train_test_split\n",
    "from sklearn.ensemble import RandomForestRegressor\n",
    "from sklearn.linear_model import LogisticRegression,LinearRegression, LassoCV, Lasso \n",
    "from sklearn.svm import SVC\n",
    "from sklearn.metrics import f1_score\n",
    "\n",
    "classifiers = [LogisticRegression(), \n",
    "               RandomForestClassifier(), \n",
    "               SVC()]\n",
    "classifiers_name = [\"LogisticRegression\",\n",
    "               \"RandomForestClassifier\", \n",
    "               \"SVC\"]"
   ]
  },
  {
   "cell_type": "code",
   "execution_count": 17,
   "metadata": {
    "collapsed": false
   },
   "outputs": [
    {
     "data": {
      "text/html": [
       "<div>\n",
       "<table border=\"1\" class=\"dataframe\">\n",
       "  <thead>\n",
       "    <tr style=\"text-align: right;\">\n",
       "      <th></th>\n",
       "      <th>Date</th>\n",
       "      <th>vol_tot</th>\n",
       "      <th>vol_rub</th>\n",
       "      <th>vol_ccy</th>\n",
       "      <th>expo_tot</th>\n",
       "      <th>portf_gr</th>\n",
       "      <th>expo_rub</th>\n",
       "      <th>expo_ccy</th>\n",
       "      <th>npl_tot</th>\n",
       "      <th>npl_rub</th>\n",
       "      <th>npl_ccy</th>\n",
       "      <th>rubusd</th>\n",
       "      <th>wage</th>\n",
       "      <th>wage_gr</th>\n",
       "      <th>rt3m</th>\n",
       "      <th>dGPD</th>\n",
       "      <th>d_dec</th>\n",
       "      <th>d_jan</th>\n",
       "      <th>unp</th>\n",
       "      <th>cpi</th>\n",
       "    </tr>\n",
       "  </thead>\n",
       "  <tbody>\n",
       "    <tr>\n",
       "      <th>0</th>\n",
       "      <td>2009-04-01</td>\n",
       "      <td>456779.2</td>\n",
       "      <td>424697.2</td>\n",
       "      <td>32082.0</td>\n",
       "      <td>3848399.0</td>\n",
       "      <td>0.000000</td>\n",
       "      <td>3341053.6</td>\n",
       "      <td>507345.4</td>\n",
       "      <td>180597.6</td>\n",
       "      <td>155980.0</td>\n",
       "      <td>24617.6</td>\n",
       "      <td>33.9032</td>\n",
       "      <td>18009</td>\n",
       "      <td>0.000000</td>\n",
       "      <td>16.53</td>\n",
       "      <td>-0.035002</td>\n",
       "      <td>0</td>\n",
       "      <td>0</td>\n",
       "      <td>8.3</td>\n",
       "      <td>100.7</td>\n",
       "    </tr>\n",
       "    <tr>\n",
       "      <th>1</th>\n",
       "      <td>2009-05-01</td>\n",
       "      <td>228701.0</td>\n",
       "      <td>216410.3</td>\n",
       "      <td>12290.7</td>\n",
       "      <td>3791289.5</td>\n",
       "      <td>-0.014840</td>\n",
       "      <td>3300033.5</td>\n",
       "      <td>491256.0</td>\n",
       "      <td>193421.9</td>\n",
       "      <td>166553.5</td>\n",
       "      <td>26868.4</td>\n",
       "      <td>32.9740</td>\n",
       "      <td>18007</td>\n",
       "      <td>-0.000111</td>\n",
       "      <td>16.04</td>\n",
       "      <td>-0.035002</td>\n",
       "      <td>0</td>\n",
       "      <td>0</td>\n",
       "      <td>8.3</td>\n",
       "      <td>100.6</td>\n",
       "    </tr>\n",
       "    <tr>\n",
       "      <th>2</th>\n",
       "      <td>2009-06-01</td>\n",
       "      <td>221268.3</td>\n",
       "      <td>212818.6</td>\n",
       "      <td>8449.7</td>\n",
       "      <td>3722873.1</td>\n",
       "      <td>-0.018046</td>\n",
       "      <td>3266609.3</td>\n",
       "      <td>456263.8</td>\n",
       "      <td>202671.2</td>\n",
       "      <td>176069.2</td>\n",
       "      <td>26602.0</td>\n",
       "      <td>30.9843</td>\n",
       "      <td>19247</td>\n",
       "      <td>0.068862</td>\n",
       "      <td>12.49</td>\n",
       "      <td>-0.035002</td>\n",
       "      <td>0</td>\n",
       "      <td>0</td>\n",
       "      <td>8.3</td>\n",
       "      <td>100.6</td>\n",
       "    </tr>\n",
       "    <tr>\n",
       "      <th>3</th>\n",
       "      <td>2009-07-01</td>\n",
       "      <td>266435.9</td>\n",
       "      <td>256395.6</td>\n",
       "      <td>10040.3</td>\n",
       "      <td>3683033.9</td>\n",
       "      <td>-0.010701</td>\n",
       "      <td>3232124.6</td>\n",
       "      <td>450909.3</td>\n",
       "      <td>209446.2</td>\n",
       "      <td>182799.5</td>\n",
       "      <td>26646.7</td>\n",
       "      <td>31.0385</td>\n",
       "      <td>18872</td>\n",
       "      <td>-0.019484</td>\n",
       "      <td>11.81</td>\n",
       "      <td>-0.065562</td>\n",
       "      <td>0</td>\n",
       "      <td>0</td>\n",
       "      <td>8.3</td>\n",
       "      <td>100.6</td>\n",
       "    </tr>\n",
       "    <tr>\n",
       "      <th>4</th>\n",
       "      <td>2009-08-01</td>\n",
       "      <td>232492.2</td>\n",
       "      <td>221958.4</td>\n",
       "      <td>10533.8</td>\n",
       "      <td>3667260.9</td>\n",
       "      <td>-0.004283</td>\n",
       "      <td>3218173.3</td>\n",
       "      <td>449087.6</td>\n",
       "      <td>217713.4</td>\n",
       "      <td>190062.3</td>\n",
       "      <td>27651.1</td>\n",
       "      <td>31.1533</td>\n",
       "      <td>18335</td>\n",
       "      <td>-0.028455</td>\n",
       "      <td>11.89</td>\n",
       "      <td>-0.065562</td>\n",
       "      <td>0</td>\n",
       "      <td>0</td>\n",
       "      <td>8.3</td>\n",
       "      <td>100.0</td>\n",
       "    </tr>\n",
       "  </tbody>\n",
       "</table>\n",
       "</div>"
      ],
      "text/plain": [
       "        Date   vol_tot   vol_rub  vol_ccy   expo_tot  portf_gr   expo_rub  \\\n",
       "0 2009-04-01  456779.2  424697.2  32082.0  3848399.0  0.000000  3341053.6   \n",
       "1 2009-05-01  228701.0  216410.3  12290.7  3791289.5 -0.014840  3300033.5   \n",
       "2 2009-06-01  221268.3  212818.6   8449.7  3722873.1 -0.018046  3266609.3   \n",
       "3 2009-07-01  266435.9  256395.6  10040.3  3683033.9 -0.010701  3232124.6   \n",
       "4 2009-08-01  232492.2  221958.4  10533.8  3667260.9 -0.004283  3218173.3   \n",
       "\n",
       "   expo_ccy   npl_tot   npl_rub  npl_ccy   rubusd   wage   wage_gr   rt3m  \\\n",
       "0  507345.4  180597.6  155980.0  24617.6  33.9032  18009  0.000000  16.53   \n",
       "1  491256.0  193421.9  166553.5  26868.4  32.9740  18007 -0.000111  16.04   \n",
       "2  456263.8  202671.2  176069.2  26602.0  30.9843  19247  0.068862  12.49   \n",
       "3  450909.3  209446.2  182799.5  26646.7  31.0385  18872 -0.019484  11.81   \n",
       "4  449087.6  217713.4  190062.3  27651.1  31.1533  18335 -0.028455  11.89   \n",
       "\n",
       "       dGPD  d_dec  d_jan  unp    cpi  \n",
       "0 -0.035002      0      0  8.3  100.7  \n",
       "1 -0.035002      0      0  8.3  100.6  \n",
       "2 -0.035002      0      0  8.3  100.6  \n",
       "3 -0.065562      0      0  8.3  100.6  \n",
       "4 -0.065562      0      0  8.3  100.0  "
      ]
     },
     "execution_count": 17,
     "metadata": {},
     "output_type": "execute_result"
    }
   ],
   "source": [
    "xls_file = pd.ExcelFile('retail_vol_ccy_w_rt.xlsx')\n",
    "df = xls_file.parse('Total')\n",
    "df.head()"
   ]
  },
  {
   "cell_type": "code",
   "execution_count": null,
   "metadata": {
    "collapsed": false
   },
   "outputs": [],
   "source": [
    "df['Date'] = pd.to_datetime(df['Date'], yearfirst=True)"
   ]
  },
  {
   "cell_type": "code",
   "execution_count": 16,
   "metadata": {
    "collapsed": false
   },
   "outputs": [
    {
     "data": {
      "text/plain": [
       "0    103\n",
       "Name: d_dec, dtype: int64"
      ]
     },
     "execution_count": 16,
     "metadata": {},
     "output_type": "execute_result"
    }
   ],
   "source": [
    "df['d_dec'].value_counts()"
   ]
  },
  {
   "cell_type": "code",
   "execution_count": 11,
   "metadata": {
    "collapsed": true
   },
   "outputs": [],
   "source": [
    "def plot_with_std(x, data, **kwargs):\n",
    "        mu, std = data.mean(1), data.std(1)\n",
    "        lines = plt.plot(x, mu, '-', **kwargs)\n",
    "        plt.fill_between(x, mu - std, mu + std, edgecolor='none',\n",
    "                         facecolor=lines[0].get_color(), alpha=0.2)"
   ]
  },
  {
   "cell_type": "code",
   "execution_count": null,
   "metadata": {
    "collapsed": false
   },
   "outputs": [],
   "source": [
    "df.sort_values?"
   ]
  },
  {
   "cell_type": "code",
   "execution_count": null,
   "metadata": {
    "collapsed": true
   },
   "outputs": [],
   "source": [
    "df.shift"
   ]
  },
  {
   "cell_type": "code",
   "execution_count": null,
   "metadata": {
    "collapsed": true
   },
   "outputs": [],
   "source": [
    "df['npl_gr'] = df['npl_tot'] - df['npl_tot']."
   ]
  },
  {
   "cell_type": "code",
   "execution_count": null,
   "metadata": {
    "collapsed": false
   },
   "outputs": [],
   "source": [
    "plt.plot(df['vol_tot'])\n",
    "plt.plot(df['expo_tot'])\n",
    "plt.plot(df['npl_tot'])\n",
    "plt.show()"
   ]
  },
  {
   "cell_type": "code",
   "execution_count": null,
   "metadata": {
    "collapsed": false
   },
   "outputs": [],
   "source": [
    "plt.plot(df['rubusd'])\n",
    "plt.plot(df['rt3m'])\n",
    "plt.plot(df['wage']/300)\n",
    "plt.show()"
   ]
  },
  {
   "cell_type": "code",
   "execution_count": 31,
   "metadata": {
    "collapsed": false
   },
   "outputs": [],
   "source": [
    "predictors = list(set(['rubusd','wage_gr','rt3m','dGPD','d_dec','d_jan','unp' , 'cpi']))#'wage',"
   ]
  },
  {
   "cell_type": "code",
   "execution_count": 19,
   "metadata": {
    "collapsed": false
   },
   "outputs": [
    {
     "data": {
      "text/plain": [
       "array([[<matplotlib.axes._subplots.AxesSubplot object at 0x0D4B2590>,\n",
       "        <matplotlib.axes._subplots.AxesSubplot object at 0x0D4F0070>,\n",
       "        <matplotlib.axes._subplots.AxesSubplot object at 0x0D9654B0>],\n",
       "       [<matplotlib.axes._subplots.AxesSubplot object at 0x0D9AEDB0>,\n",
       "        <matplotlib.axes._subplots.AxesSubplot object at 0x0D9D0CB0>,\n",
       "        <matplotlib.axes._subplots.AxesSubplot object at 0x0D9F8D90>],\n",
       "       [<matplotlib.axes._subplots.AxesSubplot object at 0x0DA1E790>,\n",
       "        <matplotlib.axes._subplots.AxesSubplot object at 0x0DA488F0>,\n",
       "        <matplotlib.axes._subplots.AxesSubplot object at 0x0DA758B0>]], dtype=object)"
      ]
     },
     "execution_count": 19,
     "metadata": {},
     "output_type": "execute_result"
    },
    {
     "data": {
      "image/png": "[encoded data removed]",
      "text/plain": [
       "<matplotlib.figure.Figure at 0xd4adc30>"
      ]
     },
     "metadata": {},
     "output_type": "display_data"
    }
   ],
   "source": [
    "df[predictors].hist()"
   ]
  },
  {
   "cell_type": "markdown",
   "metadata": {},
   "source": [
    "Пока берем в качестве обучающей выборки всю выборку"
   ]
  },
  {
   "cell_type": "code",
   "execution_count": 55,
   "metadata": {
    "collapsed": true
   },
   "outputs": [],
   "source": [
    "X_train = df[predictors]\n",
    "y_train = df['portf_gr']\n",
    "\n",
    "X_test = df[predictors].copy()\n",
    "y_test = df['portf_gr'].copy()"
   ]
  },
  {
   "cell_type": "markdown",
   "metadata": {},
   "source": [
    "Масштабируем"
   ]
  },
  {
   "cell_type": "code",
   "execution_count": 33,
   "metadata": {
    "collapsed": false
   },
   "outputs": [],
   "source": [
    "from sklearn import preprocessing\n",
    "X_train = preprocessing.scale(X_train)\n",
    "X_train = pd.DataFrame(X_train, columns = df[predictors].columns)"
   ]
  },
  {
   "cell_type": "markdown",
   "metadata": {},
   "source": [
    "Смотрим на корреляции признаков"
   ]
  },
  {
   "cell_type": "code",
   "execution_count": 56,
   "metadata": {
    "collapsed": false
   },
   "outputs": [
    {
     "data": {
      "text/html": [
       "<div>\n",
       "<table border=\"1\" class=\"dataframe\">\n",
       "  <thead>\n",
       "    <tr style=\"text-align: right;\">\n",
       "      <th></th>\n",
       "      <th>d_dec</th>\n",
       "      <th>rt3m</th>\n",
       "      <th>wage_gr</th>\n",
       "      <th>d_jan</th>\n",
       "      <th>cpi</th>\n",
       "      <th>dGPD</th>\n",
       "      <th>unp</th>\n",
       "      <th>rubusd</th>\n",
       "    </tr>\n",
       "  </thead>\n",
       "  <tbody>\n",
       "    <tr>\n",
       "      <th>d_dec</th>\n",
       "      <td>1.000000</td>\n",
       "      <td>-0.027643</td>\n",
       "      <td>0.734719</td>\n",
       "      <td>-0.084211</td>\n",
       "      <td>0.128044</td>\n",
       "      <td>-0.005812</td>\n",
       "      <td>0.038185</td>\n",
       "      <td>0.003313</td>\n",
       "    </tr>\n",
       "    <tr>\n",
       "      <th>rt3m</th>\n",
       "      <td>-0.027643</td>\n",
       "      <td>1.000000</td>\n",
       "      <td>-0.083105</td>\n",
       "      <td>0.084558</td>\n",
       "      <td>0.355682</td>\n",
       "      <td>-0.487584</td>\n",
       "      <td>-0.178049</td>\n",
       "      <td>0.641749</td>\n",
       "    </tr>\n",
       "    <tr>\n",
       "      <th>wage_gr</th>\n",
       "      <td>0.734719</td>\n",
       "      <td>-0.083105</td>\n",
       "      <td>1.000000</td>\n",
       "      <td>-0.675175</td>\n",
       "      <td>-0.167010</td>\n",
       "      <td>0.000807</td>\n",
       "      <td>0.064783</td>\n",
       "      <td>-0.022971</td>\n",
       "    </tr>\n",
       "    <tr>\n",
       "      <th>d_jan</th>\n",
       "      <td>-0.084211</td>\n",
       "      <td>0.084558</td>\n",
       "      <td>-0.675175</td>\n",
       "      <td>1.000000</td>\n",
       "      <td>0.445296</td>\n",
       "      <td>0.016195</td>\n",
       "      <td>-0.068288</td>\n",
       "      <td>0.023526</td>\n",
       "    </tr>\n",
       "    <tr>\n",
       "      <th>cpi</th>\n",
       "      <td>0.128044</td>\n",
       "      <td>0.355682</td>\n",
       "      <td>-0.167010</td>\n",
       "      <td>0.445296</td>\n",
       "      <td>1.000000</td>\n",
       "      <td>0.051022</td>\n",
       "      <td>-0.099750</td>\n",
       "      <td>0.057178</td>\n",
       "    </tr>\n",
       "    <tr>\n",
       "      <th>dGPD</th>\n",
       "      <td>-0.005812</td>\n",
       "      <td>-0.487584</td>\n",
       "      <td>0.000807</td>\n",
       "      <td>0.016195</td>\n",
       "      <td>0.051022</td>\n",
       "      <td>1.000000</td>\n",
       "      <td>-0.455573</td>\n",
       "      <td>-0.353770</td>\n",
       "    </tr>\n",
       "    <tr>\n",
       "      <th>unp</th>\n",
       "      <td>0.038185</td>\n",
       "      <td>-0.178049</td>\n",
       "      <td>0.064783</td>\n",
       "      <td>-0.068288</td>\n",
       "      <td>-0.099750</td>\n",
       "      <td>-0.455573</td>\n",
       "      <td>1.000000</td>\n",
       "      <td>-0.428949</td>\n",
       "    </tr>\n",
       "    <tr>\n",
       "      <th>rubusd</th>\n",
       "      <td>0.003313</td>\n",
       "      <td>0.641749</td>\n",
       "      <td>-0.022971</td>\n",
       "      <td>0.023526</td>\n",
       "      <td>0.057178</td>\n",
       "      <td>-0.353770</td>\n",
       "      <td>-0.428949</td>\n",
       "      <td>1.000000</td>\n",
       "    </tr>\n",
       "  </tbody>\n",
       "</table>\n",
       "</div>"
      ],
      "text/plain": [
       "            d_dec      rt3m   wage_gr     d_jan       cpi      dGPD       unp  \\\n",
       "d_dec    1.000000 -0.027643  0.734719 -0.084211  0.128044 -0.005812  0.038185   \n",
       "rt3m    -0.027643  1.000000 -0.083105  0.084558  0.355682 -0.487584 -0.178049   \n",
       "wage_gr  0.734719 -0.083105  1.000000 -0.675175 -0.167010  0.000807  0.064783   \n",
       "d_jan   -0.084211  0.084558 -0.675175  1.000000  0.445296  0.016195 -0.068288   \n",
       "cpi      0.128044  0.355682 -0.167010  0.445296  1.000000  0.051022 -0.099750   \n",
       "dGPD    -0.005812 -0.487584  0.000807  0.016195  0.051022  1.000000 -0.455573   \n",
       "unp      0.038185 -0.178049  0.064783 -0.068288 -0.099750 -0.455573  1.000000   \n",
       "rubusd   0.003313  0.641749 -0.022971  0.023526  0.057178 -0.353770 -0.428949   \n",
       "\n",
       "           rubusd  \n",
       "d_dec    0.003313  \n",
       "rt3m     0.641749  \n",
       "wage_gr -0.022971  \n",
       "d_jan    0.023526  \n",
       "cpi      0.057178  \n",
       "dGPD    -0.353770  \n",
       "unp     -0.428949  \n",
       "rubusd   1.000000  "
      ]
     },
     "execution_count": 56,
     "metadata": {},
     "output_type": "execute_result"
    }
   ],
   "source": [
    "corr = df[predictors].corr()\n",
    "corr"
   ]
  },
  {
   "cell_type": "code",
   "execution_count": 25,
   "metadata": {
    "collapsed": false
   },
   "outputs": [],
   "source": [
    "from sklearn.grid_search import GridSearchCV\n",
    "from sklearn.cross_validation import StratifiedKFold\n",
    "from sklearn.preprocessing import StandardScaler"
   ]
  },
  {
   "cell_type": "code",
   "execution_count": 57,
   "metadata": {
    "collapsed": false
   },
   "outputs": [],
   "source": [
    "from sklearn.ensemble import RandomForestRegressor\n",
    "from sklearn.metrics import accuracy_score, confusion_matrix, f1_score\n",
    "forest = RandomForestRegressor(n_estimators=1000, max_depth = 5,\n",
    "                                random_state=42)\n",
    "forest.fit(X_train, y_train)\n",
    "test_pred = forest.predict(X_test)"
   ]
  },
  {
   "cell_type": "code",
   "execution_count": 58,
   "metadata": {
    "collapsed": false
   },
   "outputs": [
    {
     "data": {
      "text/html": [
       "<div>\n",
       "<table border=\"1\" class=\"dataframe\">\n",
       "  <thead>\n",
       "    <tr style=\"text-align: right;\">\n",
       "      <th></th>\n",
       "      <th>Importance</th>\n",
       "    </tr>\n",
       "  </thead>\n",
       "  <tbody>\n",
       "    <tr>\n",
       "      <th>dGPD</th>\n",
       "      <td>0.748904</td>\n",
       "    </tr>\n",
       "    <tr>\n",
       "      <th>rubusd</th>\n",
       "      <td>0.107269</td>\n",
       "    </tr>\n",
       "    <tr>\n",
       "      <th>rt3m</th>\n",
       "      <td>0.092161</td>\n",
       "    </tr>\n",
       "    <tr>\n",
       "      <th>wage_gr</th>\n",
       "      <td>0.022910</td>\n",
       "    </tr>\n",
       "    <tr>\n",
       "      <th>cpi</th>\n",
       "      <td>0.019174</td>\n",
       "    </tr>\n",
       "    <tr>\n",
       "      <th>unp</th>\n",
       "      <td>0.008312</td>\n",
       "    </tr>\n",
       "    <tr>\n",
       "      <th>d_jan</th>\n",
       "      <td>0.001032</td>\n",
       "    </tr>\n",
       "    <tr>\n",
       "      <th>d_dec</th>\n",
       "      <td>0.000239</td>\n",
       "    </tr>\n",
       "  </tbody>\n",
       "</table>\n",
       "</div>"
      ],
      "text/plain": [
       "         Importance\n",
       "dGPD       0.748904\n",
       "rubusd     0.107269\n",
       "rt3m       0.092161\n",
       "wage_gr    0.022910\n",
       "cpi        0.019174\n",
       "unp        0.008312\n",
       "d_jan      0.001032\n",
       "d_dec      0.000239"
      ]
     },
     "execution_count": 58,
     "metadata": {},
     "output_type": "execute_result"
    }
   ],
   "source": [
    "forest = RandomForestRegressor(n_estimators=1000, max_depth = 5,\n",
    "                                random_state=42).fit(X_train, y_train)\n",
    "\n",
    "features = pd.DataFrame(forest.feature_importances_,\n",
    "                        index=X_train.columns,columns=['Importance']).sort_values(['Importance'], \n",
    "                                                     ascending=False)\n",
    "\n",
    "features"
   ]
  },
  {
   "cell_type": "code",
   "execution_count": 30,
   "metadata": {
    "collapsed": false
   },
   "outputs": [
    {
     "data": {
      "text/html": [
       "<div>\n",
       "<table border=\"1\" class=\"dataframe\">\n",
       "  <thead>\n",
       "    <tr style=\"text-align: right;\">\n",
       "      <th></th>\n",
       "      <th>Importance</th>\n",
       "    </tr>\n",
       "  </thead>\n",
       "  <tbody>\n",
       "    <tr>\n",
       "      <th>dGPD</th>\n",
       "      <td>0.739463</td>\n",
       "    </tr>\n",
       "    <tr>\n",
       "      <th>rubusd</th>\n",
       "      <td>0.097427</td>\n",
       "    </tr>\n",
       "    <tr>\n",
       "      <th>rt3m</th>\n",
       "      <td>0.070091</td>\n",
       "    </tr>\n",
       "    <tr>\n",
       "      <th>wage</th>\n",
       "      <td>0.050277</td>\n",
       "    </tr>\n",
       "    <tr>\n",
       "      <th>wage_gr</th>\n",
       "      <td>0.020010</td>\n",
       "    </tr>\n",
       "    <tr>\n",
       "      <th>cpi</th>\n",
       "      <td>0.015613</td>\n",
       "    </tr>\n",
       "    <tr>\n",
       "      <th>unp</th>\n",
       "      <td>0.006156</td>\n",
       "    </tr>\n",
       "    <tr>\n",
       "      <th>d_jan</th>\n",
       "      <td>0.000837</td>\n",
       "    </tr>\n",
       "    <tr>\n",
       "      <th>d_dec</th>\n",
       "      <td>0.000125</td>\n",
       "    </tr>\n",
       "  </tbody>\n",
       "</table>\n",
       "</div>"
      ],
      "text/plain": [
       "         Importance\n",
       "dGPD       0.739463\n",
       "rubusd     0.097427\n",
       "rt3m       0.070091\n",
       "wage       0.050277\n",
       "wage_gr    0.020010\n",
       "cpi        0.015613\n",
       "unp        0.006156\n",
       "d_jan      0.000837\n",
       "d_dec      0.000125"
      ]
     },
     "execution_count": 30,
     "metadata": {},
     "output_type": "execute_result"
    }
   ],
   "source": [
    "forest = RandomForestRegressor(n_estimators=1000, max_depth = 5,\n",
    "                                random_state=42).fit(X_train, y_train)\n",
    "\n",
    "features = pd.DataFrame(forest.feature_importances_,\n",
    "                        index=X_train.columns,columns=['Importance']).sort_values(['Importance'], \n",
    "                                                     ascending=False)\n",
    "\n",
    "features"
   ]
  },
  {
   "cell_type": "code",
   "execution_count": 59,
   "metadata": {
    "collapsed": false
   },
   "outputs": [
    {
     "data": {
      "text/plain": [
       "0.94016903918896644"
      ]
     },
     "execution_count": 59,
     "metadata": {},
     "output_type": "execute_result"
    }
   ],
   "source": [
    "forest.score(X_train, y_train)"
   ]
  },
  {
   "cell_type": "code",
   "execution_count": 60,
   "metadata": {
    "collapsed": false
   },
   "outputs": [
    {
     "name": "stdout",
     "output_type": "stream",
     "text": [
      "1.21603486829e-05\n",
      "0.00012862637381\n"
     ]
    }
   ],
   "source": [
    "print(mean_squared_error(forest.predict(X_train), y_train))\n",
    "print(abs(np.mean(cross_val_score(forest, X_train, y_train, scoring='mean_squared_error', n_jobs=-1))))"
   ]
  },
  {
   "cell_type": "markdown",
   "metadata": {},
   "source": [
    "Нормируем выборку"
   ]
  },
  {
   "cell_type": "code",
   "execution_count": 40,
   "metadata": {
    "collapsed": false
   },
   "outputs": [
    {
     "data": {
      "text/html": [
       "<div>\n",
       "<table border=\"1\" class=\"dataframe\">\n",
       "  <thead>\n",
       "    <tr style=\"text-align: right;\">\n",
       "      <th></th>\n",
       "      <th>d_dec</th>\n",
       "      <th>rt3m</th>\n",
       "      <th>wage_gr</th>\n",
       "      <th>d_jan</th>\n",
       "      <th>cpi</th>\n",
       "      <th>dGPD</th>\n",
       "      <th>unp</th>\n",
       "      <th>rubusd</th>\n",
       "    </tr>\n",
       "  </thead>\n",
       "  <tbody>\n",
       "    <tr>\n",
       "      <th>0</th>\n",
       "      <td>-0.290191</td>\n",
       "      <td>2.085327</td>\n",
       "      <td>-0.120777</td>\n",
       "      <td>-0.290191</td>\n",
       "      <td>0.195819</td>\n",
       "      <td>-1.333206</td>\n",
       "      <td>2.38862</td>\n",
       "      <td>-0.536487</td>\n",
       "    </tr>\n",
       "    <tr>\n",
       "      <th>1</th>\n",
       "      <td>-0.290191</td>\n",
       "      <td>1.952141</td>\n",
       "      <td>-0.121738</td>\n",
       "      <td>-0.290191</td>\n",
       "      <td>0.017329</td>\n",
       "      <td>-1.333206</td>\n",
       "      <td>2.38862</td>\n",
       "      <td>-0.598368</td>\n",
       "    </tr>\n",
       "    <tr>\n",
       "      <th>2</th>\n",
       "      <td>-0.290191</td>\n",
       "      <td>0.987220</td>\n",
       "      <td>0.475400</td>\n",
       "      <td>-0.290191</td>\n",
       "      <td>0.017329</td>\n",
       "      <td>-1.333206</td>\n",
       "      <td>2.38862</td>\n",
       "      <td>-0.730874</td>\n",
       "    </tr>\n",
       "    <tr>\n",
       "      <th>3</th>\n",
       "      <td>-0.290191</td>\n",
       "      <td>0.802390</td>\n",
       "      <td>-0.289457</td>\n",
       "      <td>-0.290191</td>\n",
       "      <td>0.017329</td>\n",
       "      <td>-2.302573</td>\n",
       "      <td>2.38862</td>\n",
       "      <td>-0.727265</td>\n",
       "    </tr>\n",
       "    <tr>\n",
       "      <th>4</th>\n",
       "      <td>-0.290191</td>\n",
       "      <td>0.824135</td>\n",
       "      <td>-0.367126</td>\n",
       "      <td>-0.290191</td>\n",
       "      <td>-1.053611</td>\n",
       "      <td>-2.302573</td>\n",
       "      <td>2.38862</td>\n",
       "      <td>-0.719620</td>\n",
       "    </tr>\n",
       "  </tbody>\n",
       "</table>\n",
       "</div>"
      ],
      "text/plain": [
       "      d_dec      rt3m   wage_gr     d_jan       cpi      dGPD      unp  \\\n",
       "0 -0.290191  2.085327 -0.120777 -0.290191  0.195819 -1.333206  2.38862   \n",
       "1 -0.290191  1.952141 -0.121738 -0.290191  0.017329 -1.333206  2.38862   \n",
       "2 -0.290191  0.987220  0.475400 -0.290191  0.017329 -1.333206  2.38862   \n",
       "3 -0.290191  0.802390 -0.289457 -0.290191  0.017329 -2.302573  2.38862   \n",
       "4 -0.290191  0.824135 -0.367126 -0.290191 -1.053611 -2.302573  2.38862   \n",
       "\n",
       "     rubusd  \n",
       "0 -0.536487  \n",
       "1 -0.598368  \n",
       "2 -0.730874  \n",
       "3 -0.727265  \n",
       "4 -0.719620  "
      ]
     },
     "execution_count": 40,
     "metadata": {},
     "output_type": "execute_result"
    }
   ],
   "source": [
    "X_train.head()"
   ]
  },
  {
   "cell_type": "code",
   "execution_count": 41,
   "metadata": {
    "collapsed": false
   },
   "outputs": [],
   "source": [
    "scaler = StandardScaler()\n",
    "X_train_scaled = scaler.fit_transform(X_train)"
   ]
  },
  {
   "cell_type": "code",
   "execution_count": 42,
   "metadata": {
    "collapsed": false
   },
   "outputs": [
    {
     "data": {
      "text/html": [
       "<div>\n",
       "<table border=\"1\" class=\"dataframe\">\n",
       "  <thead>\n",
       "    <tr style=\"text-align: right;\">\n",
       "      <th></th>\n",
       "      <th>d_dec</th>\n",
       "      <th>rt3m</th>\n",
       "      <th>wage_gr</th>\n",
       "      <th>d_jan</th>\n",
       "      <th>cpi</th>\n",
       "      <th>dGPD</th>\n",
       "      <th>unp</th>\n",
       "      <th>rubusd</th>\n",
       "    </tr>\n",
       "  </thead>\n",
       "  <tbody>\n",
       "    <tr>\n",
       "      <th>0</th>\n",
       "      <td>-0.290191</td>\n",
       "      <td>2.085327</td>\n",
       "      <td>-0.120777</td>\n",
       "      <td>-0.290191</td>\n",
       "      <td>0.195819</td>\n",
       "      <td>-1.333206</td>\n",
       "      <td>2.38862</td>\n",
       "      <td>-0.536487</td>\n",
       "    </tr>\n",
       "    <tr>\n",
       "      <th>1</th>\n",
       "      <td>-0.290191</td>\n",
       "      <td>1.952141</td>\n",
       "      <td>-0.121738</td>\n",
       "      <td>-0.290191</td>\n",
       "      <td>0.017329</td>\n",
       "      <td>-1.333206</td>\n",
       "      <td>2.38862</td>\n",
       "      <td>-0.598368</td>\n",
       "    </tr>\n",
       "    <tr>\n",
       "      <th>2</th>\n",
       "      <td>-0.290191</td>\n",
       "      <td>0.987220</td>\n",
       "      <td>0.475400</td>\n",
       "      <td>-0.290191</td>\n",
       "      <td>0.017329</td>\n",
       "      <td>-1.333206</td>\n",
       "      <td>2.38862</td>\n",
       "      <td>-0.730874</td>\n",
       "    </tr>\n",
       "    <tr>\n",
       "      <th>3</th>\n",
       "      <td>-0.290191</td>\n",
       "      <td>0.802390</td>\n",
       "      <td>-0.289457</td>\n",
       "      <td>-0.290191</td>\n",
       "      <td>0.017329</td>\n",
       "      <td>-2.302573</td>\n",
       "      <td>2.38862</td>\n",
       "      <td>-0.727265</td>\n",
       "    </tr>\n",
       "    <tr>\n",
       "      <th>4</th>\n",
       "      <td>-0.290191</td>\n",
       "      <td>0.824135</td>\n",
       "      <td>-0.367126</td>\n",
       "      <td>-0.290191</td>\n",
       "      <td>-1.053611</td>\n",
       "      <td>-2.302573</td>\n",
       "      <td>2.38862</td>\n",
       "      <td>-0.719620</td>\n",
       "    </tr>\n",
       "  </tbody>\n",
       "</table>\n",
       "</div>"
      ],
      "text/plain": [
       "      d_dec      rt3m   wage_gr     d_jan       cpi      dGPD      unp  \\\n",
       "0 -0.290191  2.085327 -0.120777 -0.290191  0.195819 -1.333206  2.38862   \n",
       "1 -0.290191  1.952141 -0.121738 -0.290191  0.017329 -1.333206  2.38862   \n",
       "2 -0.290191  0.987220  0.475400 -0.290191  0.017329 -1.333206  2.38862   \n",
       "3 -0.290191  0.802390 -0.289457 -0.290191  0.017329 -2.302573  2.38862   \n",
       "4 -0.290191  0.824135 -0.367126 -0.290191 -1.053611 -2.302573  2.38862   \n",
       "\n",
       "     rubusd  \n",
       "0 -0.536487  \n",
       "1 -0.598368  \n",
       "2 -0.730874  \n",
       "3 -0.727265  \n",
       "4 -0.719620  "
      ]
     },
     "execution_count": 42,
     "metadata": {},
     "output_type": "execute_result"
    }
   ],
   "source": [
    "X_train_scaled = pd.DataFrame(X_train_scaled,columns=X_train.columns)\n",
    "X_train_scaled.head()"
   ]
  },
  {
   "cell_type": "code",
   "execution_count": 62,
   "metadata": {
    "collapsed": false
   },
   "outputs": [
    {
     "data": {
      "text/plain": [
       "LinearRegression(copy_X=True, fit_intercept=True, n_jobs=-1, normalize=False)"
      ]
     },
     "execution_count": 62,
     "metadata": {},
     "output_type": "execute_result"
    }
   ],
   "source": [
    "linreg = LinearRegression(n_jobs=-1)\n",
    "#linreg.fit(X_train_scaled, y_train)\n",
    "linreg.fit(X_train, y_train)"
   ]
  },
  {
   "cell_type": "code",
   "execution_count": 63,
   "metadata": {
    "collapsed": false
   },
   "outputs": [
    {
     "name": "stdout",
     "output_type": "stream",
     "text": [
      "5.13278964967e-05\n"
     ]
    }
   ],
   "source": [
    "#print(mean_squared_error(linreg.predict(X_train_scaled), y_train))\n",
    "print(mean_squared_error(linreg.predict(X_train), y_train))"
   ]
  },
  {
   "cell_type": "code",
   "execution_count": 64,
   "metadata": {
    "collapsed": false
   },
   "outputs": [
    {
     "data": {
      "text/html": [
       "<div>\n",
       "<table border=\"1\" class=\"dataframe\">\n",
       "  <thead>\n",
       "    <tr style=\"text-align: right;\">\n",
       "      <th></th>\n",
       "      <th>Coeff.</th>\n",
       "      <th>Coeff.abs</th>\n",
       "    </tr>\n",
       "  </thead>\n",
       "  <tbody>\n",
       "    <tr>\n",
       "      <th>dGPD</th>\n",
       "      <td>0.255716</td>\n",
       "      <td>0.255716</td>\n",
       "    </tr>\n",
       "    <tr>\n",
       "      <th>wage_gr</th>\n",
       "      <td>-0.042642</td>\n",
       "      <td>0.042642</td>\n",
       "    </tr>\n",
       "    <tr>\n",
       "      <th>d_dec</th>\n",
       "      <td>0.015209</td>\n",
       "      <td>0.015209</td>\n",
       "    </tr>\n",
       "    <tr>\n",
       "      <th>d_jan</th>\n",
       "      <td>-0.005874</td>\n",
       "      <td>0.005874</td>\n",
       "    </tr>\n",
       "    <tr>\n",
       "      <th>cpi</th>\n",
       "      <td>-0.003394</td>\n",
       "      <td>0.003394</td>\n",
       "    </tr>\n",
       "    <tr>\n",
       "      <th>unp</th>\n",
       "      <td>-0.002529</td>\n",
       "      <td>0.002529</td>\n",
       "    </tr>\n",
       "    <tr>\n",
       "      <th>rt3m</th>\n",
       "      <td>-0.000609</td>\n",
       "      <td>0.000609</td>\n",
       "    </tr>\n",
       "    <tr>\n",
       "      <th>rubusd</th>\n",
       "      <td>-0.000247</td>\n",
       "      <td>0.000247</td>\n",
       "    </tr>\n",
       "  </tbody>\n",
       "</table>\n",
       "</div>"
      ],
      "text/plain": [
       "           Coeff.  Coeff.abs\n",
       "dGPD     0.255716   0.255716\n",
       "wage_gr -0.042642   0.042642\n",
       "d_dec    0.015209   0.015209\n",
       "d_jan   -0.005874   0.005874\n",
       "cpi     -0.003394   0.003394\n",
       "unp     -0.002529   0.002529\n",
       "rt3m    -0.000609   0.000609\n",
       "rubusd  -0.000247   0.000247"
      ]
     },
     "execution_count": 64,
     "metadata": {},
     "output_type": "execute_result"
    }
   ],
   "source": [
    "linreg_coef = pd.DataFrame(np.c_[linreg.coef_, np.abs(linreg.coef_)], index=df[predictors].columns, \n",
    "                           columns=['Coeff.', 'Coeff.abs'])\n",
    "linreg_coef.sort_values(by='Coeff.abs', ascending=False)"
   ]
  },
  {
   "cell_type": "code",
   "execution_count": 65,
   "metadata": {
    "collapsed": true
   },
   "outputs": [],
   "source": [
    "test_l_pred = linreg.predict(X_test)"
   ]
  },
  {
   "cell_type": "code",
   "execution_count": 66,
   "metadata": {
    "collapsed": false
   },
   "outputs": [
    {
     "data": {
      "image/png": "[encoded data removed]",
      "text/plain": [
       "<matplotlib.figure.Figure at 0xdcce970>"
      ]
     },
     "metadata": {},
     "output_type": "display_data"
    }
   ],
   "source": [
    "plt.plot(test_l_pred, label='Predicted', c='green')\n",
    "plt.plot(test_pred, label='Predicted', c='yellow')\n",
    "plt.plot(y_train, label='Actual', c='red')\n",
    "plt.show()    \n",
    "    "
   ]
  },
  {
   "cell_type": "code",
   "execution_count": 67,
   "metadata": {
    "collapsed": false
   },
   "outputs": [
    {
     "data": {
      "text/plain": [
       "array([ 0.        , -0.00085879, -0.        ,  0.        , -0.        ,\n",
       "        0.        , -0.        , -0.00028675])"
      ]
     },
     "execution_count": 67,
     "metadata": {},
     "output_type": "execute_result"
    }
   ],
   "source": [
    "lasso1 = Lasso(alpha=0.01, random_state=7)\n",
    "#lasso1.fit(X_train_scaled, y_train)\n",
    "lasso1.fit(X_train, y_train)\n",
    "lasso1.coef_"
   ]
  },
  {
   "cell_type": "code",
   "execution_count": 68,
   "metadata": {
    "collapsed": false
   },
   "outputs": [
    {
     "data": {
      "text/html": [
       "<div>\n",
       "<table border=\"1\" class=\"dataframe\">\n",
       "  <thead>\n",
       "    <tr style=\"text-align: right;\">\n",
       "      <th></th>\n",
       "      <th>Coeff.</th>\n",
       "      <th>Coeff.abs</th>\n",
       "    </tr>\n",
       "  </thead>\n",
       "  <tbody>\n",
       "    <tr>\n",
       "      <th>rt3m</th>\n",
       "      <td>-0.000859</td>\n",
       "      <td>0.000859</td>\n",
       "    </tr>\n",
       "    <tr>\n",
       "      <th>rubusd</th>\n",
       "      <td>-0.000287</td>\n",
       "      <td>0.000287</td>\n",
       "    </tr>\n",
       "    <tr>\n",
       "      <th>d_dec</th>\n",
       "      <td>0.000000</td>\n",
       "      <td>0.000000</td>\n",
       "    </tr>\n",
       "    <tr>\n",
       "      <th>wage_gr</th>\n",
       "      <td>-0.000000</td>\n",
       "      <td>0.000000</td>\n",
       "    </tr>\n",
       "    <tr>\n",
       "      <th>d_jan</th>\n",
       "      <td>0.000000</td>\n",
       "      <td>0.000000</td>\n",
       "    </tr>\n",
       "    <tr>\n",
       "      <th>cpi</th>\n",
       "      <td>-0.000000</td>\n",
       "      <td>0.000000</td>\n",
       "    </tr>\n",
       "    <tr>\n",
       "      <th>dGPD</th>\n",
       "      <td>0.000000</td>\n",
       "      <td>0.000000</td>\n",
       "    </tr>\n",
       "    <tr>\n",
       "      <th>unp</th>\n",
       "      <td>-0.000000</td>\n",
       "      <td>0.000000</td>\n",
       "    </tr>\n",
       "  </tbody>\n",
       "</table>\n",
       "</div>"
      ],
      "text/plain": [
       "           Coeff.  Coeff.abs\n",
       "rt3m    -0.000859   0.000859\n",
       "rubusd  -0.000287   0.000287\n",
       "d_dec    0.000000   0.000000\n",
       "wage_gr -0.000000   0.000000\n",
       "d_jan    0.000000   0.000000\n",
       "cpi     -0.000000   0.000000\n",
       "dGPD     0.000000   0.000000\n",
       "unp     -0.000000   0.000000"
      ]
     },
     "execution_count": 68,
     "metadata": {},
     "output_type": "execute_result"
    }
   ],
   "source": [
    "lasso1_coef = pd.DataFrame(np.c_[lasso1.coef_, np.abs(lasso1.coef_)], index=df[predictors].columns, \n",
    "                           columns=['Coeff.', 'Coeff.abs'])\n",
    "lasso1_coef.sort_values(by='Coeff.abs', ascending=False)"
   ]
  },
  {
   "cell_type": "code",
   "execution_count": null,
   "metadata": {
    "collapsed": false
   },
   "outputs": [],
   "source": [
    "alphas = np.linspace(0.1, 10, 200)\n",
    "lasso_cv = LassoCV(alphas=alphas, \n",
    "                   cv=5, random_state=7)\n",
    "lasso_cv.fit(X_train_scaled, y_train)"
   ]
  },
  {
   "cell_type": "code",
   "execution_count": null,
   "metadata": {
    "collapsed": false
   },
   "outputs": [],
   "source": [
    "lasso_cv_coef = pd.DataFrame(np.c_[lasso_cv.coef_, np.abs(lasso_cv.coef_)], index=df[predictors].columns,  \n",
    "                           columns=['Coeff.', 'Coeff.abs'])\n",
    "lasso_cv_coef.sort_values(by='Coeff.abs', ascending=False)"
   ]
  },
  {
   "cell_type": "code",
   "execution_count": 72,
   "metadata": {
    "collapsed": false
   },
   "outputs": [
    {
     "name": "stdout",
     "output_type": "stream",
     "text": [
      "0.000203245084452\n"
     ]
    }
   ],
   "source": [
    "#print(mean_squared_error(lasso_cv.predict(X_train_scaled), y_train))\n",
    "print(mean_squared_error(lasso_cv.predict(X_train), y_train))"
   ]
  },
  {
   "cell_type": "code",
   "execution_count": null,
   "metadata": {
    "collapsed": true
   },
   "outputs": [],
   "source": [
    "####пример модели\n",
    "import pandas as pd\n",
    "import numpy as np\n",
    "from sklearn.preprocessing import LabelEncoder\n",
    "from sklearn import metrics\n",
    "from sklearn.ensemble import ExtraTreesClassifier\n",
    "from sklearn import cross_validation\n",
    "\n",
    "\n",
    "def preProcess():\n",
    "    df= pd.read_csv('C:/Users/X/Desktop/Managerial_and_Decision_Economics_2013_Video_Games_Dataset.csv',encoding ='ISO-8859-1')\n",
    "    #drop non EA\n",
    "    df = df[df['EA'] ==1]\n",
    "    #change categorical variables\n",
    "    le = LabelEncoder()\n",
    "    nonnumeric_columns=['Console','Title','Publisher','Genre']\n",
    "    for feature in nonnumeric_columns:\n",
    "        df[feature] = le.fit_transform(df[feature])\n",
    "    #set dataset and target variables\n",
    "    dataset =df.ix[:, df.columns != 'US Sales (millions)']\n",
    "    target = df['US Sales (millions)']\n",
    "\n",
    "    trainx, testx, trainy, testy = cross_validation.train_test_split(\n",
    "        dataset, target, test_size=0.3, random_state=0)\n",
    "    #attempt to fix error?\n",
    "    trainx=np.array(trainx)\n",
    "    trainy = np.asarray(trainy, dtype=\"float\")\n",
    "    return trainx,testx,trainy,testy\n",
    "\n",
    "def classifier():\n",
    "    model =  ExtraTreesClassifier(n_estimators=250,\n",
    "                              random_state=0)\n",
    "    model.fit(trainx,trainy)\n",
    "    return model.score(testx,testy)\n",
    "\n",
    "\n",
    "trainx,testx,trainy,testy=preProcess()"
   ]
  }
 ],
 "metadata": {
  "anaconda-cloud": {},
  "kernelspec": {
   "display_name": "Python [conda root]",
   "language": "python",
   "name": "conda-root-py"
  },
  "language_info": {
   "codemirror_mode": {
    "name": "ipython",
    "version": 3
   },
   "file_extension": ".py",
   "mimetype": "text/x-python",
   "name": "python",
   "nbconvert_exporter": "python",
   "pygments_lexer": "ipython3",
   "version": "3.5.2"
  }
 },
 "nbformat": 4,
 "nbformat_minor": 1
}

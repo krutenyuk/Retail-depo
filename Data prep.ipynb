{
 "cells": [
  {
   "cell_type": "code",
   "execution_count": null,
   "metadata": {
    "collapsed": false
   },
   "outputs": [],
   "source": [
    "import numpy as np\n",
    "import warnings\n",
    "warnings.simplefilter('ignore')\n",
    "import pandas as pd\n",
    "%pylab inline\n",
    "#import seaborn as sns\n",
    "import matplotlib.pyplot as plt"
   ]
  },
  {
   "cell_type": "code",
   "execution_count": null,
   "metadata": {
    "collapsed": false
   },
   "outputs": [],
   "source": [
    "from sklearn.metrics.regression import mean_squared_error\n",
    "from sklearn.preprocessing import StandardScaler\n",
    "from sklearn.grid_search import GridSearchCV\n",
    "from sklearn.cross_validation import cross_val_score, train_test_split\n",
    "from sklearn.ensemble import RandomForestRegressor\n",
    "from sklearn.linear_model import LogisticRegression,LinearRegression, LassoCV, Lasso \n",
    "from sklearn.svm import SVC\n",
    "from sklearn.metrics import f1_score\n",
    "\n",
    "classifiers = [LogisticRegression(), \n",
    "               RandomForestClassifier(), \n",
    "               SVC()]\n",
    "classifiers_name = [\"LogisticRegression\",\n",
    "               \"RandomForestClassifier\", \n",
    "               \"SVC\"]"
   ]
  },
  {
   "cell_type": "code",
   "execution_count": null,
   "metadata": {
    "collapsed": false
   },
   "outputs": [],
   "source": [
    "xls_file = pd.ExcelFile('retail_vol_ccy_w_rt.xlsx')\n",
    "df = xls_file.parse('Total')\n",
    "df.head()"
   ]
  },
  {
   "cell_type": "code",
   "execution_count": null,
   "metadata": {
    "collapsed": false
   },
   "outputs": [],
   "source": [
    "df['Date'] = pd.to_datetime(df['Date'], yearfirst=True)"
   ]
  },
  {
   "cell_type": "code",
   "execution_count": null,
   "metadata": {
    "collapsed": false
   },
   "outputs": [],
   "source": [
    "df.sort_values?"
   ]
  },
  {
   "cell_type": "code",
   "execution_count": null,
   "metadata": {
    "collapsed": true
   },
   "outputs": [],
   "source": [
    "df.shift"
   ]
  },
  {
   "cell_type": "code",
   "execution_count": null,
   "metadata": {
    "collapsed": true
   },
   "outputs": [],
   "source": [
    "df['npl_gr'] = df['npl_tot'] - df['npl_tot']."
   ]
  },
  {
   "cell_type": "code",
   "execution_count": null,
   "metadata": {
    "collapsed": false
   },
   "outputs": [],
   "source": [
    "plt.plot(df['vol_tot'])\n",
    "plt.plot(df['expo_tot'])\n",
    "plt.plot(df['npl_tot'])\n",
    "plt.show()"
   ]
  },
  {
   "cell_type": "code",
   "execution_count": null,
   "metadata": {
    "collapsed": false
   },
   "outputs": [],
   "source": [
    "plt.plot(df['rubusd'])\n",
    "plt.plot(df['rt3m'])\n",
    "plt.plot(df['wage']/300)\n",
    "plt.show()"
   ]
  },
  {
   "cell_type": "code",
   "execution_count": null,
   "metadata": {
    "collapsed": false
   },
   "outputs": [],
   "source": [
    "predictors = list(set(['rubusd','wage','wage_gr','rt3m','dGPD','f_dec', 'unp']))"
   ]
  },
  {
   "cell_type": "code",
   "execution_count": null,
   "metadata": {
    "collapsed": false
   },
   "outputs": [],
   "source": [
    "df[predictors].hist()"
   ]
  },
  {
   "cell_type": "markdown",
   "metadata": {},
   "source": [
    "Пока берем в качестве обучающей выборки всю выборку"
   ]
  },
  {
   "cell_type": "code",
   "execution_count": null,
   "metadata": {
    "collapsed": true
   },
   "outputs": [],
   "source": [
    "X_train = df[predictors]\n",
    "y_train = df['portf_gr']\n",
    "\n",
    "X_test = df[predictors].copy()\n",
    "y_test = df['portf_gr'].copy()"
   ]
  },
  {
   "cell_type": "code",
   "execution_count": null,
   "metadata": {
    "collapsed": false
   },
   "outputs": [],
   "source": [
    "corr = df[predictors].corr()\n",
    "corr"
   ]
  },
  {
   "cell_type": "code",
   "execution_count": null,
   "metadata": {
    "collapsed": false
   },
   "outputs": [],
   "source": [
    "plots = df[predictors].hist()"
   ]
  },
  {
   "cell_type": "code",
   "execution_count": null,
   "metadata": {
    "collapsed": false
   },
   "outputs": [],
   "source": [
    "from sklearn.grid_search import GridSearchCV\n",
    "from sklearn.cross_validation import StratifiedKFold\n",
    "from sklearn.preprocessing import StandardScaler"
   ]
  },
  {
   "cell_type": "code",
   "execution_count": null,
   "metadata": {
    "collapsed": false
   },
   "outputs": [],
   "source": [
    "from sklearn.ensemble import RandomForestClassifier\n",
    "from sklearn.ensemble import RandomForestRegressor\n",
    "from sklearn.metrics import accuracy_score, confusion_matrix, f1_score\n",
    "forest = RandomForestRegressor(n_estimators=1000, max_depth = 5,\n",
    "                                random_state=42)\n",
    "forest.fit(X_train, y_train)\n",
    "test_pred = forest.predict(X_test)"
   ]
  },
  {
   "cell_type": "code",
   "execution_count": 75,
   "metadata": {
    "collapsed": true
   },
   "outputs": [],
   "source": [
    "pd.DataFrame?"
   ]
  },
  {
   "cell_type": "code",
   "execution_count": 73,
   "metadata": {
    "collapsed": false
   },
   "outputs": [
    {
     "data": {
      "text/html": [
       "<div>\n",
       "<style>\n",
       "    .dataframe thead tr:only-child th {\n",
       "        text-align: right;\n",
       "    }\n",
       "\n",
       "    .dataframe thead th {\n",
       "        text-align: left;\n",
       "    }\n",
       "\n",
       "    .dataframe tbody tr th {\n",
       "        vertical-align: top;\n",
       "    }\n",
       "</style>\n",
       "<table border=\"1\" class=\"dataframe\">\n",
       "  <thead>\n",
       "    <tr style=\"text-align: right;\">\n",
       "      <th></th>\n",
       "      <th>Importance</th>\n",
       "    </tr>\n",
       "  </thead>\n",
       "  <tbody>\n",
       "    <tr>\n",
       "      <th>dGPD</th>\n",
       "      <td>0.743125</td>\n",
       "    </tr>\n",
       "    <tr>\n",
       "      <th>rubusd</th>\n",
       "      <td>0.100856</td>\n",
       "    </tr>\n",
       "    <tr>\n",
       "      <th>rt3m</th>\n",
       "      <td>0.073914</td>\n",
       "    </tr>\n",
       "    <tr>\n",
       "      <th>wage</th>\n",
       "      <td>0.053737</td>\n",
       "    </tr>\n",
       "    <tr>\n",
       "      <th>wage_gr</th>\n",
       "      <td>0.021560</td>\n",
       "    </tr>\n",
       "    <tr>\n",
       "      <th>unp</th>\n",
       "      <td>0.006663</td>\n",
       "    </tr>\n",
       "    <tr>\n",
       "      <th>f_dec</th>\n",
       "      <td>0.000144</td>\n",
       "    </tr>\n",
       "  </tbody>\n",
       "</table>\n",
       "</div>"
      ],
      "text/plain": [
       "         Importance\n",
       "dGPD       0.743125\n",
       "rubusd     0.100856\n",
       "rt3m       0.073914\n",
       "wage       0.053737\n",
       "wage_gr    0.021560\n",
       "unp        0.006663\n",
       "f_dec      0.000144"
      ]
     },
     "execution_count": 73,
     "metadata": {},
     "output_type": "execute_result"
    }
   ],
   "source": [
    "forest = RandomForestRegressor(n_estimators=1000, max_depth = 5,\n",
    "                                random_state=42).fit(X_train, y_train)\n",
    "\n",
    "features = pd.DataFrame(forest.feature_importances_,\n",
    "                        index=X_train.columns,columns=['Importance']).sort_values(['Importance'], \n",
    "                                                     ascending=False)\n",
    "\n",
    "features"
   ]
  },
  {
   "cell_type": "code",
   "execution_count": 74,
   "metadata": {
    "collapsed": false
   },
   "outputs": [
    {
     "name": "stdout",
     "output_type": "stream",
     "text": [
      "1.29998378601e-05\n",
      "0.000128514781931\n"
     ]
    }
   ],
   "source": [
    "print(mean_squared_error(forest.predict(X_train), y_train))\n",
    "print(abs(np.mean(cross_val_score(forest, X_train, y_train, scoring='mean_squared_error', n_jobs=-1))))"
   ]
  },
  {
   "cell_type": "markdown",
   "metadata": {},
   "source": [
    "Нормируем выборку"
   ]
  },
  {
   "cell_type": "code",
   "execution_count": 66,
   "metadata": {
    "collapsed": false
   },
   "outputs": [
    {
     "data": {
      "text/html": [
       "<div>\n",
       "<style>\n",
       "    .dataframe thead tr:only-child th {\n",
       "        text-align: right;\n",
       "    }\n",
       "\n",
       "    .dataframe thead th {\n",
       "        text-align: left;\n",
       "    }\n",
       "\n",
       "    .dataframe tbody tr th {\n",
       "        vertical-align: top;\n",
       "    }\n",
       "</style>\n",
       "<table border=\"1\" class=\"dataframe\">\n",
       "  <thead>\n",
       "    <tr style=\"text-align: right;\">\n",
       "      <th></th>\n",
       "      <th>rt3m</th>\n",
       "      <th>wage</th>\n",
       "      <th>f_dec</th>\n",
       "      <th>rubusd</th>\n",
       "      <th>unp</th>\n",
       "      <th>dGPD</th>\n",
       "      <th>wage_gr</th>\n",
       "    </tr>\n",
       "  </thead>\n",
       "  <tbody>\n",
       "    <tr>\n",
       "      <th>0</th>\n",
       "      <td>16.53</td>\n",
       "      <td>18009</td>\n",
       "      <td>0</td>\n",
       "      <td>33.9032</td>\n",
       "      <td>8.3</td>\n",
       "      <td>-0.035002</td>\n",
       "      <td>0.000000</td>\n",
       "    </tr>\n",
       "    <tr>\n",
       "      <th>1</th>\n",
       "      <td>16.04</td>\n",
       "      <td>18007</td>\n",
       "      <td>0</td>\n",
       "      <td>32.9740</td>\n",
       "      <td>8.3</td>\n",
       "      <td>-0.035002</td>\n",
       "      <td>-0.000111</td>\n",
       "    </tr>\n",
       "    <tr>\n",
       "      <th>2</th>\n",
       "      <td>12.49</td>\n",
       "      <td>19247</td>\n",
       "      <td>0</td>\n",
       "      <td>30.9843</td>\n",
       "      <td>8.3</td>\n",
       "      <td>-0.035002</td>\n",
       "      <td>0.068862</td>\n",
       "    </tr>\n",
       "    <tr>\n",
       "      <th>3</th>\n",
       "      <td>11.81</td>\n",
       "      <td>18872</td>\n",
       "      <td>0</td>\n",
       "      <td>31.0385</td>\n",
       "      <td>8.3</td>\n",
       "      <td>-0.065562</td>\n",
       "      <td>-0.019484</td>\n",
       "    </tr>\n",
       "    <tr>\n",
       "      <th>4</th>\n",
       "      <td>11.89</td>\n",
       "      <td>18335</td>\n",
       "      <td>0</td>\n",
       "      <td>31.1533</td>\n",
       "      <td>8.3</td>\n",
       "      <td>-0.065562</td>\n",
       "      <td>-0.028455</td>\n",
       "    </tr>\n",
       "  </tbody>\n",
       "</table>\n",
       "</div>"
      ],
      "text/plain": [
       "    rt3m   wage  f_dec   rubusd  unp      dGPD   wage_gr\n",
       "0  16.53  18009      0  33.9032  8.3 -0.035002  0.000000\n",
       "1  16.04  18007      0  32.9740  8.3 -0.035002 -0.000111\n",
       "2  12.49  19247      0  30.9843  8.3 -0.035002  0.068862\n",
       "3  11.81  18872      0  31.0385  8.3 -0.065562 -0.019484\n",
       "4  11.89  18335      0  31.1533  8.3 -0.065562 -0.028455"
      ]
     },
     "execution_count": 66,
     "metadata": {},
     "output_type": "execute_result"
    }
   ],
   "source": [
    "X_train.head()"
   ]
  },
  {
   "cell_type": "code",
   "execution_count": 77,
   "metadata": {
    "collapsed": false
   },
   "outputs": [],
   "source": [
    "scaler = StandardScaler()\n",
    "X_train_scaled = scaler.fit_transform(X_train)"
   ]
  },
  {
   "cell_type": "code",
   "execution_count": 78,
   "metadata": {
    "collapsed": false
   },
   "outputs": [
    {
     "data": {
      "text/html": [
       "<div>\n",
       "<style>\n",
       "    .dataframe thead tr:only-child th {\n",
       "        text-align: right;\n",
       "    }\n",
       "\n",
       "    .dataframe thead th {\n",
       "        text-align: left;\n",
       "    }\n",
       "\n",
       "    .dataframe tbody tr th {\n",
       "        vertical-align: top;\n",
       "    }\n",
       "</style>\n",
       "<table border=\"1\" class=\"dataframe\">\n",
       "  <thead>\n",
       "    <tr style=\"text-align: right;\">\n",
       "      <th></th>\n",
       "      <th>rt3m</th>\n",
       "      <th>wage</th>\n",
       "      <th>f_dec</th>\n",
       "      <th>rubusd</th>\n",
       "      <th>unp</th>\n",
       "      <th>dGPD</th>\n",
       "      <th>wage_gr</th>\n",
       "    </tr>\n",
       "  </thead>\n",
       "  <tbody>\n",
       "    <tr>\n",
       "      <th>0</th>\n",
       "      <td>2.085327</td>\n",
       "      <td>-1.642891</td>\n",
       "      <td>-0.290191</td>\n",
       "      <td>-0.536487</td>\n",
       "      <td>2.38862</td>\n",
       "      <td>-1.333206</td>\n",
       "      <td>-0.120777</td>\n",
       "    </tr>\n",
       "    <tr>\n",
       "      <th>1</th>\n",
       "      <td>1.952141</td>\n",
       "      <td>-1.643181</td>\n",
       "      <td>-0.290191</td>\n",
       "      <td>-0.598368</td>\n",
       "      <td>2.38862</td>\n",
       "      <td>-1.333206</td>\n",
       "      <td>-0.121738</td>\n",
       "    </tr>\n",
       "    <tr>\n",
       "      <th>2</th>\n",
       "      <td>0.987220</td>\n",
       "      <td>-1.463111</td>\n",
       "      <td>-0.290191</td>\n",
       "      <td>-0.730874</td>\n",
       "      <td>2.38862</td>\n",
       "      <td>-1.333206</td>\n",
       "      <td>0.475400</td>\n",
       "    </tr>\n",
       "    <tr>\n",
       "      <th>3</th>\n",
       "      <td>0.802390</td>\n",
       "      <td>-1.517568</td>\n",
       "      <td>-0.290191</td>\n",
       "      <td>-0.727265</td>\n",
       "      <td>2.38862</td>\n",
       "      <td>-2.302573</td>\n",
       "      <td>-0.289457</td>\n",
       "    </tr>\n",
       "    <tr>\n",
       "      <th>4</th>\n",
       "      <td>0.824135</td>\n",
       "      <td>-1.595550</td>\n",
       "      <td>-0.290191</td>\n",
       "      <td>-0.719620</td>\n",
       "      <td>2.38862</td>\n",
       "      <td>-2.302573</td>\n",
       "      <td>-0.367126</td>\n",
       "    </tr>\n",
       "  </tbody>\n",
       "</table>\n",
       "</div>"
      ],
      "text/plain": [
       "       rt3m      wage     f_dec    rubusd      unp      dGPD   wage_gr\n",
       "0  2.085327 -1.642891 -0.290191 -0.536487  2.38862 -1.333206 -0.120777\n",
       "1  1.952141 -1.643181 -0.290191 -0.598368  2.38862 -1.333206 -0.121738\n",
       "2  0.987220 -1.463111 -0.290191 -0.730874  2.38862 -1.333206  0.475400\n",
       "3  0.802390 -1.517568 -0.290191 -0.727265  2.38862 -2.302573 -0.289457\n",
       "4  0.824135 -1.595550 -0.290191 -0.719620  2.38862 -2.302573 -0.367126"
      ]
     },
     "execution_count": 78,
     "metadata": {},
     "output_type": "execute_result"
    }
   ],
   "source": [
    "X_train_scaled = pd.DataFrame(X_train_scaled,columns=X_train.columns)\n",
    "X_train_scaled.head()"
   ]
  },
  {
   "cell_type": "code",
   "execution_count": 67,
   "metadata": {
    "collapsed": false
   },
   "outputs": [
    {
     "data": {
      "text/plain": [
       "LinearRegression(copy_X=True, fit_intercept=True, n_jobs=-1, normalize=False)"
      ]
     },
     "execution_count": 67,
     "metadata": {},
     "output_type": "execute_result"
    }
   ],
   "source": [
    "linreg = LinearRegression(n_jobs=-1)\n",
    "#linreg.fit(X_train_scaled, y_train)\n",
    "linreg.fit(X_train, y_train)"
   ]
  },
  {
   "cell_type": "code",
   "execution_count": 68,
   "metadata": {
    "collapsed": false
   },
   "outputs": [
    {
     "name": "stdout",
     "output_type": "stream",
     "text": [
      "5.41884523391e-05\n"
     ]
    }
   ],
   "source": [
    "#print(mean_squared_error(linreg.predict(X_train_scaled), y_train))\n",
    "print(mean_squared_error(linreg.predict(X_train), y_train))"
   ]
  },
  {
   "cell_type": "code",
   "execution_count": 69,
   "metadata": {
    "collapsed": false
   },
   "outputs": [
    {
     "data": {
      "text/html": [
       "<div>\n",
       "<style>\n",
       "    .dataframe thead tr:only-child th {\n",
       "        text-align: right;\n",
       "    }\n",
       "\n",
       "    .dataframe thead th {\n",
       "        text-align: left;\n",
       "    }\n",
       "\n",
       "    .dataframe tbody tr th {\n",
       "        vertical-align: top;\n",
       "    }\n",
       "</style>\n",
       "<table border=\"1\" class=\"dataframe\">\n",
       "  <thead>\n",
       "    <tr style=\"text-align: right;\">\n",
       "      <th></th>\n",
       "      <th>Coeff.</th>\n",
       "      <th>Coeff.abs</th>\n",
       "    </tr>\n",
       "  </thead>\n",
       "  <tbody>\n",
       "    <tr>\n",
       "      <th>dGPD</th>\n",
       "      <td>2.428705e-01</td>\n",
       "      <td>2.428705e-01</td>\n",
       "    </tr>\n",
       "    <tr>\n",
       "      <th>wage_gr</th>\n",
       "      <td>-1.914788e-02</td>\n",
       "      <td>1.914788e-02</td>\n",
       "    </tr>\n",
       "    <tr>\n",
       "      <th>f_dec</th>\n",
       "      <td>4.575094e-03</td>\n",
       "      <td>4.575094e-03</td>\n",
       "    </tr>\n",
       "    <tr>\n",
       "      <th>unp</th>\n",
       "      <td>-1.266968e-03</td>\n",
       "      <td>1.266968e-03</td>\n",
       "    </tr>\n",
       "    <tr>\n",
       "      <th>rt3m</th>\n",
       "      <td>-9.271645e-04</td>\n",
       "      <td>9.271645e-04</td>\n",
       "    </tr>\n",
       "    <tr>\n",
       "      <th>rubusd</th>\n",
       "      <td>-2.824829e-04</td>\n",
       "      <td>2.824829e-04</td>\n",
       "    </tr>\n",
       "    <tr>\n",
       "      <th>wage</th>\n",
       "      <td>3.073487e-07</td>\n",
       "      <td>3.073487e-07</td>\n",
       "    </tr>\n",
       "  </tbody>\n",
       "</table>\n",
       "</div>"
      ],
      "text/plain": [
       "               Coeff.     Coeff.abs\n",
       "dGPD     2.428705e-01  2.428705e-01\n",
       "wage_gr -1.914788e-02  1.914788e-02\n",
       "f_dec    4.575094e-03  4.575094e-03\n",
       "unp     -1.266968e-03  1.266968e-03\n",
       "rt3m    -9.271645e-04  9.271645e-04\n",
       "rubusd  -2.824829e-04  2.824829e-04\n",
       "wage     3.073487e-07  3.073487e-07"
      ]
     },
     "execution_count": 69,
     "metadata": {},
     "output_type": "execute_result"
    }
   ],
   "source": [
    "linreg_coef = pd.DataFrame(np.c_[linreg.coef_, np.abs(linreg.coef_)], index=df[predictors].columns, \n",
    "                           columns=['Coeff.', 'Coeff.abs'])\n",
    "linreg_coef.sort_values(by='Coeff.abs', ascending=False)"
   ]
  },
  {
   "cell_type": "code",
   "execution_count": 70,
   "metadata": {
    "collapsed": false
   },
   "outputs": [
    {
     "data": {
      "text/plain": [
       "array([ -6.47187679e-04,   9.60784757e-07,  -0.00000000e+00,\n",
       "        -6.47650991e-04,  -0.00000000e+00,   0.00000000e+00,\n",
       "        -0.00000000e+00])"
      ]
     },
     "execution_count": 70,
     "metadata": {},
     "output_type": "execute_result"
    }
   ],
   "source": [
    "lasso1 = Lasso(alpha=0.01, random_state=7)\n",
    "#lasso1.fit(X_train_scaled, y_train)\n",
    "lasso1.fit(X_train, y_train)\n",
    "lasso1.coef_"
   ]
  },
  {
   "cell_type": "code",
   "execution_count": 71,
   "metadata": {
    "collapsed": false
   },
   "outputs": [
    {
     "data": {
      "text/html": [
       "<div>\n",
       "<style>\n",
       "    .dataframe thead tr:only-child th {\n",
       "        text-align: right;\n",
       "    }\n",
       "\n",
       "    .dataframe thead th {\n",
       "        text-align: left;\n",
       "    }\n",
       "\n",
       "    .dataframe tbody tr th {\n",
       "        vertical-align: top;\n",
       "    }\n",
       "</style>\n",
       "<table border=\"1\" class=\"dataframe\">\n",
       "  <thead>\n",
       "    <tr style=\"text-align: right;\">\n",
       "      <th></th>\n",
       "      <th>Coeff.</th>\n",
       "      <th>Coeff.abs</th>\n",
       "    </tr>\n",
       "  </thead>\n",
       "  <tbody>\n",
       "    <tr>\n",
       "      <th>rubusd</th>\n",
       "      <td>-6.476510e-04</td>\n",
       "      <td>6.476510e-04</td>\n",
       "    </tr>\n",
       "    <tr>\n",
       "      <th>rt3m</th>\n",
       "      <td>-6.471877e-04</td>\n",
       "      <td>6.471877e-04</td>\n",
       "    </tr>\n",
       "    <tr>\n",
       "      <th>wage</th>\n",
       "      <td>9.607848e-07</td>\n",
       "      <td>9.607848e-07</td>\n",
       "    </tr>\n",
       "    <tr>\n",
       "      <th>f_dec</th>\n",
       "      <td>-0.000000e+00</td>\n",
       "      <td>0.000000e+00</td>\n",
       "    </tr>\n",
       "    <tr>\n",
       "      <th>unp</th>\n",
       "      <td>-0.000000e+00</td>\n",
       "      <td>0.000000e+00</td>\n",
       "    </tr>\n",
       "    <tr>\n",
       "      <th>dGPD</th>\n",
       "      <td>0.000000e+00</td>\n",
       "      <td>0.000000e+00</td>\n",
       "    </tr>\n",
       "    <tr>\n",
       "      <th>wage_gr</th>\n",
       "      <td>-0.000000e+00</td>\n",
       "      <td>0.000000e+00</td>\n",
       "    </tr>\n",
       "  </tbody>\n",
       "</table>\n",
       "</div>"
      ],
      "text/plain": [
       "               Coeff.     Coeff.abs\n",
       "rubusd  -6.476510e-04  6.476510e-04\n",
       "rt3m    -6.471877e-04  6.471877e-04\n",
       "wage     9.607848e-07  9.607848e-07\n",
       "f_dec   -0.000000e+00  0.000000e+00\n",
       "unp     -0.000000e+00  0.000000e+00\n",
       "dGPD     0.000000e+00  0.000000e+00\n",
       "wage_gr -0.000000e+00  0.000000e+00"
      ]
     },
     "execution_count": 71,
     "metadata": {},
     "output_type": "execute_result"
    }
   ],
   "source": [
    "lasso1_coef = pd.DataFrame(np.c_[lasso1.coef_, np.abs(lasso1.coef_)], index=df[predictors].columns, \n",
    "                           columns=['Coeff.', 'Coeff.abs'])\n",
    "lasso1_coef.sort_values(by='Coeff.abs', ascending=False)"
   ]
  },
  {
   "cell_type": "code",
   "execution_count": null,
   "metadata": {
    "collapsed": false
   },
   "outputs": [],
   "source": [
    "alphas = np.linspace(0.1, 10, 200)\n",
    "lasso_cv = LassoCV(alphas=alphas, \n",
    "                   cv=5, random_state=7)\n",
    "lasso_cv.fit(X_train_scaled, y_train)"
   ]
  },
  {
   "cell_type": "code",
   "execution_count": null,
   "metadata": {
    "collapsed": false
   },
   "outputs": [],
   "source": [
    "lasso_cv_coef = pd.DataFrame(np.c_[lasso_cv.coef_, np.abs(lasso_cv.coef_)], index=df[predictors].columns,  \n",
    "                           columns=['Coeff.', 'Coeff.abs'])\n",
    "lasso_cv_coef.sort_values(by='Coeff.abs', ascending=False)"
   ]
  },
  {
   "cell_type": "code",
   "execution_count": 72,
   "metadata": {
    "collapsed": false
   },
   "outputs": [
    {
     "name": "stdout",
     "output_type": "stream",
     "text": [
      "0.000203245084452\n"
     ]
    }
   ],
   "source": [
    "#print(mean_squared_error(lasso_cv.predict(X_train_scaled), y_train))\n",
    "print(mean_squared_error(lasso_cv.predict(X_train), y_train))"
   ]
  },
  {
   "cell_type": "code",
   "execution_count": null,
   "metadata": {
    "collapsed": true
   },
   "outputs": [],
   "source": [
    "####пример модели\n",
    "import pandas as pd\n",
    "import numpy as np\n",
    "from sklearn.preprocessing import LabelEncoder\n",
    "from sklearn import metrics\n",
    "from sklearn.ensemble import ExtraTreesClassifier\n",
    "from sklearn import cross_validation\n",
    "\n",
    "\n",
    "def preProcess():\n",
    "    df= pd.read_csv('C:/Users/X/Desktop/Managerial_and_Decision_Economics_2013_Video_Games_Dataset.csv',encoding ='ISO-8859-1')\n",
    "    #drop non EA\n",
    "    df = df[df['EA'] ==1]\n",
    "    #change categorical variables\n",
    "    le = LabelEncoder()\n",
    "    nonnumeric_columns=['Console','Title','Publisher','Genre']\n",
    "    for feature in nonnumeric_columns:\n",
    "        df[feature] = le.fit_transform(df[feature])\n",
    "    #set dataset and target variables\n",
    "    dataset =df.ix[:, df.columns != 'US Sales (millions)']\n",
    "    target = df['US Sales (millions)']\n",
    "\n",
    "    trainx, testx, trainy, testy = cross_validation.train_test_split(\n",
    "        dataset, target, test_size=0.3, random_state=0)\n",
    "    #attempt to fix error?\n",
    "    trainx=np.array(trainx)\n",
    "    trainy = np.asarray(trainy, dtype=\"float\")\n",
    "    return trainx,testx,trainy,testy\n",
    "\n",
    "def classifier():\n",
    "    model =  ExtraTreesClassifier(n_estimators=250,\n",
    "                              random_state=0)\n",
    "    model.fit(trainx,trainy)\n",
    "    return model.score(testx,testy)\n",
    "\n",
    "\n",
    "trainx,testx,trainy,testy=preProcess()"
   ]
  }
 ],
 "metadata": {
  "anaconda-cloud": {},
  "kernelspec": {
   "display_name": "Python [Root]",
   "language": "python",
   "name": "Python [Root]"
  },
  "language_info": {
   "codemirror_mode": {
    "name": "ipython",
    "version": 3
   },
   "file_extension": ".py",
   "mimetype": "text/x-python",
   "name": "python",
   "nbconvert_exporter": "python",
   "pygments_lexer": "ipython3",
   "version": "3.5.2"
  }
 },
 "nbformat": 4,
 "nbformat_minor": 1
}

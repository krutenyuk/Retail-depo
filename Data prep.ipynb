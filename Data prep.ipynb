{
 "cells": [
  {
   "cell_type": "code",
   "execution_count": 1,
   "metadata": {
    "collapsed": false
   },
   "outputs": [
    {
     "name": "stdout",
     "output_type": "stream",
     "text": [
      "Populating the interactive namespace from numpy and matplotlib\n"
     ]
    }
   ],
   "source": [
    "import numpy as np\n",
    "import warnings\n",
    "warnings.simplefilter('ignore')\n",
    "import pandas as pd\n",
    "%pylab inline\n",
    "#import seaborn as sns\n",
    "import matplotlib.pyplot as plt"
   ]
  },
  {
   "cell_type": "code",
   "execution_count": 41,
   "metadata": {
    "collapsed": true
   },
   "outputs": [],
   "source": [
    "from sklearn.ensemble import GradientBoostingClassifier\n",
    "from sklearn.ensemble import RandomForestClassifier\n",
    "from sklearn.linear_model import LogisticRegression\n",
    "from sklearn.svm import SVC\n",
    "from sklearn.metrics import f1_score\n",
    "\n",
    "classifiers = [LogisticRegression(),\n",
    "               GradientBoostingClassifier(), \n",
    "               RandomForestClassifier(), \n",
    "               SVC()]\n",
    "classifiers_name = [\"LogisticRegression\",\n",
    "               \"GradientBoostingClassifier\", \n",
    "               \"RandomForestClassifier\", \n",
    "               \"SVC\"]"
   ]
  },
  {
   "cell_type": "code",
   "execution_count": 37,
   "metadata": {
    "collapsed": false
   },
   "outputs": [
    {
     "data": {
      "text/html": [
       "<div>\n",
       "<table border=\"1\" class=\"dataframe\">\n",
       "  <thead>\n",
       "    <tr style=\"text-align: right;\">\n",
       "      <th></th>\n",
       "      <th>Date</th>\n",
       "      <th>vol_tot</th>\n",
       "      <th>vol_rub</th>\n",
       "      <th>vol_ccy</th>\n",
       "      <th>expo_tot</th>\n",
       "      <th>portf_gr</th>\n",
       "      <th>expo_rub</th>\n",
       "      <th>expo_ccy</th>\n",
       "      <th>npl_tot</th>\n",
       "      <th>npl_rub</th>\n",
       "      <th>npl_ccy</th>\n",
       "      <th>rubusd</th>\n",
       "      <th>wage</th>\n",
       "      <th>wage_gr</th>\n",
       "      <th>rt3m</th>\n",
       "      <th>dGPD</th>\n",
       "      <th>f_dec</th>\n",
       "      <th>unp</th>\n",
       "    </tr>\n",
       "  </thead>\n",
       "  <tbody>\n",
       "    <tr>\n",
       "      <th>0</th>\n",
       "      <td>2009-04-01</td>\n",
       "      <td>456779.2</td>\n",
       "      <td>424697.2</td>\n",
       "      <td>32082.0</td>\n",
       "      <td>3848399.0</td>\n",
       "      <td>0.000000</td>\n",
       "      <td>3341053.6</td>\n",
       "      <td>507345.4</td>\n",
       "      <td>180597.6</td>\n",
       "      <td>155980.0</td>\n",
       "      <td>24617.6</td>\n",
       "      <td>33.9032</td>\n",
       "      <td>18009</td>\n",
       "      <td>0.000000</td>\n",
       "      <td>16.53</td>\n",
       "      <td>-0.035002</td>\n",
       "      <td>0</td>\n",
       "      <td>8.3</td>\n",
       "    </tr>\n",
       "    <tr>\n",
       "      <th>1</th>\n",
       "      <td>2009-05-01</td>\n",
       "      <td>228701.0</td>\n",
       "      <td>216410.3</td>\n",
       "      <td>12290.7</td>\n",
       "      <td>3791289.5</td>\n",
       "      <td>-0.014840</td>\n",
       "      <td>3300033.5</td>\n",
       "      <td>491256.0</td>\n",
       "      <td>193421.9</td>\n",
       "      <td>166553.5</td>\n",
       "      <td>26868.4</td>\n",
       "      <td>32.9740</td>\n",
       "      <td>18007</td>\n",
       "      <td>-0.000111</td>\n",
       "      <td>16.04</td>\n",
       "      <td>-0.035002</td>\n",
       "      <td>0</td>\n",
       "      <td>8.3</td>\n",
       "    </tr>\n",
       "    <tr>\n",
       "      <th>2</th>\n",
       "      <td>2009-06-01</td>\n",
       "      <td>221268.3</td>\n",
       "      <td>212818.6</td>\n",
       "      <td>8449.7</td>\n",
       "      <td>3722873.1</td>\n",
       "      <td>-0.018046</td>\n",
       "      <td>3266609.3</td>\n",
       "      <td>456263.8</td>\n",
       "      <td>202671.2</td>\n",
       "      <td>176069.2</td>\n",
       "      <td>26602.0</td>\n",
       "      <td>30.9843</td>\n",
       "      <td>19247</td>\n",
       "      <td>0.068862</td>\n",
       "      <td>12.49</td>\n",
       "      <td>-0.035002</td>\n",
       "      <td>0</td>\n",
       "      <td>8.3</td>\n",
       "    </tr>\n",
       "    <tr>\n",
       "      <th>3</th>\n",
       "      <td>2009-07-01</td>\n",
       "      <td>266435.9</td>\n",
       "      <td>256395.6</td>\n",
       "      <td>10040.3</td>\n",
       "      <td>3683033.9</td>\n",
       "      <td>-0.010701</td>\n",
       "      <td>3232124.6</td>\n",
       "      <td>450909.3</td>\n",
       "      <td>209446.2</td>\n",
       "      <td>182799.5</td>\n",
       "      <td>26646.7</td>\n",
       "      <td>31.0385</td>\n",
       "      <td>18872</td>\n",
       "      <td>-0.019484</td>\n",
       "      <td>11.81</td>\n",
       "      <td>-0.065562</td>\n",
       "      <td>0</td>\n",
       "      <td>8.3</td>\n",
       "    </tr>\n",
       "    <tr>\n",
       "      <th>4</th>\n",
       "      <td>2009-08-01</td>\n",
       "      <td>232492.2</td>\n",
       "      <td>221958.4</td>\n",
       "      <td>10533.8</td>\n",
       "      <td>3667260.9</td>\n",
       "      <td>-0.004283</td>\n",
       "      <td>3218173.3</td>\n",
       "      <td>449087.6</td>\n",
       "      <td>217713.4</td>\n",
       "      <td>190062.3</td>\n",
       "      <td>27651.1</td>\n",
       "      <td>31.1533</td>\n",
       "      <td>18335</td>\n",
       "      <td>-0.028455</td>\n",
       "      <td>11.89</td>\n",
       "      <td>-0.065562</td>\n",
       "      <td>0</td>\n",
       "      <td>8.3</td>\n",
       "    </tr>\n",
       "  </tbody>\n",
       "</table>\n",
       "</div>"
      ],
      "text/plain": [
       "        Date   vol_tot   vol_rub  vol_ccy   expo_tot  portf_gr   expo_rub  \\\n",
       "0 2009-04-01  456779.2  424697.2  32082.0  3848399.0  0.000000  3341053.6   \n",
       "1 2009-05-01  228701.0  216410.3  12290.7  3791289.5 -0.014840  3300033.5   \n",
       "2 2009-06-01  221268.3  212818.6   8449.7  3722873.1 -0.018046  3266609.3   \n",
       "3 2009-07-01  266435.9  256395.6  10040.3  3683033.9 -0.010701  3232124.6   \n",
       "4 2009-08-01  232492.2  221958.4  10533.8  3667260.9 -0.004283  3218173.3   \n",
       "\n",
       "   expo_ccy   npl_tot   npl_rub  npl_ccy   rubusd   wage   wage_gr   rt3m  \\\n",
       "0  507345.4  180597.6  155980.0  24617.6  33.9032  18009  0.000000  16.53   \n",
       "1  491256.0  193421.9  166553.5  26868.4  32.9740  18007 -0.000111  16.04   \n",
       "2  456263.8  202671.2  176069.2  26602.0  30.9843  19247  0.068862  12.49   \n",
       "3  450909.3  209446.2  182799.5  26646.7  31.0385  18872 -0.019484  11.81   \n",
       "4  449087.6  217713.4  190062.3  27651.1  31.1533  18335 -0.028455  11.89   \n",
       "\n",
       "       dGPD  f_dec  unp  \n",
       "0 -0.035002      0  8.3  \n",
       "1 -0.035002      0  8.3  \n",
       "2 -0.035002      0  8.3  \n",
       "3 -0.065562      0  8.3  \n",
       "4 -0.065562      0  8.3  "
      ]
     },
     "execution_count": 37,
     "metadata": {},
     "output_type": "execute_result"
    }
   ],
   "source": [
    "xls_file = pd.ExcelFile('retail_vol_ccy_w_rt.xlsx')\n",
    "df = xls_file.parse('Total')\n",
    "df.head()"
   ]
  },
  {
   "cell_type": "code",
   "execution_count": 15,
   "metadata": {
    "collapsed": false
   },
   "outputs": [],
   "source": [
    "df['Date'] = pd.to_datetime(df['Date'], yearfirst=True)"
   ]
  },
  {
   "cell_type": "code",
   "execution_count": 71,
   "metadata": {
    "collapsed": false
   },
   "outputs": [],
   "source": [
    "df.sort?"
   ]
  },
  {
   "cell_type": "code",
   "execution_count": null,
   "metadata": {
    "collapsed": false
   },
   "outputs": [],
   "source": [
    "plt.plot(df['vol_tot'])\n",
    "plt.plot(df['expo_tot'])\n",
    "plt.plot(df['npl_tot'])\n",
    "plt.show()"
   ]
  },
  {
   "cell_type": "code",
   "execution_count": null,
   "metadata": {
    "collapsed": false
   },
   "outputs": [],
   "source": [
    "plt.plot(df['rubusd'])\n",
    "plt.plot(df['rt3m'])\n",
    "plt.plot(df['wage']/300)\n",
    "plt.show()"
   ]
  },
  {
   "cell_type": "code",
   "execution_count": 39,
   "metadata": {
    "collapsed": false
   },
   "outputs": [],
   "source": [
    "predictors = list(set(['rubusd','wage','wage_gr','rt3m','dGPD','f_dec', 'unp']))"
   ]
  },
  {
   "cell_type": "markdown",
   "metadata": {},
   "source": [
    "Пока берем в качестве обучающей выборки всю выборку"
   ]
  },
  {
   "cell_type": "code",
   "execution_count": 44,
   "metadata": {
    "collapsed": true
   },
   "outputs": [],
   "source": [
    "X_train = df[predictors]\n",
    "y_train = df['portf_gr']\n",
    "\n",
    "X_test = df[predictors]\n",
    "y_test = df['portf_gr']"
   ]
  },
  {
   "cell_type": "code",
   "execution_count": 40,
   "metadata": {
    "collapsed": false
   },
   "outputs": [
    {
     "data": {
      "text/html": [
       "<div>\n",
       "<table border=\"1\" class=\"dataframe\">\n",
       "  <thead>\n",
       "    <tr style=\"text-align: right;\">\n",
       "      <th></th>\n",
       "      <th>f_dec</th>\n",
       "      <th>dGPD</th>\n",
       "      <th>unp</th>\n",
       "      <th>rt3m</th>\n",
       "      <th>wage</th>\n",
       "      <th>rubusd</th>\n",
       "      <th>wage_gr</th>\n",
       "    </tr>\n",
       "  </thead>\n",
       "  <tbody>\n",
       "    <tr>\n",
       "      <th>f_dec</th>\n",
       "      <td>1.000000</td>\n",
       "      <td>-0.005812</td>\n",
       "      <td>0.038185</td>\n",
       "      <td>-0.027643</td>\n",
       "      <td>0.313199</td>\n",
       "      <td>0.003313</td>\n",
       "      <td>0.734719</td>\n",
       "    </tr>\n",
       "    <tr>\n",
       "      <th>dGPD</th>\n",
       "      <td>-0.005812</td>\n",
       "      <td>1.000000</td>\n",
       "      <td>-0.455573</td>\n",
       "      <td>-0.487584</td>\n",
       "      <td>0.021840</td>\n",
       "      <td>-0.353770</td>\n",
       "      <td>0.000807</td>\n",
       "    </tr>\n",
       "    <tr>\n",
       "      <th>unp</th>\n",
       "      <td>0.038185</td>\n",
       "      <td>-0.455573</td>\n",
       "      <td>1.000000</td>\n",
       "      <td>-0.178049</td>\n",
       "      <td>-0.745692</td>\n",
       "      <td>-0.428949</td>\n",
       "      <td>0.064783</td>\n",
       "    </tr>\n",
       "    <tr>\n",
       "      <th>rt3m</th>\n",
       "      <td>-0.027643</td>\n",
       "      <td>-0.487584</td>\n",
       "      <td>-0.178049</td>\n",
       "      <td>1.000000</td>\n",
       "      <td>0.407999</td>\n",
       "      <td>0.641749</td>\n",
       "      <td>-0.083105</td>\n",
       "    </tr>\n",
       "    <tr>\n",
       "      <th>wage</th>\n",
       "      <td>0.313199</td>\n",
       "      <td>0.021840</td>\n",
       "      <td>-0.745692</td>\n",
       "      <td>0.407999</td>\n",
       "      <td>1.000000</td>\n",
       "      <td>0.743579</td>\n",
       "      <td>0.269423</td>\n",
       "    </tr>\n",
       "    <tr>\n",
       "      <th>rubusd</th>\n",
       "      <td>0.003313</td>\n",
       "      <td>-0.353770</td>\n",
       "      <td>-0.428949</td>\n",
       "      <td>0.641749</td>\n",
       "      <td>0.743579</td>\n",
       "      <td>1.000000</td>\n",
       "      <td>-0.022971</td>\n",
       "    </tr>\n",
       "    <tr>\n",
       "      <th>wage_gr</th>\n",
       "      <td>0.734719</td>\n",
       "      <td>0.000807</td>\n",
       "      <td>0.064783</td>\n",
       "      <td>-0.083105</td>\n",
       "      <td>0.269423</td>\n",
       "      <td>-0.022971</td>\n",
       "      <td>1.000000</td>\n",
       "    </tr>\n",
       "  </tbody>\n",
       "</table>\n",
       "</div>"
      ],
      "text/plain": [
       "            f_dec      dGPD       unp      rt3m      wage    rubusd   wage_gr\n",
       "f_dec    1.000000 -0.005812  0.038185 -0.027643  0.313199  0.003313  0.734719\n",
       "dGPD    -0.005812  1.000000 -0.455573 -0.487584  0.021840 -0.353770  0.000807\n",
       "unp      0.038185 -0.455573  1.000000 -0.178049 -0.745692 -0.428949  0.064783\n",
       "rt3m    -0.027643 -0.487584 -0.178049  1.000000  0.407999  0.641749 -0.083105\n",
       "wage     0.313199  0.021840 -0.745692  0.407999  1.000000  0.743579  0.269423\n",
       "rubusd   0.003313 -0.353770 -0.428949  0.641749  0.743579  1.000000 -0.022971\n",
       "wage_gr  0.734719  0.000807  0.064783 -0.083105  0.269423 -0.022971  1.000000"
      ]
     },
     "execution_count": 40,
     "metadata": {},
     "output_type": "execute_result"
    }
   ],
   "source": [
    "corr = df[predictors].corr()\n",
    "corr"
   ]
  },
  {
   "cell_type": "code",
   "execution_count": 33,
   "metadata": {
    "collapsed": false
   },
   "outputs": [
    {
     "data": {
      "image/png": "[encoded data removed]",
      "text/plain": [
       "<matplotlib.figure.Figure at 0xb82f130>"
      ]
     },
     "metadata": {},
     "output_type": "display_data"
    }
   ],
   "source": [
    "plots = df[predictors].hist()"
   ]
  },
  {
   "cell_type": "code",
   "execution_count": 42,
   "metadata": {
    "collapsed": true
   },
   "outputs": [],
   "source": [
    "from sklearn.grid_search import GridSearchCV\n",
    "from sklearn.cross_validation import StratifiedKFold"
   ]
  },
  {
   "cell_type": "code",
   "execution_count": 45,
   "metadata": {
    "collapsed": false
   },
   "outputs": [
    {
     "ename": "ValueError",
     "evalue": "Unknown label type: array([[  0.00000000e+00],\n       [ -1.48398074e-02],\n       [ -1.80456808e-02],\n       [ -1.07011974e-02],\n       [ -4.28261059e-03],\n       [ -5.85903228e-03],\n       [ -1.13059385e-02],\n       [ -6.80572145e-03],\n       [ -2.29624172e-03],\n       [ -2.64211085e-03],\n       [ -8.56399908e-03],\n       [ -5.69020612e-03],\n       [  9.45394632e-05],\n       [  9.91032982e-03],\n       [  1.41131732e-02],\n       [  1.68845499e-02],\n       [  1.58898102e-02],\n       [  1.90537191e-02],\n       [  1.73379355e-02],\n       [  1.70206492e-02],\n       [  1.59001284e-02],\n       [  2.10850215e-02],\n       [ -1.34078240e-03],\n       [  6.73631965e-03],\n       [  2.13106617e-02],\n       [  2.79826792e-02],\n       [  3.06136769e-02],\n       [  3.23771778e-02],\n       [  2.88781226e-02],\n       [  3.65048728e-02],\n       [  3.61075438e-02],\n       [  2.36225125e-02],\n       [  3.06196335e-02],\n       [  4.02723908e-02],\n       [  5.67744188e-03],\n       [  2.07887557e-02],\n       [  3.46290564e-02],\n       [  3.74566819e-02],\n       [  4.03577952e-02],\n       [  3.25838059e-02],\n       [  2.82135571e-02],\n       [  3.58806974e-02],\n       [  2.53581496e-02],\n       [  2.92225847e-02],\n       [  2.40903453e-02],\n       [  2.25340859e-02],\n       [  8.14613666e-03],\n       [  1.64594259e-02],\n       [  2.19273503e-02],\n       [  3.17443964e-02],\n       [  2.68268881e-02],\n       [  2.53006987e-02],\n       [  2.77528501e-02],\n       [  2.51602659e-02],\n       [  1.41379050e-02],\n       [  2.26216112e-02],\n       [  1.51672152e-02],\n       [  2.00945614e-02],\n       [  2.35081436e-03],\n       [  1.14634702e-02],\n       [  1.32489224e-02],\n       [  1.78400977e-02],\n       [  1.03210989e-02],\n       [  1.14714719e-02],\n       [  1.70570293e-02],\n       [  1.27876000e-02],\n       [  1.21434784e-02],\n       [  1.03400790e-02],\n       [  1.02401638e-02],\n       [  7.59423349e-04],\n       [ -6.91541551e-03],\n       [ -1.47179311e-02],\n       [ -1.32954841e-02],\n       [ -1.04534438e-02],\n       [ -4.72640885e-03],\n       [ -4.61663348e-03],\n       [  5.89332355e-05],\n       [  3.98963846e-03],\n       [ -9.74533102e-04],\n       [ -4.53525334e-03],\n       [ -3.45260662e-03],\n       [ -3.16336699e-04],\n       [ -5.18815294e-03],\n       [ -8.91021947e-04],\n       [ -4.41887260e-03],\n       [ -3.57036523e-04],\n       [  2.04763277e-03],\n       [  3.14595634e-04],\n       [  5.32349200e-03],\n       [  5.78171939e-03],\n       [  2.98135856e-03],\n       [  2.30598767e-03],\n       [  3.85390882e-03],\n       [  1.36983055e-03],\n       [ -3.64441926e-03],\n       [  5.17957619e-04],\n       [  9.07707046e-03],\n       [  1.02484730e-02],\n       [  7.24933861e-03],\n       [  1.11642639e-02],\n       [  1.29219840e-02],\n       [  1.61471702e-02],\n       [  1.32103942e-02]])",
     "output_type": "error",
     "traceback": [
      "\u001b[0;31m---------------------------------------------------------------------------\u001b[0m",
      "\u001b[0;31mValueError\u001b[0m                                Traceback (most recent call last)",
      "\u001b[0;32m<ipython-input-45-02b745cc0c28>\u001b[0m in \u001b[0;36m<module>\u001b[0;34m()\u001b[0m\n\u001b[1;32m      2\u001b[0m \u001b[1;32mfrom\u001b[0m \u001b[0msklearn\u001b[0m\u001b[1;33m.\u001b[0m\u001b[0mmetrics\u001b[0m \u001b[1;32mimport\u001b[0m \u001b[0maccuracy_score\u001b[0m\u001b[1;33m,\u001b[0m \u001b[0mconfusion_matrix\u001b[0m\u001b[1;33m,\u001b[0m \u001b[0mf1_score\u001b[0m\u001b[1;33m\u001b[0m\u001b[0m\n\u001b[1;32m      3\u001b[0m \u001b[0mforest\u001b[0m \u001b[1;33m=\u001b[0m \u001b[0mRandomForestClassifier\u001b[0m\u001b[1;33m(\u001b[0m\u001b[0mn_estimators\u001b[0m\u001b[1;33m=\u001b[0m\u001b[1;36m500\u001b[0m\u001b[1;33m)\u001b[0m\u001b[1;33m\u001b[0m\u001b[0m\n\u001b[0;32m----> 4\u001b[0;31m \u001b[0mforest\u001b[0m\u001b[1;33m.\u001b[0m\u001b[0mfit\u001b[0m\u001b[1;33m(\u001b[0m\u001b[0mX_train\u001b[0m\u001b[1;33m,\u001b[0m \u001b[0my_train\u001b[0m\u001b[1;33m)\u001b[0m\u001b[1;33m\u001b[0m\u001b[0m\n\u001b[0m\u001b[1;32m      5\u001b[0m \u001b[0mtest_pred\u001b[0m \u001b[1;33m=\u001b[0m \u001b[0mforest\u001b[0m\u001b[1;33m.\u001b[0m\u001b[0mpredict\u001b[0m\u001b[1;33m(\u001b[0m\u001b[0mX_test\u001b[0m\u001b[1;33m)\u001b[0m\u001b[1;33m\u001b[0m\u001b[0m\n",
      "\u001b[0;32mC:\\Program Files\\Anaconda3\\lib\\site-packages\\sklearn\\ensemble\\forest.py\u001b[0m in \u001b[0;36mfit\u001b[0;34m(self, X, y, sample_weight)\u001b[0m\n\u001b[1;32m    233\u001b[0m         \u001b[0mself\u001b[0m\u001b[1;33m.\u001b[0m\u001b[0mn_outputs_\u001b[0m \u001b[1;33m=\u001b[0m \u001b[0my\u001b[0m\u001b[1;33m.\u001b[0m\u001b[0mshape\u001b[0m\u001b[1;33m[\u001b[0m\u001b[1;36m1\u001b[0m\u001b[1;33m]\u001b[0m\u001b[1;33m\u001b[0m\u001b[0m\n\u001b[1;32m    234\u001b[0m \u001b[1;33m\u001b[0m\u001b[0m\n\u001b[0;32m--> 235\u001b[0;31m         \u001b[0my\u001b[0m\u001b[1;33m,\u001b[0m \u001b[0mexpanded_class_weight\u001b[0m \u001b[1;33m=\u001b[0m \u001b[0mself\u001b[0m\u001b[1;33m.\u001b[0m\u001b[0m_validate_y_class_weight\u001b[0m\u001b[1;33m(\u001b[0m\u001b[0my\u001b[0m\u001b[1;33m)\u001b[0m\u001b[1;33m\u001b[0m\u001b[0m\n\u001b[0m\u001b[1;32m    236\u001b[0m \u001b[1;33m\u001b[0m\u001b[0m\n\u001b[1;32m    237\u001b[0m         \u001b[1;32mif\u001b[0m \u001b[0mgetattr\u001b[0m\u001b[1;33m(\u001b[0m\u001b[0my\u001b[0m\u001b[1;33m,\u001b[0m \u001b[1;34m\"dtype\"\u001b[0m\u001b[1;33m,\u001b[0m \u001b[1;32mNone\u001b[0m\u001b[1;33m)\u001b[0m \u001b[1;33m!=\u001b[0m \u001b[0mDOUBLE\u001b[0m \u001b[1;32mor\u001b[0m \u001b[1;32mnot\u001b[0m \u001b[0my\u001b[0m\u001b[1;33m.\u001b[0m\u001b[0mflags\u001b[0m\u001b[1;33m.\u001b[0m\u001b[0mcontiguous\u001b[0m\u001b[1;33m:\u001b[0m\u001b[1;33m\u001b[0m\u001b[0m\n",
      "\u001b[0;32mC:\\Program Files\\Anaconda3\\lib\\site-packages\\sklearn\\ensemble\\forest.py\u001b[0m in \u001b[0;36m_validate_y_class_weight\u001b[0;34m(self, y)\u001b[0m\n\u001b[1;32m    419\u001b[0m \u001b[1;33m\u001b[0m\u001b[0m\n\u001b[1;32m    420\u001b[0m     \u001b[1;32mdef\u001b[0m \u001b[0m_validate_y_class_weight\u001b[0m\u001b[1;33m(\u001b[0m\u001b[0mself\u001b[0m\u001b[1;33m,\u001b[0m \u001b[0my\u001b[0m\u001b[1;33m)\u001b[0m\u001b[1;33m:\u001b[0m\u001b[1;33m\u001b[0m\u001b[0m\n\u001b[0;32m--> 421\u001b[0;31m         \u001b[0mcheck_classification_targets\u001b[0m\u001b[1;33m(\u001b[0m\u001b[0my\u001b[0m\u001b[1;33m)\u001b[0m\u001b[1;33m\u001b[0m\u001b[0m\n\u001b[0m\u001b[1;32m    422\u001b[0m \u001b[1;33m\u001b[0m\u001b[0m\n\u001b[1;32m    423\u001b[0m         \u001b[0my\u001b[0m \u001b[1;33m=\u001b[0m \u001b[0mnp\u001b[0m\u001b[1;33m.\u001b[0m\u001b[0mcopy\u001b[0m\u001b[1;33m(\u001b[0m\u001b[0my\u001b[0m\u001b[1;33m)\u001b[0m\u001b[1;33m\u001b[0m\u001b[0m\n",
      "\u001b[0;32mC:\\Program Files\\Anaconda3\\lib\\site-packages\\sklearn\\utils\\multiclass.py\u001b[0m in \u001b[0;36mcheck_classification_targets\u001b[0;34m(y)\u001b[0m\n\u001b[1;32m    171\u001b[0m     if y_type not in ['binary', 'multiclass', 'multiclass-multioutput', \n\u001b[1;32m    172\u001b[0m             'multilabel-indicator', 'multilabel-sequences']:\n\u001b[0;32m--> 173\u001b[0;31m         \u001b[1;32mraise\u001b[0m \u001b[0mValueError\u001b[0m\u001b[1;33m(\u001b[0m\u001b[1;34m\"Unknown label type: %r\"\u001b[0m \u001b[1;33m%\u001b[0m \u001b[0my\u001b[0m\u001b[1;33m)\u001b[0m\u001b[1;33m\u001b[0m\u001b[0m\n\u001b[0m\u001b[1;32m    174\u001b[0m \u001b[1;33m\u001b[0m\u001b[0m\n\u001b[1;32m    175\u001b[0m \u001b[1;33m\u001b[0m\u001b[0m\n",
      "\u001b[0;31mValueError\u001b[0m: Unknown label type: array([[  0.00000000e+00],\n       [ -1.48398074e-02],\n       [ -1.80456808e-02],\n       [ -1.07011974e-02],\n       [ -4.28261059e-03],\n       [ -5.85903228e-03],\n       [ -1.13059385e-02],\n       [ -6.80572145e-03],\n       [ -2.29624172e-03],\n       [ -2.64211085e-03],\n       [ -8.56399908e-03],\n       [ -5.69020612e-03],\n       [  9.45394632e-05],\n       [  9.91032982e-03],\n       [  1.41131732e-02],\n       [  1.68845499e-02],\n       [  1.58898102e-02],\n       [  1.90537191e-02],\n       [  1.73379355e-02],\n       [  1.70206492e-02],\n       [  1.59001284e-02],\n       [  2.10850215e-02],\n       [ -1.34078240e-03],\n       [  6.73631965e-03],\n       [  2.13106617e-02],\n       [  2.79826792e-02],\n       [  3.06136769e-02],\n       [  3.23771778e-02],\n       [  2.88781226e-02],\n       [  3.65048728e-02],\n       [  3.61075438e-02],\n       [  2.36225125e-02],\n       [  3.06196335e-02],\n       [  4.02723908e-02],\n       [  5.67744188e-03],\n       [  2.07887557e-02],\n       [  3.46290564e-02],\n       [  3.74566819e-02],\n       [  4.03577952e-02],\n       [  3.25838059e-02],\n       [  2.82135571e-02],\n       [  3.58806974e-02],\n       [  2.53581496e-02],\n       [  2.92225847e-02],\n       [  2.40903453e-02],\n       [  2.25340859e-02],\n       [  8.14613666e-03],\n       [  1.64594259e-02],\n       [  2.19273503e-02],\n       [  3.17443964e-02],\n       [  2.68268881e-02],\n       [  2.53006987e-02],\n       [  2.77528501e-02],\n       [  2.51602659e-02],\n       [  1.41379050e-02],\n       [  2.26216112e-02],\n       [  1.51672152e-02],\n       [  2.00945614e-02],\n       [  2.35081436e-03],\n       [  1.14634702e-02],\n       [  1.32489224e-02],\n       [  1.78400977e-02],\n       [  1.03210989e-02],\n       [  1.14714719e-02],\n       [  1.70570293e-02],\n       [  1.27876000e-02],\n       [  1.21434784e-02],\n       [  1.03400790e-02],\n       [  1.02401638e-02],\n       [  7.59423349e-04],\n       [ -6.91541551e-03],\n       [ -1.47179311e-02],\n       [ -1.32954841e-02],\n       [ -1.04534438e-02],\n       [ -4.72640885e-03],\n       [ -4.61663348e-03],\n       [  5.89332355e-05],\n       [  3.98963846e-03],\n       [ -9.74533102e-04],\n       [ -4.53525334e-03],\n       [ -3.45260662e-03],\n       [ -3.16336699e-04],\n       [ -5.18815294e-03],\n       [ -8.91021947e-04],\n       [ -4.41887260e-03],\n       [ -3.57036523e-04],\n       [  2.04763277e-03],\n       [  3.14595634e-04],\n       [  5.32349200e-03],\n       [  5.78171939e-03],\n       [  2.98135856e-03],\n       [  2.30598767e-03],\n       [  3.85390882e-03],\n       [  1.36983055e-03],\n       [ -3.64441926e-03],\n       [  5.17957619e-04],\n       [  9.07707046e-03],\n       [  1.02484730e-02],\n       [  7.24933861e-03],\n       [  1.11642639e-02],\n       [  1.29219840e-02],\n       [  1.61471702e-02],\n       [  1.32103942e-02]])"
     ]
    }
   ],
   "source": [
    "from sklearn.ensemble import RandomForestClassifier\n",
    "from sklearn.ensemble import RandomForestRegressor\n",
    "from sklearn.metrics import accuracy_score, confusion_matrix, f1_score\n",
    "forest = RandomFores(n_estimators=500)\n",
    "forest.fit(X_train, y_train)\n",
    "test_pred = forest.predict(X_test)"
   ]
  },
  {
   "cell_type": "code",
   "execution_count": null,
   "metadata": {
    "collapsed": true
   },
   "outputs": [],
   "source": [
    "accuracy_score(y_test, test_pred)"
   ]
  },
  {
   "cell_type": "code",
   "execution_count": null,
   "metadata": {
    "collapsed": true
   },
   "outputs": [],
   "source": [
    "####пример модели\n",
    "import pandas as pd\n",
    "import numpy as np\n",
    "from sklearn.preprocessing import LabelEncoder\n",
    "from sklearn import metrics\n",
    "from sklearn.ensemble import ExtraTreesClassifier\n",
    "from sklearn import cross_validation\n",
    "\n",
    "\n",
    "def preProcess():\n",
    "    df= pd.read_csv('C:/Users/X/Desktop/Managerial_and_Decision_Economics_2013_Video_Games_Dataset.csv',encoding ='ISO-8859-1')\n",
    "    #drop non EA\n",
    "    df = df[df['EA'] ==1]\n",
    "    #change categorical variables\n",
    "    le = LabelEncoder()\n",
    "    nonnumeric_columns=['Console','Title','Publisher','Genre']\n",
    "    for feature in nonnumeric_columns:\n",
    "        df[feature] = le.fit_transform(df[feature])\n",
    "    #set dataset and target variables\n",
    "    dataset =df.ix[:, df.columns != 'US Sales (millions)']\n",
    "    target = df['US Sales (millions)']\n",
    "\n",
    "    trainx, testx, trainy, testy = cross_validation.train_test_split(\n",
    "        dataset, target, test_size=0.3, random_state=0)\n",
    "    #attempt to fix error?\n",
    "    trainx=np.array(trainx)\n",
    "    trainy = np.asarray(trainy, dtype=\"float\")\n",
    "    return trainx,testx,trainy,testy\n",
    "\n",
    "def classifier():\n",
    "    model =  ExtraTreesClassifier(n_estimators=250,\n",
    "                              random_state=0)\n",
    "    model.fit(trainx,trainy)\n",
    "    return model.score(testx,testy)\n",
    "\n",
    "\n",
    "trainx,testx,trainy,testy=preProcess()"
   ]
  }
 ],
 "metadata": {
  "anaconda-cloud": {},
  "kernelspec": {
   "display_name": "Python [default]",
   "language": "python",
   "name": "python3"
  },
  "language_info": {
   "codemirror_mode": {
    "name": "ipython",
    "version": 3
   },
   "file_extension": ".py",
   "mimetype": "text/x-python",
   "name": "python",
   "nbconvert_exporter": "python",
   "pygments_lexer": "ipython3",
   "version": "3.5.2"
  }
 },
 "nbformat": 4,
 "nbformat_minor": 1
}

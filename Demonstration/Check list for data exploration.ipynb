{
 "cells": [
  {
   "cell_type": "markdown",
   "metadata": {},
   "source": [
    "### Data Exploration\n",
    "\n",
    "1. Formulate your question\n",
    "2. Read in your data\n",
    "3. Check the packaging\n",
    "4. Look at the top and the bottom of your data\n",
    "5. Check your \"n\"s\n",
    "6. Validate with at least one external data source\n",
    "7. Make a plot\n",
    "8. Try the easy solution first\n",
    "9. Follow up:\n",
    "    - Do you have the right data? \n",
    "    - Do you need other data? \n",
    "    - Do you have the right question? "
   ]
  },
  {
   "cell_type": "code",
   "execution_count": null,
   "metadata": {
    "collapsed": true
   },
   "outputs": [],
   "source": []
  }
 ],
 "metadata": {
  "kernelspec": {
   "display_name": "Python [Root]",
   "language": "python",
   "name": "Python [Root]"
  },
  "language_info": {
   "codemirror_mode": {
    "name": "ipython",
    "version": 3
   },
   "file_extension": ".py",
   "mimetype": "text/x-python",
   "name": "python",
   "nbconvert_exporter": "python",
   "pygments_lexer": "ipython3",
   "version": "3.5.2"
  }
 },
 "nbformat": 4,
 "nbformat_minor": 0
}

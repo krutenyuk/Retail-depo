{
 "cells": [
  {
   "cell_type": "code",
   "execution_count": 1,
   "metadata": {
    "collapsed": true
   },
   "outputs": [],
   "source": [
    "import numpy as np\n",
    "import time\n",
    "import pandas as pd\n",
    "import matplotlib.pyplot as plt\n",
    "import random\n",
    "from scipy.stats import norm as n\n",
    "import warnings\n",
    "warnings.filterwarnings('ignore')"
   ]
  },
  {
   "cell_type": "code",
   "execution_count": 14,
   "metadata": {
    "collapsed": true
   },
   "outputs": [],
   "source": [
    "PORTFOLIO = pd.read_csv('PORTFOLIO_CPM.csv')"
   ]
  },
  {
   "cell_type": "code",
   "execution_count": 20,
   "metadata": {
    "collapsed": false
   },
   "outputs": [
    {
     "data": {
      "text/plain": [
       "8023767455.426786"
      ]
     },
     "execution_count": 20,
     "metadata": {},
     "output_type": "execute_result"
    }
   ],
   "source": [
    "np.sum(PORTFOLIO['EAD']*PORTFOLIO['LGD'])"
   ]
  },
  {
   "cell_type": "code",
   "execution_count": 3,
   "metadata": {
    "collapsed": false
   },
   "outputs": [
    {
     "name": "stdout",
     "output_type": "stream",
     "text": [
      "(819942, 13)\n"
     ]
    },
    {
     "data": {
      "text/html": [
       "<div>\n",
       "<table border=\"1\" class=\"dataframe\">\n",
       "  <thead>\n",
       "    <tr style=\"text-align: right;\">\n",
       "      <th></th>\n",
       "      <th>EXPOSURE_UNIQUE_ID</th>\n",
       "      <th>ASSET_CLASS</th>\n",
       "      <th>LGD</th>\n",
       "      <th>PD</th>\n",
       "      <th>EAD</th>\n",
       "      <th>REGION</th>\n",
       "      <th>INDUSTRY_GICS</th>\n",
       "      <th>INDUSTRY</th>\n",
       "      <th>SEGMENT</th>\n",
       "      <th>ALPHA</th>\n",
       "      <th>R_I_S</th>\n",
       "      <th>BETA_INDUSTRY</th>\n",
       "      <th>BETA_REGION</th>\n",
       "    </tr>\n",
       "  </thead>\n",
       "  <tbody>\n",
       "    <tr>\n",
       "      <th>109654</th>\n",
       "      <td>1018657059731</td>\n",
       "      <td>SR</td>\n",
       "      <td>0.6</td>\n",
       "      <td>0.002844</td>\n",
       "      <td>0.0</td>\n",
       "      <td>RU</td>\n",
       "      <td>NaN</td>\n",
       "      <td>RU</td>\n",
       "      <td>PSE</td>\n",
       "      <td>0.735742</td>\n",
       "      <td>RU RU PSE</td>\n",
       "      <td>NaN</td>\n",
       "      <td>NaN</td>\n",
       "    </tr>\n",
       "    <tr>\n",
       "      <th>234234</th>\n",
       "      <td>1018698180661</td>\n",
       "      <td>BM</td>\n",
       "      <td>0.6</td>\n",
       "      <td>0.020000</td>\n",
       "      <td>0.0</td>\n",
       "      <td>EM</td>\n",
       "      <td>FIN</td>\n",
       "      <td>EM</td>\n",
       "      <td>SOV</td>\n",
       "      <td>0.596354</td>\n",
       "      <td>EM EM SOV</td>\n",
       "      <td>NaN</td>\n",
       "      <td>NaN</td>\n",
       "    </tr>\n",
       "    <tr>\n",
       "      <th>469296</th>\n",
       "      <td>1018790935861</td>\n",
       "      <td>SP</td>\n",
       "      <td>0.6</td>\n",
       "      <td>0.002844</td>\n",
       "      <td>0.0</td>\n",
       "      <td>RU</td>\n",
       "      <td>CDI</td>\n",
       "      <td>RU</td>\n",
       "      <td>PSE</td>\n",
       "      <td>0.735742</td>\n",
       "      <td>RU RU PSE</td>\n",
       "      <td>NaN</td>\n",
       "      <td>NaN</td>\n",
       "    </tr>\n",
       "    <tr>\n",
       "      <th>469297</th>\n",
       "      <td>1018790935921</td>\n",
       "      <td>SP</td>\n",
       "      <td>0.6</td>\n",
       "      <td>0.002844</td>\n",
       "      <td>0.0</td>\n",
       "      <td>RU</td>\n",
       "      <td>CDI</td>\n",
       "      <td>RU</td>\n",
       "      <td>PSE</td>\n",
       "      <td>0.735742</td>\n",
       "      <td>RU RU PSE</td>\n",
       "      <td>NaN</td>\n",
       "      <td>NaN</td>\n",
       "    </tr>\n",
       "    <tr>\n",
       "      <th>469298</th>\n",
       "      <td>1018790935981</td>\n",
       "      <td>SP</td>\n",
       "      <td>0.6</td>\n",
       "      <td>0.002844</td>\n",
       "      <td>0.0</td>\n",
       "      <td>RU</td>\n",
       "      <td>CDI</td>\n",
       "      <td>RU</td>\n",
       "      <td>PSE</td>\n",
       "      <td>0.735742</td>\n",
       "      <td>RU RU PSE</td>\n",
       "      <td>NaN</td>\n",
       "      <td>NaN</td>\n",
       "    </tr>\n",
       "    <tr>\n",
       "      <th>469332</th>\n",
       "      <td>1018790936041</td>\n",
       "      <td>SP</td>\n",
       "      <td>0.6</td>\n",
       "      <td>0.002844</td>\n",
       "      <td>0.0</td>\n",
       "      <td>RU</td>\n",
       "      <td>CDI</td>\n",
       "      <td>RU</td>\n",
       "      <td>PSE</td>\n",
       "      <td>0.735742</td>\n",
       "      <td>RU RU PSE</td>\n",
       "      <td>NaN</td>\n",
       "      <td>NaN</td>\n",
       "    </tr>\n",
       "    <tr>\n",
       "      <th>470474</th>\n",
       "      <td>1018790809631</td>\n",
       "      <td>SP</td>\n",
       "      <td>0.6</td>\n",
       "      <td>0.037100</td>\n",
       "      <td>0.0</td>\n",
       "      <td>RU</td>\n",
       "      <td>UTI</td>\n",
       "      <td>RU</td>\n",
       "      <td>PSE</td>\n",
       "      <td>0.735742</td>\n",
       "      <td>RU RU PSE</td>\n",
       "      <td>NaN</td>\n",
       "      <td>NaN</td>\n",
       "    </tr>\n",
       "    <tr>\n",
       "      <th>470475</th>\n",
       "      <td>1018790809811</td>\n",
       "      <td>SP</td>\n",
       "      <td>0.6</td>\n",
       "      <td>0.037100</td>\n",
       "      <td>0.0</td>\n",
       "      <td>RU</td>\n",
       "      <td>UTI</td>\n",
       "      <td>RU</td>\n",
       "      <td>PSE</td>\n",
       "      <td>0.735742</td>\n",
       "      <td>RU RU PSE</td>\n",
       "      <td>NaN</td>\n",
       "      <td>NaN</td>\n",
       "    </tr>\n",
       "    <tr>\n",
       "      <th>479888</th>\n",
       "      <td>1018790809251</td>\n",
       "      <td>SP</td>\n",
       "      <td>0.6</td>\n",
       "      <td>0.037100</td>\n",
       "      <td>0.0</td>\n",
       "      <td>RU</td>\n",
       "      <td>UTI</td>\n",
       "      <td>RU</td>\n",
       "      <td>PSE</td>\n",
       "      <td>0.735742</td>\n",
       "      <td>RU RU PSE</td>\n",
       "      <td>NaN</td>\n",
       "      <td>NaN</td>\n",
       "    </tr>\n",
       "    <tr>\n",
       "      <th>479889</th>\n",
       "      <td>1018790809431</td>\n",
       "      <td>SP</td>\n",
       "      <td>0.6</td>\n",
       "      <td>0.037100</td>\n",
       "      <td>0.0</td>\n",
       "      <td>RU</td>\n",
       "      <td>UTI</td>\n",
       "      <td>RU</td>\n",
       "      <td>PSE</td>\n",
       "      <td>0.735742</td>\n",
       "      <td>RU RU PSE</td>\n",
       "      <td>NaN</td>\n",
       "      <td>NaN</td>\n",
       "    </tr>\n",
       "    <tr>\n",
       "      <th>792239</th>\n",
       "      <td>1018673865701</td>\n",
       "      <td>SR</td>\n",
       "      <td>0.6</td>\n",
       "      <td>0.002844</td>\n",
       "      <td>0.0</td>\n",
       "      <td>RU</td>\n",
       "      <td>NaN</td>\n",
       "      <td>RU</td>\n",
       "      <td>PSE</td>\n",
       "      <td>0.735742</td>\n",
       "      <td>RU RU PSE</td>\n",
       "      <td>NaN</td>\n",
       "      <td>NaN</td>\n",
       "    </tr>\n",
       "  </tbody>\n",
       "</table>\n",
       "</div>"
      ],
      "text/plain": [
       "       EXPOSURE_UNIQUE_ID ASSET_CLASS  LGD        PD  EAD REGION  \\\n",
       "109654      1018657059731          SR  0.6  0.002844  0.0     RU   \n",
       "234234      1018698180661          BM  0.6  0.020000  0.0     EM   \n",
       "469296      1018790935861          SP  0.6  0.002844  0.0     RU   \n",
       "469297      1018790935921          SP  0.6  0.002844  0.0     RU   \n",
       "469298      1018790935981          SP  0.6  0.002844  0.0     RU   \n",
       "469332      1018790936041          SP  0.6  0.002844  0.0     RU   \n",
       "470474      1018790809631          SP  0.6  0.037100  0.0     RU   \n",
       "470475      1018790809811          SP  0.6  0.037100  0.0     RU   \n",
       "479888      1018790809251          SP  0.6  0.037100  0.0     RU   \n",
       "479889      1018790809431          SP  0.6  0.037100  0.0     RU   \n",
       "792239      1018673865701          SR  0.6  0.002844  0.0     RU   \n",
       "\n",
       "       INDUSTRY_GICS INDUSTRY SEGMENT     ALPHA      R_I_S  BETA_INDUSTRY  \\\n",
       "109654           NaN       RU     PSE  0.735742  RU RU PSE            NaN   \n",
       "234234           FIN       EM     SOV  0.596354  EM EM SOV            NaN   \n",
       "469296           CDI       RU     PSE  0.735742  RU RU PSE            NaN   \n",
       "469297           CDI       RU     PSE  0.735742  RU RU PSE            NaN   \n",
       "469298           CDI       RU     PSE  0.735742  RU RU PSE            NaN   \n",
       "469332           CDI       RU     PSE  0.735742  RU RU PSE            NaN   \n",
       "470474           UTI       RU     PSE  0.735742  RU RU PSE            NaN   \n",
       "470475           UTI       RU     PSE  0.735742  RU RU PSE            NaN   \n",
       "479888           UTI       RU     PSE  0.735742  RU RU PSE            NaN   \n",
       "479889           UTI       RU     PSE  0.735742  RU RU PSE            NaN   \n",
       "792239           NaN       RU     PSE  0.735742  RU RU PSE            NaN   \n",
       "\n",
       "        BETA_REGION  \n",
       "109654          NaN  \n",
       "234234          NaN  \n",
       "469296          NaN  \n",
       "469297          NaN  \n",
       "469298          NaN  \n",
       "469332          NaN  \n",
       "470474          NaN  \n",
       "470475          NaN  \n",
       "479888          NaN  \n",
       "479889          NaN  \n",
       "792239          NaN  "
      ]
     },
     "execution_count": 3,
     "metadata": {},
     "output_type": "execute_result"
    }
   ],
   "source": [
    "PORTFOLIO['R_I_S']=PORTFOLIO['REGION'] + ' ' + PORTFOLIO['INDUSTRY'] + ' ' + PORTFOLIO['SEGMENT']\n",
    "BETAS=pd.read_csv('rt_betas_2016_2.csv', delimiter=\";\")\n",
    "BETAS['R_I_S']=BETAS['REGION'] + ' ' + BETAS['INDUSTRY'] + ' ' + BETAS['SEGMENT']\n",
    "BETAS.drop(['REGION', 'INDUSTRY', 'SEGMENT'], axis = 1, inplace=True)\n",
    "PORTFOLIO = PORTFOLIO.merge(BETAS, 'left', on='R_I_S')\n",
    "print(PORTFOLIO.shape)\n",
    "PORTFOLIO[PORTFOLIO['BETA_INDUSTRY'].isnull()]"
   ]
  },
  {
   "cell_type": "code",
   "execution_count": 4,
   "metadata": {
    "collapsed": false
   },
   "outputs": [
    {
     "name": "stdout",
     "output_type": "stream",
     "text": [
      "(819931, 13)\n"
     ]
    }
   ],
   "source": [
    "PORTFOLIO = PORTFOLIO[~PORTFOLIO['BETA_INDUSTRY'].isnull()]\n",
    "print(PORTFOLIO.shape)"
   ]
  },
  {
   "cell_type": "code",
   "execution_count": 16,
   "metadata": {
    "collapsed": false
   },
   "outputs": [
    {
     "name": "stdout",
     "output_type": "stream",
     "text": [
      "(446214, 10)\n"
     ]
    }
   ],
   "source": [
    "PORTFOLIO = PORTFOLIO[~(PORTFOLIO['EAD'] == 0)]\n",
    "print(PORTFOLIO.shape)"
   ]
  },
  {
   "cell_type": "code",
   "execution_count": 6,
   "metadata": {
    "collapsed": false
   },
   "outputs": [],
   "source": [
    "alphas = dict(PORTFOLIO['ALPHA'].value_counts())"
   ]
  },
  {
   "cell_type": "code",
   "execution_count": 7,
   "metadata": {
    "collapsed": true
   },
   "outputs": [],
   "source": [
    "PORTFOLIO['EXCLUSIVE'] = PORTFOLIO['ALPHA'].map(alphas)"
   ]
  },
  {
   "cell_type": "code",
   "execution_count": 8,
   "metadata": {
    "collapsed": false
   },
   "outputs": [
    {
     "name": "stdout",
     "output_type": "stream",
     "text": [
      "(446214, 16)\n"
     ]
    },
    {
     "data": {
      "text/html": [
       "<div>\n",
       "<table border=\"1\" class=\"dataframe\">\n",
       "  <thead>\n",
       "    <tr style=\"text-align: right;\">\n",
       "      <th></th>\n",
       "      <th>EXPOSURE_UNIQUE_ID</th>\n",
       "      <th>ASSET_CLASS</th>\n",
       "      <th>LGD</th>\n",
       "      <th>PD</th>\n",
       "      <th>EAD</th>\n",
       "      <th>REGION</th>\n",
       "      <th>INDUSTRY_GICS</th>\n",
       "      <th>INDUSTRY</th>\n",
       "      <th>SEGMENT</th>\n",
       "      <th>ALPHA</th>\n",
       "      <th>R_I_S</th>\n",
       "      <th>BETA_INDUSTRY</th>\n",
       "      <th>BETA_REGION</th>\n",
       "      <th>EXCLUSIVE</th>\n",
       "      <th>R_I</th>\n",
       "      <th>CORRELATION</th>\n",
       "    </tr>\n",
       "  </thead>\n",
       "  <tbody>\n",
       "  </tbody>\n",
       "</table>\n",
       "</div>"
      ],
      "text/plain": [
       "Empty DataFrame\n",
       "Columns: [EXPOSURE_UNIQUE_ID, ASSET_CLASS, LGD, PD, EAD, REGION, INDUSTRY_GICS, INDUSTRY, SEGMENT, ALPHA, R_I_S, BETA_INDUSTRY, BETA_REGION, EXCLUSIVE, R_I, CORRELATION]\n",
       "Index: []"
      ]
     },
     "execution_count": 8,
     "metadata": {},
     "output_type": "execute_result"
    }
   ],
   "source": [
    "CORRELATIONS=pd.read_csv('rt_correlation_matrix_2016_1.csv', delimiter=\";\")\n",
    "CORRELATIONS['R_I']=CORRELATIONS['REGION'] + ' ' + CORRELATIONS['INDUSTRY']\n",
    "CORRELATIONS.drop(['REGION', 'INDUSTRY'], axis = 1, inplace=True)\n",
    "PORTFOLIO['R_I']=PORTFOLIO['REGION'] + ' ' + PORTFOLIO['INDUSTRY']\n",
    "PORTFOLIO = PORTFOLIO.merge(CORRELATIONS, 'left', on='R_I')\n",
    "print(PORTFOLIO.shape)\n",
    "PORTFOLIO[PORTFOLIO['CORRELATION'].isnull()]"
   ]
  },
  {
   "cell_type": "code",
   "execution_count": 9,
   "metadata": {
    "collapsed": false
   },
   "outputs": [
    {
     "data": {
      "text/html": [
       "<div>\n",
       "<table border=\"1\" class=\"dataframe\">\n",
       "  <thead>\n",
       "    <tr style=\"text-align: right;\">\n",
       "      <th></th>\n",
       "      <th>EXPOSURE_UNIQUE_ID</th>\n",
       "      <th>ASSET_CLASS</th>\n",
       "      <th>LGD</th>\n",
       "      <th>PD</th>\n",
       "      <th>EAD</th>\n",
       "      <th>REGION</th>\n",
       "      <th>INDUSTRY_GICS</th>\n",
       "      <th>INDUSTRY</th>\n",
       "      <th>SEGMENT</th>\n",
       "      <th>ALPHA</th>\n",
       "      <th>R_I_S</th>\n",
       "      <th>BETA_INDUSTRY</th>\n",
       "      <th>BETA_REGION</th>\n",
       "      <th>EXCLUSIVE</th>\n",
       "      <th>R_I</th>\n",
       "      <th>CORRELATION</th>\n",
       "    </tr>\n",
       "  </thead>\n",
       "  <tbody>\n",
       "    <tr>\n",
       "      <th>0</th>\n",
       "      <td>1018722890771</td>\n",
       "      <td>RI</td>\n",
       "      <td>0.5638</td>\n",
       "      <td>0.00109</td>\n",
       "      <td>95.97</td>\n",
       "      <td>RU</td>\n",
       "      <td>CDI</td>\n",
       "      <td>RU</td>\n",
       "      <td>RETOTH</td>\n",
       "      <td>0.265431</td>\n",
       "      <td>RU RU RETOTH</td>\n",
       "      <td>0.0</td>\n",
       "      <td>1.0</td>\n",
       "      <td>354921</td>\n",
       "      <td>RU RU</td>\n",
       "      <td>0.0</td>\n",
       "    </tr>\n",
       "    <tr>\n",
       "      <th>1</th>\n",
       "      <td>1018706534831</td>\n",
       "      <td>RI</td>\n",
       "      <td>0.5843</td>\n",
       "      <td>0.00356</td>\n",
       "      <td>17702.73</td>\n",
       "      <td>RU</td>\n",
       "      <td>CDI</td>\n",
       "      <td>RU</td>\n",
       "      <td>RETOTH</td>\n",
       "      <td>0.265431</td>\n",
       "      <td>RU RU RETOTH</td>\n",
       "      <td>0.0</td>\n",
       "      <td>1.0</td>\n",
       "      <td>354921</td>\n",
       "      <td>RU RU</td>\n",
       "      <td>0.0</td>\n",
       "    </tr>\n",
       "    <tr>\n",
       "      <th>2</th>\n",
       "      <td>1018718755831</td>\n",
       "      <td>RR</td>\n",
       "      <td>0.5638</td>\n",
       "      <td>0.00146</td>\n",
       "      <td>299.75</td>\n",
       "      <td>RU</td>\n",
       "      <td>CDI</td>\n",
       "      <td>RU</td>\n",
       "      <td>RETOTH</td>\n",
       "      <td>0.265431</td>\n",
       "      <td>RU RU RETOTH</td>\n",
       "      <td>0.0</td>\n",
       "      <td>1.0</td>\n",
       "      <td>354921</td>\n",
       "      <td>RU RU</td>\n",
       "      <td>0.0</td>\n",
       "    </tr>\n",
       "    <tr>\n",
       "      <th>3</th>\n",
       "      <td>1018659151331</td>\n",
       "      <td>RS</td>\n",
       "      <td>0.5843</td>\n",
       "      <td>0.05000</td>\n",
       "      <td>3.98</td>\n",
       "      <td>RU</td>\n",
       "      <td>CDI</td>\n",
       "      <td>RU</td>\n",
       "      <td>RETSBS</td>\n",
       "      <td>0.289024</td>\n",
       "      <td>RU RU RETSBS</td>\n",
       "      <td>0.0</td>\n",
       "      <td>1.0</td>\n",
       "      <td>58719</td>\n",
       "      <td>RU RU</td>\n",
       "      <td>0.0</td>\n",
       "    </tr>\n",
       "    <tr>\n",
       "      <th>4</th>\n",
       "      <td>1018680321021</td>\n",
       "      <td>RI</td>\n",
       "      <td>0.5843</td>\n",
       "      <td>0.01971</td>\n",
       "      <td>5515.41</td>\n",
       "      <td>RU</td>\n",
       "      <td>CDI</td>\n",
       "      <td>RU</td>\n",
       "      <td>RETOTH</td>\n",
       "      <td>0.265431</td>\n",
       "      <td>RU RU RETOTH</td>\n",
       "      <td>0.0</td>\n",
       "      <td>1.0</td>\n",
       "      <td>354921</td>\n",
       "      <td>RU RU</td>\n",
       "      <td>0.0</td>\n",
       "    </tr>\n",
       "  </tbody>\n",
       "</table>\n",
       "</div>"
      ],
      "text/plain": [
       "  EXPOSURE_UNIQUE_ID ASSET_CLASS     LGD       PD       EAD REGION  \\\n",
       "0      1018722890771          RI  0.5638  0.00109     95.97     RU   \n",
       "1      1018706534831          RI  0.5843  0.00356  17702.73     RU   \n",
       "2      1018718755831          RR  0.5638  0.00146    299.75     RU   \n",
       "3      1018659151331          RS  0.5843  0.05000      3.98     RU   \n",
       "4      1018680321021          RI  0.5843  0.01971   5515.41     RU   \n",
       "\n",
       "  INDUSTRY_GICS INDUSTRY SEGMENT     ALPHA         R_I_S  BETA_INDUSTRY  \\\n",
       "0           CDI       RU  RETOTH  0.265431  RU RU RETOTH            0.0   \n",
       "1           CDI       RU  RETOTH  0.265431  RU RU RETOTH            0.0   \n",
       "2           CDI       RU  RETOTH  0.265431  RU RU RETOTH            0.0   \n",
       "3           CDI       RU  RETSBS  0.289024  RU RU RETSBS            0.0   \n",
       "4           CDI       RU  RETOTH  0.265431  RU RU RETOTH            0.0   \n",
       "\n",
       "   BETA_REGION  EXCLUSIVE    R_I  CORRELATION  \n",
       "0          1.0     354921  RU RU          0.0  \n",
       "1          1.0     354921  RU RU          0.0  \n",
       "2          1.0     354921  RU RU          0.0  \n",
       "3          1.0      58719  RU RU          0.0  \n",
       "4          1.0     354921  RU RU          0.0  "
      ]
     },
     "execution_count": 9,
     "metadata": {},
     "output_type": "execute_result"
    }
   ],
   "source": [
    "PORTFOLIO.head()"
   ]
  },
  {
   "cell_type": "code",
   "execution_count": 10,
   "metadata": {
    "collapsed": true
   },
   "outputs": [],
   "source": [
    "def MC_group(pd, loss, z, l):\n",
    "    pd_cond = n.cdf((n.ppf(pd) - z*l)/(1 - l**2)**(0.5))\n",
    "    I = np.random.binomial(1,pd_cond)\n",
    "    return np.sum(I*loss)\n",
    "def Binomial_group(pd, loss, N, z, l):\n",
    "    pd_cond = {}\n",
    "    losses = 0\n",
    "    for pool in pd.keys():\n",
    "        pd_cond[pool] = n.cdf((n.ppf(pd[pool]) - z[pool]*l[pool])/(1 - l[pool]**2)**(0.5))\n",
    "        N_def = np.random.binomial(N[pool],pd_cond[pool])\n",
    "        losses = losses + loss[pool]/N[pool]*N_def\n",
    "    return losses\n",
    "def Approximation_group(pd, loss, N, z, l):\n",
    "    pd_cond = {}\n",
    "    losses = 0\n",
    "    for pool in pd.keys():\n",
    "        pd_cond[pool] = n.cdf((n.ppf(pd[pool]) - z[pool]*l[pool])/(1 - l[pool]**2)**(0.5))\n",
    "        losses = losses + loss[pool]*pd_cond[pool]\n",
    "    return losses"
   ]
  },
  {
   "cell_type": "code",
   "execution_count": 11,
   "metadata": {
    "collapsed": false
   },
   "outputs": [
    {
     "name": "stdout",
     "output_type": "stream",
     "text": [
      "(5229, 17) (2397, 17) (438588, 17) (446214, 17)\n"
     ]
    }
   ],
   "source": [
    "PORTFOLIO['LOSS'] = PORTFOLIO['EAD']*PORTFOLIO['LGD']\n",
    "T_POOL = 100000\n",
    "T_MC = 500000\n",
    "'''---------------------------------------------------------------------------------------------------'''\n",
    "# в GROUP1 могут попасть и другие клиенты: с уникальным alpha_i, суверенные заёмщики и т.д.\n",
    "gr_1 = ((PORTFOLIO['LOSS'] > T_MC) | (PORTFOLIO['REGION'] != 'RU') | (PORTFOLIO['EXCLUSIVE'] < 50))\n",
    "gr_2 = (PORTFOLIO['LOSS'] >= T_POOL) & (PORTFOLIO['LOSS'] <= T_MC) & (PORTFOLIO['REGION'] == 'RU') & (PORTFOLIO['EXCLUSIVE'] >= 50)\n",
    "gr_3 = (PORTFOLIO['LOSS'] < T_POOL) & (PORTFOLIO['REGION'] == 'RU') & (PORTFOLIO['EXCLUSIVE'] >= 50)\n",
    "GROUP1 = PORTFOLIO[gr_1]\n",
    "GROUP2 = PORTFOLIO[gr_2]\n",
    "GROUP3 = PORTFOLIO[gr_3]\n",
    "print(GROUP1.shape, GROUP2.shape, GROUP3.shape, PORTFOLIO.shape)"
   ]
  },
  {
   "cell_type": "code",
   "execution_count": 12,
   "metadata": {
    "collapsed": false
   },
   "outputs": [],
   "source": [
    "gr1_pd = np.array(GROUP1['PD'])\n",
    "gr1_l = np.array(GROUP1['ALPHA'])\n",
    "gr1_loss = np.array(GROUP1['EAD']*GROUP1['LGD'])"
   ]
  },
  {
   "cell_type": "code",
   "execution_count": 13,
   "metadata": {
    "collapsed": true
   },
   "outputs": [],
   "source": [
    "pd_intervals = [0.01, 0.02, 0.05, 0.1, 0.2, 0.3, 0.4, 0.5, 0.6, 0.7, 0.8, 0.9, 0.95, 0.98, 0.99, 1.0]\n",
    "#[0, 0.001, 0.002, 0.003, 0.004, 0.005, 0.0075, 0.01, 0.025, 0.05, 0.1, 0.2, 0.3, 0.6, 0.8, 1, 1.1]\n",
    "GROUP2['pd_seg'] = list((GROUP2['PD']).map(lambda x: np.sum([i*((x >= pd_intervals[i])&(x < pd_intervals[i+1])) for i in range(len(pd_intervals)-1)])))\n",
    "max_loss = np.max(GROUP2['LOSS'])+1\n",
    "loss_intervals = [25000, max_loss]\n",
    "#[100000,150000,200000,250000,300000,350000,400000,450000,max_loss]\n",
    "GROUP2['loss_seg'] = list((GROUP2['LOSS']).map(lambda x: np.sum([i*((x >= loss_intervals[i])&(x < loss_intervals[i+1])) for i in range(len(loss_intervals)-1)]) ))\n",
    "#[PORTFOLIO[(PORTFOLIO['LOSS'] >= a[i]) & (PORTFOLIO['LOSS'] < a[i+1])]['LOSS'].shape for i in range(len(a)-1)]\n",
    "GROUP2['loss_seg'] = GROUP2['loss_seg'].astype(str)\n",
    "GROUP2['pd_seg'] = GROUP2['pd_seg'].astype(str)\n",
    "#GROUP2['POOL'] = 'cl_' + GROUP2['INDUSTRY_SHORT'] + GROUP2['SIZE_SHORT'] + '_l_' + GROUP2['loss_seg'] + '_pd_' + GROUP2['pd_seg']\n",
    "GROUP2['POOL'] = 'cl_' + GROUP2['R_I_S'] + '_l_' + GROUP2['loss_seg'] + '_pd_' + GROUP2['pd_seg']\n",
    "GROUP2.drop(['pd_seg', 'loss_seg'], axis = 1, inplace=True)\n",
    "gr2_pd_pool = {}\n",
    "gr2_loss_pool = {}\n",
    "gr2_l_pool = {}\n",
    "gr2_N_pool = {}\n",
    "for pool in GROUP2['POOL'].unique():\n",
    "    PORTF_POOL = GROUP2[GROUP2['POOL'] == pool]\n",
    "    gr2_N_pool[pool] = PORTF_POOL.shape[0]\n",
    "    losses_pool = np.sum(PORTF_POOL['LOSS'])\n",
    "    gr2_pd_pool[pool] = np.sum(PORTF_POOL['PD']*PORTF_POOL['LOSS'])/losses_pool\n",
    "    gr2_loss_pool[pool] = losses_pool\n",
    "    gr2_l_pool[pool] = PORTF_POOL['ALPHA'].unique()[0]"
   ]
  },
  {
   "cell_type": "code",
   "execution_count": 14,
   "metadata": {
    "collapsed": false
   },
   "outputs": [],
   "source": [
    "pd_intervals = [0.01, 0.02, 0.05, 0.1, 0.2, 0.3, 0.4, 0.5, 0.6, 0.7, 0.8, 0.9, 0.95, 0.98, 0.99, 1.0]\n",
    "#[0, 0.00035, 0.0005, 0.001, 0.002, 0.003, 0.004, 0.005, 0.0075, 0.01, 0.015, 0.025, 0.04, 0.07, 0.1, 0.2, 0.3, 0.6, 0.8, 1, 1.1]\n",
    "GROUP3['pd_seg'] = list((GROUP3['PD']).map(lambda x: np.sum([i*((x >= pd_intervals[i])&(x < pd_intervals[i+1])) for i in range(len(pd_intervals)-1)])))\n",
    "#[PORTFOLIO[(PORTFOLIO['LOSS'] >= a[i]) & (PORTFOLIO['LOSS'] < a[i+1])]['LOSS'].shape for i in range(len(a)-1)]\n",
    "GROUP3['pd_seg'] = GROUP3['pd_seg'].astype(str)\n",
    "#GROUP3['POOL'] = 'cl_' + GROUP3['INDUSTRY_SHORT'] + GROUP3['SIZE_SHORT'] +'_pd_' + GROUP3['pd_seg']\n",
    "GROUP3['POOL'] = 'cl_' + GROUP3['R_I_S'] +'_pd_' + GROUP3['pd_seg']\n",
    "#GROUP3.drop(['pd_seg'], axis = 1, inplace=True)\n",
    "gr3_pd_pool = {}\n",
    "gr3_loss_pool = {}\n",
    "gr3_l_pool = {}\n",
    "gr3_N_pool = {}\n",
    "for pool in GROUP3['POOL'].unique():\n",
    "    PORTF_POOL = GROUP3[GROUP3['POOL'] == pool]\n",
    "    gr3_N_pool[pool] = PORTF_POOL.shape[0]\n",
    "    losses_pool = np.sum(PORTF_POOL['LOSS'])\n",
    "    if (losses_pool != 0):\n",
    "        gr3_pd_pool[pool] = np.sum(PORTF_POOL['PD']*PORTF_POOL['LOSS'])/losses_pool\n",
    "    else:\n",
    "        gr3_pd_pool[pool] = np.sum(PORTF_POOL['PD']*PORTF_POOL['LOSS'])\n",
    "    gr3_loss_pool[pool] = losses_pool\n",
    "    gr3_l_pool[pool] = PORTF_POOL['ALPHA'].unique()[0]"
   ]
  },
  {
   "cell_type": "code",
   "execution_count": 18,
   "metadata": {
    "collapsed": false
   },
   "outputs": [
    {
     "name": "stdout",
     "output_type": "stream",
     "text": [
      "RU RU RETOTH [[ 1.]]\n",
      "RU RU RETSBS [[ 1.]]\n",
      "RU RU RETMTG [[ 1.]]\n",
      "EM EM RETSBS [[ 1.]]\n",
      "RU MAT MIDC [[ 0.82257995]]\n",
      "RU FIN LARGEC [[ 1.00057247]]\n",
      "RU CST LARGEC [[ 0.62775945]]\n",
      "US US RETSBS [[ 1.]]\n",
      "RU CDI MIDC [[ 0.77507022]]\n",
      "RU MAT MNC [[ 0.82257995]]\n",
      "RU ENE MIDC [[ 0.80609048]]\n",
      "RU IND MIDC [[ 0.78837127]]\n",
      "RU IND LARGEC [[ 0.85988418]]\n",
      "RU CST MNC [[ 0.98961222]]\n",
      "HU HU RETSBS [[ 1.]]\n",
      "RU IND MNC [[ 0.78837127]]\n",
      "RU MAT LARGEC [[ 0.84239102]]\n",
      "WEU WEU RETSBS [[ 1.]]\n",
      "RU CST MIDC [[ 0.62775945]]\n",
      "CS CS RETOTH [[ 1.]]\n",
      "UK UK RETOTH [[ 1.]]\n",
      "EM IND MIDC [[ 0.89378179]]\n",
      "IT IT RETSBS [[ 1.]]\n",
      "EM EM RETOTH [[ 1.]]\n",
      "RU HLT LARGEC [[ 0.5792339]]\n",
      "RU HLT MIDC [[ 0.5792339]]\n",
      "DE DE RETSBS [[ 1.]]\n",
      "RU CDI LARGEC [[ 0.77507022]]\n",
      "TR TR RETSBS [[ 1.]]\n",
      "IT FIN MNC [[ 1.]]\n",
      "AT FIN MNC [[ 0.9996461]]\n",
      "SB SB RETSBS [[ 1.]]\n",
      "RU ITS MIDC [[ 0.7538969]]\n",
      "DE FIN MNC [[ 0.95521656]]\n",
      "RU ITS LARGEC [[ 0.8648143]]\n",
      "DE DE RETOTH [[ 1.]]\n",
      "WEU CST LARGEC [[ 0.79690013]]\n",
      "RU ITS MNC [[ 0.93164912]]\n",
      "RU TCM MNC [[ 1.]]\n",
      "RU ENE LARGEC [[ 0.80609048]]\n",
      "RU CDI MNC [[ 0.85826614]]\n",
      "RU RES LARGEC [[ 0.75506185]]\n",
      "RU FIN MIDC [[ 0.76635097]]\n",
      "UK FIN MNC [[ 0.90760007]]\n",
      "EM EM RETMTG [[ 1.]]\n",
      "EM ITS MIDC [[ 0.81260638]]\n",
      "RU FIN MNC [[ 0.86103979]]\n",
      "HR HR RETSBS [[ 1.]]\n",
      "IT IT RETOTH [[ 1.]]\n",
      "SB SB RETOTH [[ 1.]]\n",
      "UK UK RETMTG [[ 1.]]\n",
      "DC DC RETSBS [[ 1.]]\n",
      "DC DC RETOTH [[ 1.]]\n",
      "RU RES MNC [[ 0.75506185]]\n",
      "RU UTI MIDC [[ 0.67585804]]\n",
      "WEU WEU RETOTH [[ 1.]]\n",
      "WEU FIN MNC [[ 0.9280524]]\n",
      "RU HLT MNC [[ 0.5792339]]\n",
      "PL PL RETSBS [[ 1.]]\n",
      "WEU IND LARGEC [[ 0.93687583]]\n",
      "AT AT RETSBS [[ 1.]]\n",
      "US FIN MNC [[ 0.9058272]]\n",
      "RU ENE MNC [[ 0.99999994]]\n",
      "DC FIN MNC [[ 0.93134582]]\n",
      "BG BG RETOTH [[ 1.]]\n",
      "UK UK RETSBS [[ 1.]]\n",
      "UK MAT MNC [[ 0.885894]]\n",
      "RO RO RETSBS [[ 1.]]\n",
      "EM FIN LARGEC [[ 1.04057491]]\n",
      "CS CS RETSBS [[ 1.]]\n",
      "RU RES MIDC [[ 0.75506185]]\n",
      "EM MAT LARGEC [[ 0.92245238]]\n",
      "WEU CST MIDC [[ 0.79690013]]\n",
      "BG BG RETSBS [[ 1.]]\n",
      "WEU CDI MIDC [[ 0.91817922]]\n",
      "WEU RES MIDC [[ 0.85261141]]\n",
      "WEU WEU RETMTG [[ 1.]]\n",
      "SB FIN MNC [[ 0.78483477]]\n",
      "US US RETOTH [[ 1.]]\n",
      "WEU ENE LARGEC [[ 0.91431869]]\n",
      "RU TCM MIDC [[ 0.70258842]]\n",
      "EM TCM MNC [[ 0.99992186]]\n",
      "PL PL RETOTH [[ 1.]]\n",
      "UK ENE LARGEC [[ 0.92061159]]\n",
      "CS FIN MNC [[ 0.79103092]]\n",
      "EM FIN MNC [[ 0.87553381]]\n",
      "SI SI RETSBS [[ 1.]]\n",
      "TR FIN LARGEC [[ 1.]]\n",
      "EM TOT LARGEC [[ 0.90300048]]\n",
      "UK RES MIDC [[ 0.85312902]]\n",
      "PL FIN MNC [[ 0.99967381]]\n",
      "HR FIN MNC [[ 0.77225019]]\n",
      "DE DE RETMTG [[ 1.]]\n",
      "RU TCM LARGEC [[ 0.70258842]]\n",
      "RU UTI MNC [[ 0.67585804]]\n",
      "TR TR RETOTH [[ 1.]]\n",
      "UK CDI MIDC [[ 0.90076454]]\n",
      "WEU ENE MNC [[ 0.92498944]]\n",
      "WEU FIN MIDC [[ 0.9280524]]\n",
      "HU HU RETOTH [[ 1.]]\n",
      "UK FIN LARGEC [[ 0.90760007]]\n",
      "US IND LARGEC [[ 0.92828088]]\n",
      "WEU FIN LARGEC [[ 0.9280524]]\n",
      "EM FIN MIDC [[ 0.87553381]]\n",
      "AT CDI LARGEC [[ 0.86565978]]\n"
     ]
    }
   ],
   "source": [
    "Clusters = PORTFOLIO['R_I_S'].unique()\n",
    "for i in range(Clusters.shape[0]):\n",
    "    b = beta[Clusters[i]]\n",
    "    E = correlation_matrix[Clusters[i]]\n",
    "    print(Clusters[i], b.dot(E).dot(b.T))"
   ]
  },
  {
   "cell_type": "code",
   "execution_count": 19,
   "metadata": {
    "collapsed": false
   },
   "outputs": [
    {
     "data": {
      "text/plain": [
       "-0.86086405061706639"
      ]
     },
     "execution_count": 19,
     "metadata": {},
     "output_type": "execute_result"
    }
   ],
   "source": [
    "np.sum(beta[Clusters[0]]*np.random.multivariate_normal(np.zeros(2), correlation_matrix[Clusters[0]]))"
   ]
  },
  {
   "cell_type": "code",
   "execution_count": null,
   "metadata": {
    "collapsed": false
   },
   "outputs": [],
   "source": [
    "np.random.normal()*(1-np.sum(beta[Clusters[0]]**2)-np.prod(beta[Clusters[0]]*correlation_matrix[Clusters[0]]))**(0.5)"
   ]
  },
  {
   "cell_type": "code",
   "execution_count": 17,
   "metadata": {
    "collapsed": true
   },
   "outputs": [],
   "source": [
    "N_sim = 500000\n",
    "Clusters = PORTFOLIO['R_I_S'].unique()\n",
    "Loss = np.zeros(N_sim)\n",
    "gr3_pools = GROUP3['POOL'].unique()\n",
    "gr2_pools = GROUP2['POOL'].unique()\n",
    "start2 = time.time()\n",
    "beta = {}\n",
    "correlation_matrix = {}\n",
    "for cluster in Clusters:\n",
    "    beta[cluster] = np.array(BETAS[BETAS['R_I_S'] == cluster][['BETA_INDUSTRY','BETA_REGION']])\n",
    "    x = CORRELATIONS[CORRELATIONS['R_I'] == cluster.split()[0] + ' ' + cluster.split()[1]]['CORRELATION']\n",
    "    correlation_matrix[cluster] = np.array([[1,x],[x,1]])"
   ]
  },
  {
   "cell_type": "code",
   "execution_count": null,
   "metadata": {
    "collapsed": false
   },
   "outputs": [],
   "source": [
    "for i in range(N_sim):\n",
    "    start = time.time()\n",
    "    z={}\n",
    "    gr2_z_pool = {}\n",
    "    gr3_z_pool = {}\n",
    "    for cluster in Clusters:\n",
    "        z[cluster] = np.sum(beta[cluster]*np.random.multivariate_normal(np.zeros(2), correlation_matrix[cluster])) + np.random.normal()*(1-np.sum(beta[Clusters[0]]**2)-np.prod(beta[Clusters[0]]*correlation_matrix[Clusters[0]]))**(0.5)\n",
    "        for pool in gr2_pools:\n",
    "            if cluster in pool:\n",
    "                gr2_z_pool[pool] = z[cluster]\n",
    "        for pool in gr3_pools:\n",
    "            if cluster in pool:\n",
    "                gr3_z_pool[pool] = z[cluster]\n",
    "    gr1_z = np.array(GROUP1['R_I_S'].map(z))\n",
    "    L1 = MC_group(gr1_pd, gr1_loss, gr1_z, gr1_l)\n",
    "    L2 = Binomial_group(gr2_pd_pool, gr2_loss_pool, gr2_N_pool, gr2_z_pool, gr2_l_pool)\n",
    "    L3 = Approximation_group(gr3_pd_pool, gr3_loss_pool, gr3_N_pool, gr3_z_pool, gr3_l_pool)\n",
    "    Loss[i] = L1 + L2 + L3\n",
    "    stop = time.time()\n",
    "    if (i%5000 == 0):\n",
    "        stop2 = time.time()\n",
    "        print('Итерация: ', i, ', Время последней итераций: ', stop-start, 'Время 5000 итераций: ', stop2-start2)\n",
    "        start2 = time.time()"
   ]
  },
  {
   "cell_type": "code",
   "execution_count": null,
   "metadata": {
    "collapsed": false
   },
   "outputs": [],
   "source": [
    "bln = 1000000000\n",
    "k = 0.0018*N_sim #alpha = 0.9982, k = (1-alpha)*N_sim\n",
    "EC = np.sort(Loss)[-k] - np.mean(Loss)\n",
    "print(EC/bln)"
   ]
  },
  {
   "cell_type": "code",
   "execution_count": null,
   "metadata": {
    "collapsed": false
   },
   "outputs": [],
   "source": [
    "plt.hist(Loss, bins=100)\n",
    "plt.show()"
   ]
  },
  {
   "cell_type": "code",
   "execution_count": null,
   "metadata": {
    "collapsed": false
   },
   "outputs": [],
   "source": [
    "L = Loss/np.max(Loss)"
   ]
  },
  {
   "cell_type": "code",
   "execution_count": null,
   "metadata": {
    "collapsed": false
   },
   "outputs": [],
   "source": [
    "plt.hist(L, bins=100, normed=1)\n",
    "plt.show()"
   ]
  },
  {
   "cell_type": "code",
   "execution_count": null,
   "metadata": {
    "collapsed": false
   },
   "outputs": [],
   "source": [
    "np.mean(L)"
   ]
  },
  {
   "cell_type": "code",
   "execution_count": null,
   "metadata": {
    "collapsed": false
   },
   "outputs": [],
   "source": [
    "np.mean(PORTFOLIO['PD'])"
   ]
  },
  {
   "cell_type": "code",
   "execution_count": null,
   "metadata": {
    "collapsed": true
   },
   "outputs": [],
   "source": [
    "np.savetxt(\"L_for_all_may_.csv\", Loss, delimiter=\",\")"
   ]
  },
  {
   "cell_type": "code",
   "execution_count": null,
   "metadata": {
    "collapsed": true
   },
   "outputs": [],
   "source": []
  },
  {
   "cell_type": "code",
   "execution_count": null,
   "metadata": {
    "collapsed": false
   },
   "outputs": [],
   "source": [
    "np.sort(Loss)"
   ]
  },
  {
   "cell_type": "code",
   "execution_count": null,
   "metadata": {
    "collapsed": false
   },
   "outputs": [],
   "source": [
    "np.sum(PORTFOLIO['LOSS'])/1000000000"
   ]
  },
  {
   "cell_type": "code",
   "execution_count": null,
   "metadata": {
    "collapsed": true
   },
   "outputs": [],
   "source": []
  },
  {
   "cell_type": "code",
   "execution_count": null,
   "metadata": {
    "collapsed": true
   },
   "outputs": [],
   "source": []
  },
  {
   "cell_type": "code",
   "execution_count": null,
   "metadata": {
    "collapsed": false
   },
   "outputs": [],
   "source": [
    "Loss_ = np.sort(Loss)[:0.992*N_sim]\n",
    "plt.hist(Loss_, bins=250)\n",
    "plt.show()\n",
    "EC = np.sort(Loss_)[-k] - np.mean(Loss_)\n",
    "print(EC/bln)"
   ]
  },
  {
   "cell_type": "code",
   "execution_count": null,
   "metadata": {
    "collapsed": false
   },
   "outputs": [],
   "source": [
    "np.max(Loss_)/bln"
   ]
  },
  {
   "cell_type": "code",
   "execution_count": null,
   "metadata": {
    "collapsed": true
   },
   "outputs": [],
   "source": []
  },
  {
   "cell_type": "code",
   "execution_count": null,
   "metadata": {
    "collapsed": true
   },
   "outputs": [],
   "source": []
  },
  {
   "cell_type": "code",
   "execution_count": null,
   "metadata": {
    "collapsed": false
   },
   "outputs": [],
   "source": [
    "N_sim = 500000\n",
    "Clusters = PORTFOLIO['R_I_S'].unique()\n",
    "Loss = np.zeros(N_sim)\n",
    "gr3_pools = GROUP3['POOL'].unique()\n",
    "gr2_pools = GROUP2['POOL'].unique()\n",
    "start2 = time.time()\n",
    "beta = {}\n",
    "correlation_matrix = {}\n",
    "for cluster in Clusters:\n",
    "    beta[cluster] = np.array(BETAS[BETAS['R_I_S'] == cluster][['BETA_INDUSTRY','BETA_REGION']])\n",
    "    x = CORRELATIONS[CORRELATIONS['R_I'] == cluster.split()[0] + ' ' + cluster.split()[1]]['CORRELATION']\n",
    "    correlation_matrix[cluster] = np.array([[1,x],[x,1]])\n",
    "for i in range(N_sim):\n",
    "    start = time.time()\n",
    "    z={}\n",
    "    gr2_z_pool = {}\n",
    "    gr3_z_pool = {}\n",
    "    for cluster in Clusters:\n",
    "        z[cluster] = np.sum(beta[cluster]*np.random.multivariate_normal(np.zeros(2), correlation_matrix[cluster]))\n",
    "        for pool in gr2_pools:\n",
    "            if cluster in pool:\n",
    "                gr2_z_pool[pool] = z[cluster]\n",
    "        for pool in gr3_pools:\n",
    "            if cluster in pool:\n",
    "                gr3_z_pool[pool] = z[cluster]\n",
    "    gr1_z = np.array(GROUP1['R_I_S'].map(z))\n",
    "    L1 = MC_group(gr1_pd, gr1_loss, gr1_z, gr1_l)\n",
    "    L2 = Binomial_group(gr2_pd_pool, gr2_loss_pool, gr2_N_pool, gr2_z_pool, gr2_l_pool)\n",
    "    L3 = Approximation_group(gr3_pd_pool, gr3_loss_pool, gr3_N_pool, gr3_z_pool, gr3_l_pool)\n",
    "    Loss[i] = L1 + L2 + L3\n",
    "    stop = time.time()\n",
    "    if (i%1000 == 0):\n",
    "        stop2 = time.time()\n",
    "        print('Итерация: ', i, ', Время последней итераций: ', stop-start, 'Время 1000 итераций: ', stop2-start2)\n",
    "        start2 = time.time()"
   ]
  },
  {
   "cell_type": "code",
   "execution_count": null,
   "metadata": {
    "collapsed": false
   },
   "outputs": [],
   "source": [
    "bln = 1000000000\n",
    "k = 0.0018*N_sim #alpha = 0.9982, k = (1-alpha)*N_sim\n",
    "EC = np.sort(Loss)[-k] - np.mean(Loss)\n",
    "print(EC/bln)\n",
    "plt.hist(Loss, bins=100)\n",
    "plt.show()\n",
    "np.savetxt(\"L_for_all_jan_2.csv\", Loss, delimiter=\",\")"
   ]
  },
  {
   "cell_type": "code",
   "execution_count": 5,
   "metadata": {
    "collapsed": false
   },
   "outputs": [],
   "source": [
    "L1 = pd.read_csv('L_for_all_may_.csv')\n",
    "#L2 = pd.read_csv('L_for_all_jan_2.csv')"
   ]
  },
  {
   "cell_type": "code",
   "execution_count": null,
   "metadata": {
    "collapsed": false
   },
   "outputs": [],
   "source": [
    "L = pd.concat([L1, L2])"
   ]
  },
  {
   "cell_type": "code",
   "execution_count": 6,
   "metadata": {
    "collapsed": false
   },
   "outputs": [
    {
     "data": {
      "text/html": [
       "<div>\n",
       "<table border=\"1\" class=\"dataframe\">\n",
       "  <thead>\n",
       "    <tr style=\"text-align: right;\">\n",
       "      <th></th>\n",
       "      <th>L</th>\n",
       "    </tr>\n",
       "  </thead>\n",
       "  <tbody>\n",
       "    <tr>\n",
       "      <th>0</th>\n",
       "      <td>59000000.0</td>\n",
       "    </tr>\n",
       "    <tr>\n",
       "      <th>1</th>\n",
       "      <td>104000000.0</td>\n",
       "    </tr>\n",
       "    <tr>\n",
       "      <th>2</th>\n",
       "      <td>194000000.0</td>\n",
       "    </tr>\n",
       "    <tr>\n",
       "      <th>3</th>\n",
       "      <td>76700000.0</td>\n",
       "    </tr>\n",
       "    <tr>\n",
       "      <th>4</th>\n",
       "      <td>77000000.0</td>\n",
       "    </tr>\n",
       "  </tbody>\n",
       "</table>\n",
       "</div>"
      ],
      "text/plain": [
       "             L\n",
       "0   59000000.0\n",
       "1  104000000.0\n",
       "2  194000000.0\n",
       "3   76700000.0\n",
       "4   77000000.0"
      ]
     },
     "execution_count": 6,
     "metadata": {},
     "output_type": "execute_result"
    }
   ],
   "source": [
    "L1.head()"
   ]
  },
  {
   "cell_type": "code",
   "execution_count": 7,
   "metadata": {
    "collapsed": false
   },
   "outputs": [],
   "source": [
    "Loss = np.array(L1['L'])"
   ]
  },
  {
   "cell_type": "code",
   "execution_count": 10,
   "metadata": {
    "collapsed": false
   },
   "outputs": [
    {
     "name": "stdout",
     "output_type": "stream",
     "text": [
      "0.190698315\n"
     ]
    },
    {
     "data": {
      "image/png": "[encoded data removed]",
      "text/plain": [
       "<matplotlib.figure.Figure at 0xa334b90>"
      ]
     },
     "metadata": {},
     "output_type": "display_data"
    }
   ],
   "source": [
    "bln = 1000000000\n",
    "N_sim = 1000000\n",
    "k = 0.0018*N_sim #alpha = 0.9982, k = (1-alpha)*N_sim\n",
    "EC = np.sort(Loss)[-k] - np.mean(Loss)\n",
    "print(EC/bln)\n",
    "plt.hist(Loss, bins=100)\n",
    "plt.show()"
   ]
  },
  {
   "cell_type": "code",
   "execution_count": 11,
   "metadata": {
    "collapsed": false
   },
   "outputs": [],
   "source": [
    "L = Loss/np.max(Loss)"
   ]
  },
  {
   "cell_type": "code",
   "execution_count": 12,
   "metadata": {
    "collapsed": false
   },
   "outputs": [
    {
     "data": {
      "image/png": "[encoded data removed]",
      "text/plain": [
       "<matplotlib.figure.Figure at 0xabf8f70>"
      ]
     },
     "metadata": {},
     "output_type": "display_data"
    }
   ],
   "source": [
    "plt.hist(L, bins=100)\n",
    "plt.show()"
   ]
  },
  {
   "cell_type": "code",
   "execution_count": 13,
   "metadata": {
    "collapsed": false
   },
   "outputs": [
    {
     "data": {
      "text/plain": [
       "0.11937186114352392"
      ]
     },
     "execution_count": 13,
     "metadata": {},
     "output_type": "execute_result"
    }
   ],
   "source": [
    "np.mean(L)"
   ]
  },
  {
   "cell_type": "code",
   "execution_count": null,
   "metadata": {
    "collapsed": true
   },
   "outputs": [],
   "source": []
  }
 ],
 "metadata": {
  "anaconda-cloud": {},
  "kernelspec": {
   "display_name": "Python [default]",
   "language": "python",
   "name": "python3"
  },
  "language_info": {
   "codemirror_mode": {
    "name": "ipython",
    "version": 3
   },
   "file_extension": ".py",
   "mimetype": "text/x-python",
   "name": "python",
   "nbconvert_exporter": "python",
   "pygments_lexer": "ipython3",
   "version": "3.5.2"
  }
 },
 "nbformat": 4,
 "nbformat_minor": 1
}
